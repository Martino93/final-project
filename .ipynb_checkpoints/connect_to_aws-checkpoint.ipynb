{
 "cells": [
  {
   "cell_type": "code",
   "execution_count": 1,
   "metadata": {},
   "outputs": [
    {
     "name": "stdout",
     "output_type": "stream",
     "text": [
      "Requirement already satisfied: sqlalchemy in c:\\users\\dyi\\anaconda3\\lib\\site-packages (1.3.1)\n",
      "Collecting psycopg2\n",
      "  Downloading https://files.pythonhosted.org/packages/1a/85/853f11abfccfd581b099e5ae5f2dd807cc2919745b13d14e565022fd821c/psycopg2-2.8.4-cp37-cp37m-win_amd64.whl (1.1MB)\n",
      "Installing collected packages: psycopg2\n",
      "Successfully installed psycopg2-2.8.4\n"
     ]
    }
   ],
   "source": [
    "!pip install sqlalchemy psycopg2"
   ]
  },
  {
   "cell_type": "code",
   "execution_count": 7,
   "metadata": {},
   "outputs": [],
   "source": [
    "import pandas as pd\n",
    "import psycopg2\n",
    "import sqlalchemy\n",
    "import pprint"
   ]
  },
  {
   "cell_type": "code",
   "execution_count": 8,
   "metadata": {},
   "outputs": [],
   "source": [
    "conn=psycopg2.connect(\n",
    "    host='diabetes-data.c9389nczmoxm.us-east-2.rds.amazonaws.com',\n",
    "    port=int(5432),\n",
    "    user=\"Finalproject2019\",\n",
    "    password=\"Finalproject2019*\",\n",
    "    database=\"Finalproject2019_db\")"
   ]
  },
  {
   "cell_type": "code",
   "execution_count": 10,
   "metadata": {},
   "outputs": [],
   "source": [
    "df=pd.read_sql('select * from diabetes',conn)"
   ]
  },
  {
   "cell_type": "code",
   "execution_count": 11,
   "metadata": {},
   "outputs": [
    {
     "data": {
      "text/html": [
       "<div>\n",
       "<style scoped>\n",
       "    .dataframe tbody tr th:only-of-type {\n",
       "        vertical-align: middle;\n",
       "    }\n",
       "\n",
       "    .dataframe tbody tr th {\n",
       "        vertical-align: top;\n",
       "    }\n",
       "\n",
       "    .dataframe thead th {\n",
       "        text-align: right;\n",
       "    }\n",
       "</style>\n",
       "<table border=\"1\" class=\"dataframe\">\n",
       "  <thead>\n",
       "    <tr style=\"text-align: right;\">\n",
       "      <th></th>\n",
       "      <th>seqn</th>\n",
       "      <th>age</th>\n",
       "      <th>systolic</th>\n",
       "      <th>diastolic</th>\n",
       "      <th>waist_circumference</th>\n",
       "      <th>bmi</th>\n",
       "      <th>arm_circumference</th>\n",
       "      <th>pulse_60s</th>\n",
       "      <th>glycohemoglobin</th>\n",
       "    </tr>\n",
       "  </thead>\n",
       "  <tbody>\n",
       "    <tr>\n",
       "      <th>0</th>\n",
       "      <td>73557</td>\n",
       "      <td>69</td>\n",
       "      <td>114.0</td>\n",
       "      <td>76.0</td>\n",
       "      <td>100.0</td>\n",
       "      <td>26.7</td>\n",
       "      <td>35.3</td>\n",
       "      <td>86.0</td>\n",
       "      <td>13.9</td>\n",
       "    </tr>\n",
       "    <tr>\n",
       "      <th>1</th>\n",
       "      <td>73558</td>\n",
       "      <td>54</td>\n",
       "      <td>160.0</td>\n",
       "      <td>80.0</td>\n",
       "      <td>107.6</td>\n",
       "      <td>28.6</td>\n",
       "      <td>34.7</td>\n",
       "      <td>74.0</td>\n",
       "      <td>9.1</td>\n",
       "    </tr>\n",
       "    <tr>\n",
       "      <th>2</th>\n",
       "      <td>73559</td>\n",
       "      <td>72</td>\n",
       "      <td>140.0</td>\n",
       "      <td>76.0</td>\n",
       "      <td>109.2</td>\n",
       "      <td>28.9</td>\n",
       "      <td>33.5</td>\n",
       "      <td>68.0</td>\n",
       "      <td>8.9</td>\n",
       "    </tr>\n",
       "    <tr>\n",
       "      <th>3</th>\n",
       "      <td>73560</td>\n",
       "      <td>9</td>\n",
       "      <td>102.0</td>\n",
       "      <td>34.0</td>\n",
       "      <td>61.0</td>\n",
       "      <td>17.1</td>\n",
       "      <td>21.0</td>\n",
       "      <td>64.0</td>\n",
       "      <td>NaN</td>\n",
       "    </tr>\n",
       "    <tr>\n",
       "      <th>4</th>\n",
       "      <td>73561</td>\n",
       "      <td>73</td>\n",
       "      <td>134.0</td>\n",
       "      <td>88.0</td>\n",
       "      <td>NaN</td>\n",
       "      <td>19.7</td>\n",
       "      <td>25.2</td>\n",
       "      <td>92.0</td>\n",
       "      <td>4.9</td>\n",
       "    </tr>\n",
       "  </tbody>\n",
       "</table>\n",
       "</div>"
      ],
      "text/plain": [
       "    seqn  age  systolic  diastolic  waist_circumference   bmi  \\\n",
       "0  73557   69     114.0       76.0                100.0  26.7   \n",
       "1  73558   54     160.0       80.0                107.6  28.6   \n",
       "2  73559   72     140.0       76.0                109.2  28.9   \n",
       "3  73560    9     102.0       34.0                 61.0  17.1   \n",
       "4  73561   73     134.0       88.0                  NaN  19.7   \n",
       "\n",
       "   arm_circumference  pulse_60s  glycohemoglobin  \n",
       "0               35.3       86.0             13.9  \n",
       "1               34.7       74.0              9.1  \n",
       "2               33.5       68.0              8.9  \n",
       "3               21.0       64.0              NaN  \n",
       "4               25.2       92.0              4.9  "
      ]
     },
     "execution_count": 11,
     "metadata": {},
     "output_type": "execute_result"
    }
   ],
   "source": [
    "df.head()"
   ]
  },
  {
   "cell_type": "code",
   "execution_count": null,
   "metadata": {},
   "outputs": [],
   "source": []
  }
 ],
 "metadata": {
  "kernelspec": {
   "display_name": "Python 3",
   "language": "python",
   "name": "python3"
  },
  "language_info": {
   "codemirror_mode": {
    "name": "ipython",
    "version": 3
   },
   "file_extension": ".py",
   "mimetype": "text/x-python",
   "name": "python",
   "nbconvert_exporter": "python",
   "pygments_lexer": "ipython3",
   "version": "3.7.3"
  }
 },
 "nbformat": 4,
 "nbformat_minor": 2
}
