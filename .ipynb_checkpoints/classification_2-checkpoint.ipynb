{
 "cells": [
  {
   "cell_type": "code",
   "execution_count": 1,
   "metadata": {},
   "outputs": [],
   "source": [
    "import pandas as pd\n",
    "import numpy as np\n",
    "import matplotlib.pyplot as plt\n",
    "from functools import reduce\n",
    "from sklearn.metrics import accuracy_score \n",
    "from sklearn.impute import SimpleImputer\n",
    "import seaborn as sns\n",
    "from sklearn.preprocessing import OneHotEncoder, LabelEncoder"
   ]
  },
  {
   "cell_type": "code",
   "execution_count": 2,
   "metadata": {},
   "outputs": [],
   "source": [
    "%matplotlib inline"
   ]
  },
  {
   "cell_type": "markdown",
   "metadata": {},
   "source": [
    "# Attempt 2:\n",
    "### 3 Outcomes, preprocessing pipeline, stratified split, PCA"
   ]
  },
  {
   "cell_type": "code",
   "execution_count": 4,
   "metadata": {},
   "outputs": [
    {
     "name": "stdout",
     "output_type": "stream",
     "text": [
      "columns: 693\n",
      "rows: 9813\n"
     ]
    },
    {
     "data": {
      "text/html": [
       "<div>\n",
       "<style scoped>\n",
       "    .dataframe tbody tr th:only-of-type {\n",
       "        vertical-align: middle;\n",
       "    }\n",
       "\n",
       "    .dataframe tbody tr th {\n",
       "        vertical-align: top;\n",
       "    }\n",
       "\n",
       "    .dataframe thead th {\n",
       "        text-align: right;\n",
       "    }\n",
       "</style>\n",
       "<table border=\"1\" class=\"dataframe\">\n",
       "  <thead>\n",
       "    <tr style=\"text-align: right;\">\n",
       "      <th></th>\n",
       "      <th>SEQN</th>\n",
       "      <th>RIAGENDR</th>\n",
       "      <th>RIDAGEYR</th>\n",
       "      <th>RIDRETH3</th>\n",
       "      <th>DMDEDUC3</th>\n",
       "      <th>DMDEDUC2</th>\n",
       "      <th>INDHHIN2</th>\n",
       "      <th>BPXSY2</th>\n",
       "      <th>BPXDI2</th>\n",
       "      <th>BMXWAIST</th>\n",
       "      <th>MGDCGSZ</th>\n",
       "      <th>BMXBMI</th>\n",
       "      <th>BMXARMC</th>\n",
       "      <th>BPXPLS</th>\n",
       "      <th>LBXGH</th>\n",
       "    </tr>\n",
       "  </thead>\n",
       "  <tbody>\n",
       "    <tr>\n",
       "      <td>0</td>\n",
       "      <td>73557</td>\n",
       "      <td>1</td>\n",
       "      <td>69</td>\n",
       "      <td>4</td>\n",
       "      <td>NaN</td>\n",
       "      <td>3.0</td>\n",
       "      <td>4.0</td>\n",
       "      <td>114.0</td>\n",
       "      <td>76.0</td>\n",
       "      <td>100.0</td>\n",
       "      <td>55.2</td>\n",
       "      <td>26.7</td>\n",
       "      <td>35.3</td>\n",
       "      <td>86.0</td>\n",
       "      <td>13.9</td>\n",
       "    </tr>\n",
       "    <tr>\n",
       "      <td>1</td>\n",
       "      <td>73558</td>\n",
       "      <td>1</td>\n",
       "      <td>54</td>\n",
       "      <td>3</td>\n",
       "      <td>NaN</td>\n",
       "      <td>3.0</td>\n",
       "      <td>7.0</td>\n",
       "      <td>160.0</td>\n",
       "      <td>80.0</td>\n",
       "      <td>107.6</td>\n",
       "      <td>61.5</td>\n",
       "      <td>28.6</td>\n",
       "      <td>34.7</td>\n",
       "      <td>74.0</td>\n",
       "      <td>9.1</td>\n",
       "    </tr>\n",
       "  </tbody>\n",
       "</table>\n",
       "</div>"
      ],
      "text/plain": [
       "    SEQN  RIAGENDR  RIDAGEYR  RIDRETH3  DMDEDUC3  DMDEDUC2  INDHHIN2  BPXSY2  \\\n",
       "0  73557         1        69         4       NaN       3.0       4.0   114.0   \n",
       "1  73558         1        54         3       NaN       3.0       7.0   160.0   \n",
       "\n",
       "   BPXDI2  BMXWAIST  MGDCGSZ  BMXBMI  BMXARMC  BPXPLS  LBXGH  \n",
       "0    76.0     100.0     55.2    26.7     35.3    86.0   13.9  \n",
       "1    80.0     107.6     61.5    28.6     34.7    74.0    9.1  "
      ]
     },
     "execution_count": 4,
     "metadata": {},
     "output_type": "execute_result"
    }
   ],
   "source": [
    "file_1 = pd.read_csv('resources/demographic.csv')\n",
    "file_2 = pd.read_csv('resources/examination.csv')\n",
    "file_3 = pd.read_csv('resources/labs.csv')\n",
    "\n",
    "df_1 = pd.DataFrame(file_1)\n",
    "df_2 = pd.DataFrame(file_2)\n",
    "df_3 = pd.DataFrame(file_3)\n",
    "\n",
    "\n",
    "dataframes = [df_1,df_2,df_3]\n",
    "\n",
    "merged=reduce(lambda left,right: pd.merge(left, right, on=['SEQN'], how='inner'), dataframes)\n",
    "merged.dropna(how='all', axis=1)\n",
    "merged.dropna(how='all', axis=0)\n",
    "\n",
    "df = reduce(lambda left, right: pd.merge(left,right,on='SEQN'), dataframes)\n",
    "\n",
    "print('columns: ' + str(len(df.columns.tolist())))\n",
    "print('rows: ' + str(len(df.index)))\n",
    "\n",
    "df = df.loc[:,['SEQN','RIAGENDR','RIDAGEYR','RIDRETH3','DMDEDUC3','DMDEDUC2','INDHHIN2',\\\n",
    "    'BPXSY2','BPXDI2','BMXWAIST','MGDCGSZ','BMXBMI','BMXARMC','BPXPLS','LBXGH']]\n",
    "\n",
    "df.head(2)"
   ]
  },
  {
   "cell_type": "code",
   "execution_count": 5,
   "metadata": {},
   "outputs": [
    {
     "name": "stdout",
     "output_type": "stream",
     "text": [
      "percent educ available: 0.8727198614083359\n",
      "percent bmi available: 0.9227555283807195\n"
     ]
    }
   ],
   "source": [
    "print(\"percent educ available: \" + str((5762+2802) / 9813)) \n",
    "print(\"percent bmi available: \" + str((9055) / 9813)) "
   ]
  },
  {
   "cell_type": "code",
   "execution_count": 6,
   "metadata": {},
   "outputs": [],
   "source": [
    "df_final = df.rename(columns ={\n",
    "    'SEQN': 'seqn',\n",
    "    'RIAGENDR': 'gender',\n",
    "    'RIDAGEYR': 'age',\n",
    "    'RIDRETH3': 'ethnicity',\n",
    "    'DMDEDUC3': 'education_child',\n",
    "    'DMDEDUC2': 'education_adult',\n",
    "    'INDHHIN2': 'household_income',\n",
    "    'BMXWAIST': 'waist_circumference',\n",
    "    'MGDCGSZ': 'grip',\n",
    "    'BMXBMI': 'bmi',\n",
    "    'BMXARMC': 'arm_circumference',\n",
    "    'BPXPLS': 'pulse_60s',\n",
    "    'BPXSY2': 'systolic',\n",
    "    'BPXDI2': 'diastolic',\n",
    "    'LBXGH': 'glycohemoglobin'\n",
    "})"
   ]
  },
  {
   "cell_type": "code",
   "execution_count": 7,
   "metadata": {},
   "outputs": [],
   "source": [
    "# WebMD definition of diabetes based on glycated hemoglobin levels.\n",
    "# 3 classification labels\n",
    "\n",
    "conditions = [\n",
    "    (df_final['glycohemoglobin'] < 5.7),\n",
    "    (df_final['glycohemoglobin'] >= 5.7) & (df_final['glycohemoglobin']<=6.4),\n",
    "    (df_final['glycohemoglobin']>6.4)\n",
    "]\n",
    "\n",
    "diagnosis = [0,1,2]\n",
    "\n",
    "df_final['diabetes'] = np.select(conditions, diagnosis)"
   ]
  },
  {
   "cell_type": "code",
   "execution_count": 8,
   "metadata": {
    "scrolled": true
   },
   "outputs": [
    {
     "data": {
      "text/html": [
       "<div>\n",
       "<style scoped>\n",
       "    .dataframe tbody tr th:only-of-type {\n",
       "        vertical-align: middle;\n",
       "    }\n",
       "\n",
       "    .dataframe tbody tr th {\n",
       "        vertical-align: top;\n",
       "    }\n",
       "\n",
       "    .dataframe thead th {\n",
       "        text-align: right;\n",
       "    }\n",
       "</style>\n",
       "<table border=\"1\" class=\"dataframe\">\n",
       "  <thead>\n",
       "    <tr style=\"text-align: right;\">\n",
       "      <th></th>\n",
       "      <th>seqn</th>\n",
       "      <th>gender</th>\n",
       "      <th>age</th>\n",
       "      <th>ethnicity</th>\n",
       "      <th>education_child</th>\n",
       "      <th>education_adult</th>\n",
       "      <th>household_income</th>\n",
       "      <th>systolic</th>\n",
       "      <th>diastolic</th>\n",
       "      <th>waist_circumference</th>\n",
       "      <th>grip</th>\n",
       "      <th>bmi</th>\n",
       "      <th>arm_circumference</th>\n",
       "      <th>pulse_60s</th>\n",
       "      <th>glycohemoglobin</th>\n",
       "      <th>diabetes</th>\n",
       "    </tr>\n",
       "  </thead>\n",
       "  <tbody>\n",
       "    <tr>\n",
       "      <td>count</td>\n",
       "      <td>9813.000000</td>\n",
       "      <td>9813.000000</td>\n",
       "      <td>9813.000000</td>\n",
       "      <td>9813.000000</td>\n",
       "      <td>2703.000000</td>\n",
       "      <td>5588.000000</td>\n",
       "      <td>9700.000000</td>\n",
       "      <td>7409.000000</td>\n",
       "      <td>7409.000000</td>\n",
       "      <td>8661.000000</td>\n",
       "      <td>7677.000000</td>\n",
       "      <td>9055.000000</td>\n",
       "      <td>9301.000000</td>\n",
       "      <td>7549.000000</td>\n",
       "      <td>6643.000000</td>\n",
       "      <td>9813.00000</td>\n",
       "    </tr>\n",
       "    <tr>\n",
       "      <td>mean</td>\n",
       "      <td>78644.559971</td>\n",
       "      <td>1.507694</td>\n",
       "      <td>31.629573</td>\n",
       "      <td>3.277897</td>\n",
       "      <td>6.179430</td>\n",
       "      <td>3.520222</td>\n",
       "      <td>10.831959</td>\n",
       "      <td>118.230530</td>\n",
       "      <td>65.237954</td>\n",
       "      <td>87.272047</td>\n",
       "      <td>63.054891</td>\n",
       "      <td>25.678244</td>\n",
       "      <td>28.485765</td>\n",
       "      <td>74.416214</td>\n",
       "      <td>5.642556</td>\n",
       "      <td>0.27647</td>\n",
       "    </tr>\n",
       "    <tr>\n",
       "      <td>std</td>\n",
       "      <td>2938.592266</td>\n",
       "      <td>0.499966</td>\n",
       "      <td>24.397553</td>\n",
       "      <td>1.607957</td>\n",
       "      <td>5.797469</td>\n",
       "      <td>1.232772</td>\n",
       "      <td>13.754352</td>\n",
       "      <td>18.181197</td>\n",
       "      <td>15.700239</td>\n",
       "      <td>22.542605</td>\n",
       "      <td>25.098439</td>\n",
       "      <td>7.955137</td>\n",
       "      <td>7.961971</td>\n",
       "      <td>12.367969</td>\n",
       "      <td>1.004850</td>\n",
       "      <td>0.56848</td>\n",
       "    </tr>\n",
       "    <tr>\n",
       "      <td>min</td>\n",
       "      <td>73557.000000</td>\n",
       "      <td>1.000000</td>\n",
       "      <td>0.000000</td>\n",
       "      <td>1.000000</td>\n",
       "      <td>0.000000</td>\n",
       "      <td>1.000000</td>\n",
       "      <td>1.000000</td>\n",
       "      <td>66.000000</td>\n",
       "      <td>0.000000</td>\n",
       "      <td>40.200000</td>\n",
       "      <td>8.000000</td>\n",
       "      <td>12.100000</td>\n",
       "      <td>10.400000</td>\n",
       "      <td>40.000000</td>\n",
       "      <td>3.500000</td>\n",
       "      <td>0.00000</td>\n",
       "    </tr>\n",
       "    <tr>\n",
       "      <td>25%</td>\n",
       "      <td>76092.000000</td>\n",
       "      <td>1.000000</td>\n",
       "      <td>10.000000</td>\n",
       "      <td>2.000000</td>\n",
       "      <td>2.000000</td>\n",
       "      <td>3.000000</td>\n",
       "      <td>5.000000</td>\n",
       "      <td>106.000000</td>\n",
       "      <td>58.000000</td>\n",
       "      <td>71.200000</td>\n",
       "      <td>45.600000</td>\n",
       "      <td>19.700000</td>\n",
       "      <td>22.600000</td>\n",
       "      <td>66.000000</td>\n",
       "      <td>5.200000</td>\n",
       "      <td>0.00000</td>\n",
       "    </tr>\n",
       "    <tr>\n",
       "      <td>50%</td>\n",
       "      <td>78643.000000</td>\n",
       "      <td>2.000000</td>\n",
       "      <td>27.000000</td>\n",
       "      <td>3.000000</td>\n",
       "      <td>6.000000</td>\n",
       "      <td>4.000000</td>\n",
       "      <td>8.000000</td>\n",
       "      <td>116.000000</td>\n",
       "      <td>66.000000</td>\n",
       "      <td>87.800000</td>\n",
       "      <td>60.300000</td>\n",
       "      <td>24.700000</td>\n",
       "      <td>29.300000</td>\n",
       "      <td>74.000000</td>\n",
       "      <td>5.400000</td>\n",
       "      <td>0.00000</td>\n",
       "    </tr>\n",
       "    <tr>\n",
       "      <td>75%</td>\n",
       "      <td>81191.000000</td>\n",
       "      <td>2.000000</td>\n",
       "      <td>52.000000</td>\n",
       "      <td>4.000000</td>\n",
       "      <td>9.000000</td>\n",
       "      <td>5.000000</td>\n",
       "      <td>14.000000</td>\n",
       "      <td>128.000000</td>\n",
       "      <td>74.000000</td>\n",
       "      <td>102.800000</td>\n",
       "      <td>80.700000</td>\n",
       "      <td>30.200000</td>\n",
       "      <td>34.000000</td>\n",
       "      <td>82.000000</td>\n",
       "      <td>5.800000</td>\n",
       "      <td>0.00000</td>\n",
       "    </tr>\n",
       "    <tr>\n",
       "      <td>max</td>\n",
       "      <td>83731.000000</td>\n",
       "      <td>2.000000</td>\n",
       "      <td>80.000000</td>\n",
       "      <td>7.000000</td>\n",
       "      <td>99.000000</td>\n",
       "      <td>9.000000</td>\n",
       "      <td>99.000000</td>\n",
       "      <td>230.000000</td>\n",
       "      <td>116.000000</td>\n",
       "      <td>177.900000</td>\n",
       "      <td>162.800000</td>\n",
       "      <td>82.900000</td>\n",
       "      <td>59.400000</td>\n",
       "      <td>180.000000</td>\n",
       "      <td>17.500000</td>\n",
       "      <td>2.00000</td>\n",
       "    </tr>\n",
       "  </tbody>\n",
       "</table>\n",
       "</div>"
      ],
      "text/plain": [
       "               seqn       gender          age    ethnicity  education_child  \\\n",
       "count   9813.000000  9813.000000  9813.000000  9813.000000      2703.000000   \n",
       "mean   78644.559971     1.507694    31.629573     3.277897         6.179430   \n",
       "std     2938.592266     0.499966    24.397553     1.607957         5.797469   \n",
       "min    73557.000000     1.000000     0.000000     1.000000         0.000000   \n",
       "25%    76092.000000     1.000000    10.000000     2.000000         2.000000   \n",
       "50%    78643.000000     2.000000    27.000000     3.000000         6.000000   \n",
       "75%    81191.000000     2.000000    52.000000     4.000000         9.000000   \n",
       "max    83731.000000     2.000000    80.000000     7.000000        99.000000   \n",
       "\n",
       "       education_adult  household_income     systolic    diastolic  \\\n",
       "count      5588.000000       9700.000000  7409.000000  7409.000000   \n",
       "mean          3.520222         10.831959   118.230530    65.237954   \n",
       "std           1.232772         13.754352    18.181197    15.700239   \n",
       "min           1.000000          1.000000    66.000000     0.000000   \n",
       "25%           3.000000          5.000000   106.000000    58.000000   \n",
       "50%           4.000000          8.000000   116.000000    66.000000   \n",
       "75%           5.000000         14.000000   128.000000    74.000000   \n",
       "max           9.000000         99.000000   230.000000   116.000000   \n",
       "\n",
       "       waist_circumference         grip          bmi  arm_circumference  \\\n",
       "count          8661.000000  7677.000000  9055.000000        9301.000000   \n",
       "mean             87.272047    63.054891    25.678244          28.485765   \n",
       "std              22.542605    25.098439     7.955137           7.961971   \n",
       "min              40.200000     8.000000    12.100000          10.400000   \n",
       "25%              71.200000    45.600000    19.700000          22.600000   \n",
       "50%              87.800000    60.300000    24.700000          29.300000   \n",
       "75%             102.800000    80.700000    30.200000          34.000000   \n",
       "max             177.900000   162.800000    82.900000          59.400000   \n",
       "\n",
       "         pulse_60s  glycohemoglobin    diabetes  \n",
       "count  7549.000000      6643.000000  9813.00000  \n",
       "mean     74.416214         5.642556     0.27647  \n",
       "std      12.367969         1.004850     0.56848  \n",
       "min      40.000000         3.500000     0.00000  \n",
       "25%      66.000000         5.200000     0.00000  \n",
       "50%      74.000000         5.400000     0.00000  \n",
       "75%      82.000000         5.800000     0.00000  \n",
       "max     180.000000        17.500000     2.00000  "
      ]
     },
     "execution_count": 8,
     "metadata": {},
     "output_type": "execute_result"
    }
   ],
   "source": [
    "df_final.describe()"
   ]
  },
  {
   "cell_type": "code",
   "execution_count": 9,
   "metadata": {},
   "outputs": [],
   "source": [
    "# dropping rows where glycohemoglobin and pulse (if pulse is null --> syst/diast is null) is NaN \n",
    "df_final.dropna(axis=0, subset=['glycohemoglobin','pulse_60s'],inplace=True)"
   ]
  },
  {
   "cell_type": "code",
   "execution_count": 10,
   "metadata": {},
   "outputs": [
    {
     "data": {
      "text/plain": [
       "seqn                      0\n",
       "gender                    0\n",
       "age                       0\n",
       "ethnicity                 0\n",
       "education_child        5223\n",
       "education_adult        1207\n",
       "household_income         77\n",
       "systolic                121\n",
       "diastolic               121\n",
       "waist_circumference     268\n",
       "grip                    434\n",
       "bmi                      63\n",
       "arm_circumference       210\n",
       "pulse_60s                 0\n",
       "glycohemoglobin           0\n",
       "diabetes                  0\n",
       "dtype: int64"
      ]
     },
     "execution_count": 10,
     "metadata": {},
     "output_type": "execute_result"
    }
   ],
   "source": [
    "df_final.isna().sum()"
   ]
  },
  {
   "cell_type": "code",
   "execution_count": 11,
   "metadata": {
    "scrolled": true
   },
   "outputs": [
    {
     "data": {
      "text/plain": [
       "<matplotlib.axes._subplots.AxesSubplot at 0x1a1a036990>"
      ]
     },
     "execution_count": 11,
     "metadata": {},
     "output_type": "execute_result"
    },
    {
     "data": {
      "image/png": "[encoded data removed]",
      "text/plain": [
       "<Figure size 1440x1440 with 2 Axes>"
      ]
     },
     "metadata": {
      "needs_background": "light"
     },
     "output_type": "display_data"
    }
   ],
   "source": [
    "cm = plt.cm.inferno\n",
    "plt.figure(figsize= (20,20))\n",
    "sns.heatmap(df_final.astype(float).drop(axis=1, labels='seqn').corr(), linewidths= 0.1, vmax=1, square=True, cmap=cm, annot=True)"
   ]
  },
  {
   "cell_type": "code",
   "execution_count": 12,
   "metadata": {},
   "outputs": [],
   "source": [
    "# Handling missing data \n",
    "\n",
    "# education_child DMDEDUC3:\n",
    "## 0: code 0\n",
    "## 1: codes 1-4\n",
    "## 5: code 5 + code 55\n",
    "## 6: codes 6-8\n",
    "## 9: code 9 + code 66\n",
    "## 10: sum codes 10 - 12 \n",
    "## 13: code 13 + code 14\n",
    "## 15: code 15\n",
    "## drop code 99\n",
    "# education_adult DMDEDUC2:\n",
    "## code 1 -> 6 above\n",
    "## code 2 -> 10 above\n",
    "## code 3 -> 12 above\n",
    "## code 4 -> 15 above\n",
    "## drop codes 7 and 9 "
   ]
  },
  {
   "cell_type": "code",
   "execution_count": 13,
   "metadata": {},
   "outputs": [
    {
     "name": "stderr",
     "output_type": "stream",
     "text": [
      "/Users/mohamedmartino/opt/anaconda3/lib/python3.7/site-packages/ipykernel_launcher.py:22: UserWarning: Boolean Series key will be reindexed to match DataFrame index.\n"
     ]
    },
    {
     "data": {
      "text/plain": [
       "diabetes               1.000000\n",
       "age                    0.448209\n",
       "waist_circumference    0.352824\n",
       "systolic               0.308342\n",
       "bmi                    0.280604\n",
       "arm_circumference      0.237488\n",
       "diastolic              0.066156\n",
       "education              0.024574\n",
       "ethnicity              0.009981\n",
       "pulse_60s             -0.008055\n",
       "gender                -0.024330\n",
       "grip                  -0.073632\n",
       "household_income      -0.081202\n",
       "Name: diabetes, dtype: float64"
      ]
     },
     "execution_count": 13,
     "metadata": {},
     "output_type": "execute_result"
    }
   ],
   "source": [
    "# combining children education categories \n",
    "df_final['education_child']=df_final['education_child'].apply(lambda x: 1 if (x>0 and x<5) else x)\n",
    "df_final['education_child']=df_final['education_child'].apply(lambda x: 5 if (x==5 or x==55) else x)\n",
    "df_final['education_child']=df_final['education_child'].apply(lambda x: 6 if (x>5 and x<9) else x)\n",
    "df_final['education_child']=df_final['education_child'].apply(lambda x: 9 if (x==9 or x==66) else x)\n",
    "df_final['education_child']=df_final['education_child'].apply(lambda x: 10 if (x>9 and x<13) else x)\n",
    "df_final['education_child']=df_final['education_child'].apply(lambda x: 13 if (x==13 or x==14) else x)\n",
    "\n",
    "# changing adult education categories to match children\n",
    "df_final['education_adult']=df_final['education_adult'].apply(lambda x: 6 if (x==1) else x)\n",
    "df_final['education_adult']=df_final['education_adult'].apply(lambda x: 10 if (x==2) else x)\n",
    "df_final['education_adult']=df_final['education_adult'].apply(lambda x: 12 if (x==3) else x)\n",
    "df_final['education_adult']=df_final['education_adult'].apply(lambda x: 15 if (x==4) else x)\n",
    "\n",
    "#Combining children and adult education\n",
    "df_final['education_child'].fillna(0, inplace=True)\n",
    "df_final['education_adult'].fillna(0, inplace=True)\n",
    "df_final['education'] = df_final['education_child'] + df_final['education_adult']\n",
    "df_final = df_final.drop(['education_child'], axis=1).drop(['education_adult'], axis=1)\n",
    "\n",
    "# dropping codes 99,7, and 9\n",
    "df_final = df_final[df_final['education']!= 99][df_final['education']!= 9][df_final['education']!= 7]\n",
    "\n",
    "# Cleaning-up annual household income\n",
    "## if code =77, 99 or null, then income = code 9 (average household income is ~ $62k)\n",
    "df_final['household_income'].fillna(9, inplace=True)\n",
    "df_final['household_income']=df_final['household_income'].apply(lambda x: 9 if (x==77 or x==99) else x)\n",
    "\n",
    "# dropping unwanted columns\n",
    "df_final.drop(columns=['glycohemoglobin','seqn'], inplace=True)\n",
    "\n",
    "# Looking at correlations before imputing\n",
    "correlation = df_final.corr()\n",
    "correlation[\"diabetes\"].sort_values(ascending=False)"
   ]
  },
  {
   "cell_type": "code",
   "execution_count": 14,
   "metadata": {},
   "outputs": [
    {
     "name": "stdout",
     "output_type": "stream",
     "text": [
      "Label Proportion in Clean Dataset\n",
      "non-diabetic: 0.6758488148622678\n",
      "non-diabetic: 0.23158231902626522\n",
      "non-diabetic: 0.092568866111467\n"
     ]
    }
   ],
   "source": [
    "# Proportions of labels in cleaned datset\n",
    "print('Label Proportion in Clean Dataset')\n",
    "print('non-diabetic: ' + str(df_final['diabetes'].value_counts()[0]/df_final['diabetes'].value_counts().sum()))\n",
    "print('non-diabetic: ' + str(df_final['diabetes'].value_counts()[1]/df_final['diabetes'].value_counts().sum()))\n",
    "print('non-diabetic: ' + str(df_final['diabetes'].value_counts()[2]/df_final['diabetes'].value_counts().sum()))"
   ]
  },
  {
   "cell_type": "code",
   "execution_count": 32,
   "metadata": {},
   "outputs": [],
   "source": [
    "X = df_final.drop('diabetes', axis=1).values\n",
    "y = df_final['diabetes'].values"
   ]
  },
  {
   "cell_type": "code",
   "execution_count": 36,
   "metadata": {},
   "outputs": [],
   "source": [
    "# # stratified split\n",
    "# from sklearn.model_selection import StratifiedShuffleSplit\n",
    "\n",
    "# split=StratifiedShuffleSplit(n_splits=1, test_size=0.2, random_state=0)\n",
    "# for train_index, test_index in split.split(df_final, df_final['diabetes']):\n",
    "#     strat_train_set=df_final.loc[train_index]\n",
    "#     strat_test_set=df_final.loc[test_index]\n",
    "\n",
    "# strat_test_set['diabetes'].value_counts()/len(strat_test_set)\n",
    "from sklearn.model_selection import train_test_split\n",
    "\n",
    "X_train, X_test, y_train, y_test = train_test_split(X,y, train_size=0.8, random_state=0)"
   ]
  },
  {
   "cell_type": "code",
   "execution_count": 45,
   "metadata": {},
   "outputs": [],
   "source": [
    "X_train_df = pd.DataFrame(X_train, columns=df_final.drop('diabetes', axis=1).columns)\n",
    "X_test_df = pd.DataFrame(X_test, columns=df_final.drop('diabetes', axis=1).columns)"
   ]
  },
  {
   "cell_type": "code",
   "execution_count": 61,
   "metadata": {},
   "outputs": [],
   "source": [
    "# Creating a Pipeline \n",
    "from sklearn.pipeline import Pipeline\n",
    "from sklearn.preprocessing import StandardScaler\n",
    "from sklearn.compose import ColumnTransformer\n",
    "\n",
    "num_pipeline = Pipeline([\n",
    "    ('imputer', SimpleImputer(strategy='median')),\n",
    "    ('scaler', StandardScaler())\n",
    "])\n",
    "\n",
    "X_num = df_final[['age','systolic','diastolic','waist_circumference','grip','bmi','arm_circumference','pulse_60s']]\n",
    "X_cat = df_final[['gender','ethnicity','household_income','education']]\n",
    "\n",
    "num_attr = list(X_num)\n",
    "cat_attr = list(X_cat)\n",
    "\n",
    "full_pipeline = ColumnTransformer([\n",
    "    ('num', num_pipeline, num_attr),\n",
    "    ('cat', OneHotEncoder(), cat_attr)\n",
    "])"
   ]
  },
  {
   "cell_type": "code",
   "execution_count": 68,
   "metadata": {
    "collapsed": true
   },
   "outputs": [
    {
     "name": "stderr",
     "output_type": "stream",
     "text": [
      "/Users/mohamedmartino/opt/anaconda3/lib/python3.7/site-packages/sklearn/preprocessing/_encoders.py:415: FutureWarning: The handling of integer data will change in version 0.22. Currently, the categories are determined based on the range [0, max(values)], while in the future they will be determined based on the unique values.\n",
      "If you want the future behaviour and silence this warning, you can specify \"categories='auto'\".\n",
      "In case you used a LabelEncoder before this OneHotEncoder to convert the categories to integers, then you can now use the OneHotEncoder directly.\n",
      "  warnings.warn(msg, FutureWarning)\n",
      "/Users/mohamedmartino/opt/anaconda3/lib/python3.7/site-packages/sklearn/preprocessing/_encoders.py:415: FutureWarning: The handling of integer data will change in version 0.22. Currently, the categories are determined based on the range [0, max(values)], while in the future they will be determined based on the unique values.\n",
      "If you want the future behaviour and silence this warning, you can specify \"categories='auto'\".\n",
      "In case you used a LabelEncoder before this OneHotEncoder to convert the categories to integers, then you can now use the OneHotEncoder directly.\n",
      "  warnings.warn(msg, FutureWarning)\n"
     ]
    }
   ],
   "source": [
    "X_train_df_prep = full_pipeline.fit_transform(X_train_df)\n",
    "X_test_df_prep = full_pipeline.fit_transform(X_test_df)"
   ]
  },
  {
   "cell_type": "code",
   "execution_count": 69,
   "metadata": {},
   "outputs": [],
   "source": [
    "# Random Forest classification without PCA\n",
    "from sklearn.ensemble import RandomForestClassifier\n",
    "classifier = RandomForestClassifier(n_estimators=10, random_state=0)\n",
    "classifier.fit(X_train_df_prep,y_train)\n",
    "\n",
    "y_pred = classifier.predict(X_test_df_prep)"
   ]
  },
  {
   "cell_type": "code",
   "execution_count": 73,
   "metadata": {},
   "outputs": [
    {
     "data": {
      "text/plain": [
       "array([[749,  84,   6],\n",
       "       [186,  93,  13],\n",
       "       [ 63,  38,  17]])"
      ]
     },
     "execution_count": 73,
     "metadata": {},
     "output_type": "execute_result"
    }
   ],
   "source": [
    "from sklearn.metrics import confusion_matrix\n",
    "cm=confusion_matrix(y_test, y_pred)\n",
    "cm"
   ]
  },
  {
   "cell_type": "code",
   "execution_count": 74,
   "metadata": {},
   "outputs": [
    {
     "data": {
      "text/plain": [
       "0.6877502001601281"
      ]
     },
     "execution_count": 74,
     "metadata": {},
     "output_type": "execute_result"
    }
   ],
   "source": [
    "accuracy_score(y_test, y_pred)"
   ]
  },
  {
   "cell_type": "code",
   "execution_count": 85,
   "metadata": {},
   "outputs": [],
   "source": [
    "# # Random Forest Classifier after PCA \n",
    "# from sklearn.decomposition import PCA\n",
    "# pca = PCA(n_components = 3)\n",
    "\n",
    "# X_train_df_prep = pca.fit_transform(X_train_df_prep)\n",
    "# X_test_df_prep = pca.fit_transform(X_test)\n",
    "\n",
    "# classifier.fit(X_train_df_prep, y_train)\n",
    "# y_pred = classifier.predict(X_test_df_prep)\n",
    "# cm=confusion_matrix(y_test, y_pred)\n",
    "# cm"
   ]
  },
  {
   "cell_type": "code",
   "execution_count": null,
   "metadata": {},
   "outputs": [],
   "source": []
  },
  {
   "cell_type": "code",
   "execution_count": null,
   "metadata": {},
   "outputs": [],
   "source": []
  },
  {
   "cell_type": "code",
   "execution_count": null,
   "metadata": {},
   "outputs": [],
   "source": []
  },
  {
   "cell_type": "code",
   "execution_count": null,
   "metadata": {},
   "outputs": [],
   "source": []
  },
  {
   "cell_type": "code",
   "execution_count": 17,
   "metadata": {},
   "outputs": [],
   "source": [
    "\n",
    "# stratified split\n",
    "# pg52\n",
    "\n",
    "# Feature scaling\n",
    "\n",
    "# encode\n",
    "\n",
    "# PCA / MCA ?\n",
    "\n",
    "\n",
    "# Fit Logistic regression\n",
    "\n"
   ]
  },
  {
   "cell_type": "code",
   "execution_count": null,
   "metadata": {},
   "outputs": [],
   "source": []
  },
  {
   "cell_type": "code",
   "execution_count": null,
   "metadata": {},
   "outputs": [],
   "source": []
  },
  {
   "cell_type": "code",
   "execution_count": 18,
   "metadata": {},
   "outputs": [],
   "source": [
    "# Stratified sampling "
   ]
  },
  {
   "cell_type": "code",
   "execution_count": 19,
   "metadata": {},
   "outputs": [],
   "source": [
    "# KNN"
   ]
  },
  {
   "cell_type": "code",
   "execution_count": 20,
   "metadata": {},
   "outputs": [],
   "source": [
    "# Random Forest"
   ]
  },
  {
   "cell_type": "code",
   "execution_count": 21,
   "metadata": {},
   "outputs": [],
   "source": [
    "# Naive Bayes"
   ]
  },
  {
   "cell_type": "code",
   "execution_count": 22,
   "metadata": {},
   "outputs": [],
   "source": [
    "# SVC"
   ]
  },
  {
   "cell_type": "code",
   "execution_count": 23,
   "metadata": {},
   "outputs": [],
   "source": [
    "# AdaBoostClassifier "
   ]
  },
  {
   "cell_type": "code",
   "execution_count": 24,
   "metadata": {},
   "outputs": [],
   "source": [
    "# BagginClassifier "
   ]
  },
  {
   "cell_type": "code",
   "execution_count": 25,
   "metadata": {},
   "outputs": [],
   "source": [
    "# MLP Classifier"
   ]
  },
  {
   "cell_type": "code",
   "execution_count": null,
   "metadata": {},
   "outputs": [],
   "source": []
  }
 ],
 "metadata": {
  "kernelspec": {
   "display_name": "Python [conda env:cool]",
   "language": "python",
   "name": "conda-env-cool-py"
  },
  "language_info": {
   "codemirror_mode": {
    "name": "ipython",
    "version": 3
   },
   "file_extension": ".py",
   "mimetype": "text/x-python",
   "name": "python",
   "nbconvert_exporter": "python",
   "pygments_lexer": "ipython3",
   "version": "3.6.8"
  }
 },
 "nbformat": 4,
 "nbformat_minor": 2
}
