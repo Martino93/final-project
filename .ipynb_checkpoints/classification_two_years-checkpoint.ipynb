{
 "cells": [
  {
   "cell_type": "code",
   "execution_count": 6,
   "metadata": {},
   "outputs": [],
   "source": [
    "# ! pip install xport\n",
    "# cd resources/2015-2016\n",
    "# !python -m xport GHB_I.XPT > lab.csv"
   ]
  },
  {
   "cell_type": "code",
   "execution_count": 13,
   "metadata": {},
   "outputs": [],
   "source": [
    "# cd .."
   ]
  },
  {
   "cell_type": "code",
   "execution_count": 14,
   "metadata": {},
   "outputs": [],
   "source": [
    "import pandas as pd\n",
    "import numpy as np\n",
    "import matplotlib.pyplot as plt\n",
    "from functools import reduce\n",
    "from sklearn.metrics import accuracy_score as score\n",
    "from sklearn.impute import SimpleImputer\n",
    "import seaborn as sns"
   ]
  },
  {
   "cell_type": "code",
   "execution_count": 27,
   "metadata": {},
   "outputs": [
    {
     "name": "stdout",
     "output_type": "stream",
     "text": [
      "2013-2014 Dataframe\n",
      "columns: 693\n",
      "rows: 9813\n",
      "-----------------------\n",
      "2015-2016 Dataframe\n",
      "columns: 73\n",
      "rows: 6744\n"
     ]
    }
   ],
   "source": [
    "file_1 = pd.read_csv('resources/2013-2014/demographic.csv')\n",
    "file_2 = pd.read_csv('resources/2013-2014/examination.csv')\n",
    "file_3 = pd.read_csv('resources/2013-2014/labs.csv')\n",
    "file_4 = pd.read_csv('resources/2015-2016/demographic.csv')\n",
    "file_5 = pd.read_csv('resources/2015-2016/examination.csv')\n",
    "file_6 = pd.read_csv('resources/2015-2016/labs.csv')\n",
    "\n",
    "df_1 = pd.DataFrame(file_1)\n",
    "df_2 = pd.DataFrame(file_2)\n",
    "df_3 = pd.DataFrame(file_3)\n",
    "df_4 = pd.DataFrame(file_4)\n",
    "df_5 = pd.DataFrame(file_5)\n",
    "df_6 = pd.DataFrame(file_6)\n",
    "\n",
    "# merged=reduce(lambda left,right: pd.merge(left, right, on=['SEQN'], how='inner'), dataframes_1)\n",
    "# merged.dropna(how='all', axis=1)\n",
    "# merged.dropna(how='all', axis=0)\n",
    "\n",
    "dataframes_1 = [df_1,df_2,df_3]\n",
    "dataframes_2 = [df_4,df_5,df_6]\n",
    "\n",
    "df_1 = reduce(lambda left, right: pd.merge(left,right,on='SEQN'), dataframes_1)\n",
    "df_2 = reduce(lambda left, right: pd.merge(left,right,on='SEQN'), dataframes_2)\n",
    "\n",
    "print('2013-2014 Dataframe')\n",
    "print('columns: ' + str(len(df_1.columns.tolist())))\n",
    "print('rows: ' + str(len(df_1.index)))\n",
    "print('-----------------------')\n",
    "print('2015-2016 Dataframe')\n",
    "print('columns: ' + str(len(df_2.columns.tolist())))\n",
    "print('rows: ' + str(len(df_2.index)))\n",
    "\n",
    "df1 = df_1.loc[:,['SEQN','RIDAGEYR','BPXSY2','BPXDI2','BMXWAIST','MGDCGSZ','BMXBMI','BMXARMC','BPXPLS','LBXGH']]\n",
    "df2 = df_2.loc[:,['SEQN','RIDAGEYR','BPXSY2','BPXDI2','BMXWAIST','MGDCGSZ','BMXBMI','BMXARMC','BPXPLS','LBXGH']]\n"
   ]
  },
  {
   "cell_type": "code",
   "execution_count": 28,
   "metadata": {},
   "outputs": [
    {
     "data": {
      "text/html": [
       "<div>\n",
       "<style scoped>\n",
       "    .dataframe tbody tr th:only-of-type {\n",
       "        vertical-align: middle;\n",
       "    }\n",
       "\n",
       "    .dataframe tbody tr th {\n",
       "        vertical-align: top;\n",
       "    }\n",
       "\n",
       "    .dataframe thead th {\n",
       "        text-align: right;\n",
       "    }\n",
       "</style>\n",
       "<table border=\"1\" class=\"dataframe\">\n",
       "  <thead>\n",
       "    <tr style=\"text-align: right;\">\n",
       "      <th></th>\n",
       "      <th>SEQN</th>\n",
       "      <th>RIDAGEYR</th>\n",
       "      <th>BPXSY2</th>\n",
       "      <th>BPXDI2</th>\n",
       "      <th>BMXWAIST</th>\n",
       "      <th>MGDCGSZ</th>\n",
       "      <th>BMXBMI</th>\n",
       "      <th>BMXARMC</th>\n",
       "      <th>BPXPLS</th>\n",
       "      <th>LBXGH</th>\n",
       "    </tr>\n",
       "  </thead>\n",
       "  <tbody>\n",
       "    <tr>\n",
       "      <td>0</td>\n",
       "      <td>73557</td>\n",
       "      <td>69</td>\n",
       "      <td>114.0</td>\n",
       "      <td>76.0</td>\n",
       "      <td>100.0</td>\n",
       "      <td>55.2</td>\n",
       "      <td>26.7</td>\n",
       "      <td>35.3</td>\n",
       "      <td>86.0</td>\n",
       "      <td>13.9</td>\n",
       "    </tr>\n",
       "    <tr>\n",
       "      <td>1</td>\n",
       "      <td>73558</td>\n",
       "      <td>54</td>\n",
       "      <td>160.0</td>\n",
       "      <td>80.0</td>\n",
       "      <td>107.6</td>\n",
       "      <td>61.5</td>\n",
       "      <td>28.6</td>\n",
       "      <td>34.7</td>\n",
       "      <td>74.0</td>\n",
       "      <td>9.1</td>\n",
       "    </tr>\n",
       "  </tbody>\n",
       "</table>\n",
       "</div>"
      ],
      "text/plain": [
       "    SEQN  RIDAGEYR  BPXSY2  BPXDI2  BMXWAIST  MGDCGSZ  BMXBMI  BMXARMC  \\\n",
       "0  73557        69   114.0    76.0     100.0     55.2    26.7     35.3   \n",
       "1  73558        54   160.0    80.0     107.6     61.5    28.6     34.7   \n",
       "\n",
       "   BPXPLS  LBXGH  \n",
       "0    86.0   13.9  \n",
       "1    74.0    9.1  "
      ]
     },
     "execution_count": 28,
     "metadata": {},
     "output_type": "execute_result"
    }
   ],
   "source": [
    "df1.head(2)"
   ]
  },
  {
   "cell_type": "code",
   "execution_count": 29,
   "metadata": {},
   "outputs": [
    {
     "data": {
      "text/html": [
       "<div>\n",
       "<style scoped>\n",
       "    .dataframe tbody tr th:only-of-type {\n",
       "        vertical-align: middle;\n",
       "    }\n",
       "\n",
       "    .dataframe tbody tr th {\n",
       "        vertical-align: top;\n",
       "    }\n",
       "\n",
       "    .dataframe thead th {\n",
       "        text-align: right;\n",
       "    }\n",
       "</style>\n",
       "<table border=\"1\" class=\"dataframe\">\n",
       "  <thead>\n",
       "    <tr style=\"text-align: right;\">\n",
       "      <th></th>\n",
       "      <th>SEQN</th>\n",
       "      <th>RIDAGEYR</th>\n",
       "      <th>BPXSY2</th>\n",
       "      <th>BPXDI2</th>\n",
       "      <th>BMXWAIST</th>\n",
       "      <th>MGDCGSZ</th>\n",
       "      <th>BMXBMI</th>\n",
       "      <th>BMXARMC</th>\n",
       "      <th>BPXPLS</th>\n",
       "      <th>LBXGH</th>\n",
       "    </tr>\n",
       "  </thead>\n",
       "  <tbody>\n",
       "    <tr>\n",
       "      <td>0</td>\n",
       "      <td>83732.0</td>\n",
       "      <td>62.0</td>\n",
       "      <td>NaN</td>\n",
       "      <td>NaN</td>\n",
       "      <td>101.1</td>\n",
       "      <td>NaN</td>\n",
       "      <td>27.8</td>\n",
       "      <td>35.9</td>\n",
       "      <td>NaN</td>\n",
       "      <td>7.0</td>\n",
       "    </tr>\n",
       "    <tr>\n",
       "      <td>1</td>\n",
       "      <td>83733.0</td>\n",
       "      <td>53.0</td>\n",
       "      <td>NaN</td>\n",
       "      <td>NaN</td>\n",
       "      <td>107.9</td>\n",
       "      <td>NaN</td>\n",
       "      <td>30.8</td>\n",
       "      <td>33.2</td>\n",
       "      <td>NaN</td>\n",
       "      <td>5.5</td>\n",
       "    </tr>\n",
       "  </tbody>\n",
       "</table>\n",
       "</div>"
      ],
      "text/plain": [
       "      SEQN  RIDAGEYR  BPXSY2  BPXDI2  BMXWAIST  MGDCGSZ  BMXBMI  BMXARMC  \\\n",
       "0  83732.0      62.0     NaN     NaN     101.1      NaN    27.8     35.9   \n",
       "1  83733.0      53.0     NaN     NaN     107.9      NaN    30.8     33.2   \n",
       "\n",
       "   BPXPLS  LBXGH  \n",
       "0     NaN    7.0  \n",
       "1     NaN    5.5  "
      ]
     },
     "execution_count": 29,
     "metadata": {},
     "output_type": "execute_result"
    }
   ],
   "source": [
    "df2.head(2)"
   ]
  },
  {
   "cell_type": "code",
   "execution_count": null,
   "metadata": {},
   "outputs": [],
   "source": []
  },
  {
   "cell_type": "code",
   "execution_count": null,
   "metadata": {},
   "outputs": [],
   "source": []
  }
 ],
 "metadata": {
  "kernelspec": {
   "display_name": "Python (bootcamp)",
   "language": "python",
   "name": "bootcamp"
  },
  "language_info": {
   "codemirror_mode": {
    "name": "ipython",
    "version": 3
   },
   "file_extension": ".py",
   "mimetype": "text/x-python",
   "name": "python",
   "nbconvert_exporter": "python",
   "pygments_lexer": "ipython3",
   "version": "3.7.4"
  }
 },
 "nbformat": 4,
 "nbformat_minor": 2
}
