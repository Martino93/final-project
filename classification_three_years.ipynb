{
 "cells": [
  {
   "cell_type": "code",
   "execution_count": 1,
   "metadata": {},
   "outputs": [],
   "source": [
    "# ! pip install xport"
   ]
  },
  {
   "cell_type": "code",
   "execution_count": 2,
   "metadata": {},
   "outputs": [],
   "source": [
    "# !python -m xport BMX_G.XPT > bm.csv\n",
    "# !python -m xport BPX_G.XPT > bp.csv\n",
    "# !python -m xport DEMO_G.XPT > demographic.csv\n",
    "# !python -m xport GHB_G.XPT > labs.csv"
   ]
  },
  {
   "cell_type": "code",
   "execution_count": 3,
   "metadata": {},
   "outputs": [],
   "source": [
    "# pwd"
   ]
  },
  {
   "cell_type": "code",
   "execution_count": 2,
   "metadata": {},
   "outputs": [
    {
     "name": "stdout",
     "output_type": "stream",
     "text": [
      "Using matplotlib backend: MacOSX\n"
     ]
    }
   ],
   "source": [
    "%matplotlib \n",
    "\n",
    "import pandas as pd\n",
    "import numpy as np\n",
    "import matplotlib.pyplot as plt\n",
    "from functools import reduce\n",
    "from sklearn.metrics import accuracy_score as score\n",
    "from sklearn.impute import SimpleImputer\n",
    "import seaborn as sns"
   ]
  },
  {
   "cell_type": "code",
   "execution_count": 3,
   "metadata": {},
   "outputs": [
    {
     "name": "stdout",
     "output_type": "stream",
     "text": [
      "2011-2012 Dataframe\n",
      "columns: 100\n",
      "rows: 6549\n",
      "-----------------------\n",
      "2013-2014 Dataframe\n",
      "columns: 693\n",
      "rows: 9813\n",
      "-----------------------\n",
      "2015-2016 Dataframe\n",
      "columns: 93\n",
      "rows: 6744\n"
     ]
    }
   ],
   "source": [
    "file_1 = pd.read_csv('resources/2013-2014/demographic.csv')\n",
    "file_2 = pd.read_csv('resources/2013-2014/examination.csv')\n",
    "file_3 = pd.read_csv('resources/2013-2014/labs.csv')\n",
    "file_4 = pd.read_csv('resources/2015-2016/demographic.csv')\n",
    "file_5 = pd.read_csv('resources/2015-2016/examination.csv')\n",
    "file_6 = pd.read_csv('resources/2015-2016/labs.csv')\n",
    "file_7 = pd.read_csv('resources/2015-2016/bp.csv')\n",
    "file_8 = pd.read_csv('resources/2011-2012/bp.csv')\n",
    "file_9 = pd.read_csv('resources/2011-2012/demographic.csv')\n",
    "file_10 = pd.read_csv('resources/2011-2012/bm.csv')\n",
    "file_11 = pd.read_csv('resources/2011-2012/labs.csv')\n",
    "\n",
    "df_1 = pd.DataFrame(file_1)\n",
    "df_2 = pd.DataFrame(file_2)\n",
    "df_3 = pd.DataFrame(file_3)\n",
    "df_4 = pd.DataFrame(file_4)\n",
    "df_5 = pd.DataFrame(file_5)\n",
    "df_6 = pd.DataFrame(file_6)\n",
    "df_7 = pd.DataFrame(file_7)\n",
    "df_8 = pd.DataFrame(file_8)\n",
    "df_9 = pd.DataFrame(file_9)\n",
    "df_10 = pd.DataFrame(file_10)\n",
    "df_11 = pd.DataFrame(file_11)\n",
    "\n",
    "# merged=reduce(lambda left,right: pd.merge(left, right, on=['SEQN'], how='inner'), dataframes_1)\n",
    "# merged.dropna(how='all', axis=1)\n",
    "# merged.dropna(how='all', axis=0)\n",
    "\n",
    "dataframes_1 = [df_1,df_2,df_3]\n",
    "dataframes_2 = [df_4,df_5,df_6,df_7]\n",
    "dataframes_3 = [df_8,df_9,df_10,df_11]\n",
    "\n",
    "df_1 = reduce(lambda left, right: pd.merge(left,right,on='SEQN'), dataframes_1)\n",
    "df_2 = reduce(lambda left, right: pd.merge(left,right,on='SEQN'), dataframes_2)\n",
    "df_3 = reduce(lambda left, right: pd.merge(left,right,on='SEQN'), dataframes_3)\n",
    "\n",
    "\n",
    "print('2011-2012 Dataframe')\n",
    "print('columns: ' + str(len(df_3.columns.tolist())))\n",
    "print('rows: ' + str(len(df_3.index)))\n",
    "print('-----------------------')\n",
    "print('2013-2014 Dataframe')\n",
    "print('columns: ' + str(len(df_1.columns.tolist())))\n",
    "print('rows: ' + str(len(df_1.index)))\n",
    "print('-----------------------')\n",
    "print('2015-2016 Dataframe')\n",
    "print('columns: ' + str(len(df_2.columns.tolist())))\n",
    "print('rows: ' + str(len(df_2.index)))\n",
    "\n",
    "#2015-2016 data does not contain grip strength\n",
    "df1 = df_1.loc[:,['SEQN','RIDAGEYR','BPXSY2','BPXDI2','BMXWAIST','BMXBMI','BMXARMC','BPXPLS','LBXGH']]\n",
    "df2 = df_2.loc[:,['SEQN','RIDAGEYR','BPXSY2','BPXDI2','BMXWAIST','BMXBMI','BMXARMC','BPXPLS','LBXGH']]\n",
    "df3 = df_3.loc[:,['SEQN','RIDAGEYR','BPXSY2','BPXDI2','BMXWAIST','BMXBMI','BMXARMC','BPXPLS','LBXGH']]"
   ]
  },
  {
   "cell_type": "code",
   "execution_count": 4,
   "metadata": {},
   "outputs": [
    {
     "data": {
      "text/html": [
       "<div>\n",
       "<style scoped>\n",
       "    .dataframe tbody tr th:only-of-type {\n",
       "        vertical-align: middle;\n",
       "    }\n",
       "\n",
       "    .dataframe tbody tr th {\n",
       "        vertical-align: top;\n",
       "    }\n",
       "\n",
       "    .dataframe thead th {\n",
       "        text-align: right;\n",
       "    }\n",
       "</style>\n",
       "<table border=\"1\" class=\"dataframe\">\n",
       "  <thead>\n",
       "    <tr style=\"text-align: right;\">\n",
       "      <th></th>\n",
       "      <th>seqn</th>\n",
       "      <th>age</th>\n",
       "      <th>systolic</th>\n",
       "      <th>diastolic</th>\n",
       "      <th>waist_circumference</th>\n",
       "      <th>bmi</th>\n",
       "      <th>arm_circumference</th>\n",
       "      <th>pulse_60s</th>\n",
       "      <th>glycohemoglobin</th>\n",
       "    </tr>\n",
       "  </thead>\n",
       "  <tbody>\n",
       "    <tr>\n",
       "      <td>0</td>\n",
       "      <td>73557.0</td>\n",
       "      <td>69.0</td>\n",
       "      <td>114.0</td>\n",
       "      <td>76.0</td>\n",
       "      <td>100.0</td>\n",
       "      <td>26.7</td>\n",
       "      <td>35.3</td>\n",
       "      <td>86.0</td>\n",
       "      <td>13.9</td>\n",
       "    </tr>\n",
       "    <tr>\n",
       "      <td>1</td>\n",
       "      <td>73558.0</td>\n",
       "      <td>54.0</td>\n",
       "      <td>160.0</td>\n",
       "      <td>80.0</td>\n",
       "      <td>107.6</td>\n",
       "      <td>28.6</td>\n",
       "      <td>34.7</td>\n",
       "      <td>74.0</td>\n",
       "      <td>9.1</td>\n",
       "    </tr>\n",
       "    <tr>\n",
       "      <td>2</td>\n",
       "      <td>73559.0</td>\n",
       "      <td>72.0</td>\n",
       "      <td>140.0</td>\n",
       "      <td>76.0</td>\n",
       "      <td>109.2</td>\n",
       "      <td>28.9</td>\n",
       "      <td>33.5</td>\n",
       "      <td>68.0</td>\n",
       "      <td>8.9</td>\n",
       "    </tr>\n",
       "    <tr>\n",
       "      <td>3</td>\n",
       "      <td>73560.0</td>\n",
       "      <td>9.0</td>\n",
       "      <td>102.0</td>\n",
       "      <td>34.0</td>\n",
       "      <td>61.0</td>\n",
       "      <td>17.1</td>\n",
       "      <td>21.0</td>\n",
       "      <td>64.0</td>\n",
       "      <td>NaN</td>\n",
       "    </tr>\n",
       "    <tr>\n",
       "      <td>4</td>\n",
       "      <td>73561.0</td>\n",
       "      <td>73.0</td>\n",
       "      <td>134.0</td>\n",
       "      <td>88.0</td>\n",
       "      <td>NaN</td>\n",
       "      <td>19.7</td>\n",
       "      <td>25.2</td>\n",
       "      <td>92.0</td>\n",
       "      <td>4.9</td>\n",
       "    </tr>\n",
       "    <tr>\n",
       "      <td>...</td>\n",
       "      <td>...</td>\n",
       "      <td>...</td>\n",
       "      <td>...</td>\n",
       "      <td>...</td>\n",
       "      <td>...</td>\n",
       "      <td>...</td>\n",
       "      <td>...</td>\n",
       "      <td>...</td>\n",
       "      <td>...</td>\n",
       "    </tr>\n",
       "    <tr>\n",
       "      <td>6544</td>\n",
       "      <td>71911.0</td>\n",
       "      <td>27.0</td>\n",
       "      <td>132.0</td>\n",
       "      <td>82.0</td>\n",
       "      <td>106.6</td>\n",
       "      <td>31.3</td>\n",
       "      <td>37.8</td>\n",
       "      <td>74.0</td>\n",
       "      <td>4.7</td>\n",
       "    </tr>\n",
       "    <tr>\n",
       "      <td>6545</td>\n",
       "      <td>71912.0</td>\n",
       "      <td>40.0</td>\n",
       "      <td>114.0</td>\n",
       "      <td>52.0</td>\n",
       "      <td>104.4</td>\n",
       "      <td>27.9</td>\n",
       "      <td>33.1</td>\n",
       "      <td>112.0</td>\n",
       "      <td>5.7</td>\n",
       "    </tr>\n",
       "    <tr>\n",
       "      <td>6546</td>\n",
       "      <td>71913.0</td>\n",
       "      <td>18.0</td>\n",
       "      <td>106.0</td>\n",
       "      <td>40.0</td>\n",
       "      <td>79.0</td>\n",
       "      <td>21.6</td>\n",
       "      <td>27.5</td>\n",
       "      <td>92.0</td>\n",
       "      <td>5.2</td>\n",
       "    </tr>\n",
       "    <tr>\n",
       "      <td>6547</td>\n",
       "      <td>71915.0</td>\n",
       "      <td>60.0</td>\n",
       "      <td>148.0</td>\n",
       "      <td>74.0</td>\n",
       "      <td>106.6</td>\n",
       "      <td>27.5</td>\n",
       "      <td>33.4</td>\n",
       "      <td>76.0</td>\n",
       "      <td>5.2</td>\n",
       "    </tr>\n",
       "    <tr>\n",
       "      <td>6548</td>\n",
       "      <td>71916.0</td>\n",
       "      <td>16.0</td>\n",
       "      <td>116.0</td>\n",
       "      <td>44.0</td>\n",
       "      <td>69.2</td>\n",
       "      <td>19.5</td>\n",
       "      <td>25.9</td>\n",
       "      <td>90.0</td>\n",
       "      <td>NaN</td>\n",
       "    </tr>\n",
       "  </tbody>\n",
       "</table>\n",
       "<p>23106 rows × 9 columns</p>\n",
       "</div>"
      ],
      "text/plain": [
       "         seqn   age  systolic  diastolic  waist_circumference   bmi  \\\n",
       "0     73557.0  69.0     114.0       76.0                100.0  26.7   \n",
       "1     73558.0  54.0     160.0       80.0                107.6  28.6   \n",
       "2     73559.0  72.0     140.0       76.0                109.2  28.9   \n",
       "3     73560.0   9.0     102.0       34.0                 61.0  17.1   \n",
       "4     73561.0  73.0     134.0       88.0                  NaN  19.7   \n",
       "...       ...   ...       ...        ...                  ...   ...   \n",
       "6544  71911.0  27.0     132.0       82.0                106.6  31.3   \n",
       "6545  71912.0  40.0     114.0       52.0                104.4  27.9   \n",
       "6546  71913.0  18.0     106.0       40.0                 79.0  21.6   \n",
       "6547  71915.0  60.0     148.0       74.0                106.6  27.5   \n",
       "6548  71916.0  16.0     116.0       44.0                 69.2  19.5   \n",
       "\n",
       "      arm_circumference  pulse_60s  glycohemoglobin  \n",
       "0                  35.3       86.0             13.9  \n",
       "1                  34.7       74.0              9.1  \n",
       "2                  33.5       68.0              8.9  \n",
       "3                  21.0       64.0              NaN  \n",
       "4                  25.2       92.0              4.9  \n",
       "...                 ...        ...              ...  \n",
       "6544               37.8       74.0              4.7  \n",
       "6545               33.1      112.0              5.7  \n",
       "6546               27.5       92.0              5.2  \n",
       "6547               33.4       76.0              5.2  \n",
       "6548               25.9       90.0              NaN  \n",
       "\n",
       "[23106 rows x 9 columns]"
      ]
     },
     "execution_count": 4,
     "metadata": {},
     "output_type": "execute_result"
    }
   ],
   "source": [
    "df = pd.concat([df1,df2,df3])\n",
    "df = df.rename(columns ={\n",
    "    'SEQN': 'seqn',\n",
    "    'RIAGENDR': 'gender',\n",
    "    'RIDAGEYR': 'age',\n",
    "    'RIDRETH3': 'ethnicity',\n",
    "    'DMDEDUC3': 'education_child',\n",
    "    'DMDEDUC2': 'education_adult',\n",
    "    'INDHHIN2': 'household_income',\n",
    "    'BMXWAIST': 'waist_circumference',\n",
    "    'MGDCGSZ': 'grip',\n",
    "    'BMXBMI': 'bmi',\n",
    "    'BMXARMC': 'arm_circumference',\n",
    "    'BPXPLS': 'pulse_60s',\n",
    "    'BPXSY2': 'systolic',\n",
    "    'BPXDI2': 'diastolic',\n",
    "    'LBXGH': 'glycohemoglobin'\n",
    "})\n",
    "df"
   ]
  },
  {
   "cell_type": "code",
   "execution_count": 5,
   "metadata": {},
   "outputs": [
    {
     "data": {
      "text/plain": [
       "seqn                    0\n",
       "age                     0\n",
       "systolic                0\n",
       "diastolic               0\n",
       "waist_circumference     0\n",
       "bmi                    40\n",
       "arm_circumference      17\n",
       "pulse_60s               0\n",
       "glycohemoglobin         0\n",
       "diabetes                0\n",
       "dtype: int64"
      ]
     },
     "execution_count": 5,
     "metadata": {},
     "output_type": "execute_result"
    }
   ],
   "source": [
    "# WebMD definition of diabetes based on glycated hemoglobin levels.\n",
    "# 3 classification labels\n",
    "\n",
    "conditions = [\n",
    "    (df['glycohemoglobin'] < 5.7),\n",
    "    (df['glycohemoglobin'] >= 5.7) & (df['glycohemoglobin']<=6.4),\n",
    "    (df['glycohemoglobin']>6.4)\n",
    "]\n",
    "\n",
    "diagnosis = [0,1,2]\n",
    "\n",
    "df['diabetes'] = np.select(conditions, diagnosis)\n",
    "\n",
    "# dropping rows where glycohemoglobin and pulse (if pulse is null --> syst/diast is null) is NaN \n",
    "# dropping rows where waist circum is null since there are 539 missing\n",
    "# dropping rows where sys in null; 156 missing\n",
    "\n",
    "df.dropna(axis=0, subset=['glycohemoglobin','pulse_60s','waist_circumference','systolic'],inplace=True)\n",
    "df.isna().sum()"
   ]
  },
  {
   "cell_type": "code",
   "execution_count": 6,
   "metadata": {},
   "outputs": [
    {
     "data": {
      "text/html": [
       "<div>\n",
       "<style scoped>\n",
       "    .dataframe tbody tr th:only-of-type {\n",
       "        vertical-align: middle;\n",
       "    }\n",
       "\n",
       "    .dataframe tbody tr th {\n",
       "        vertical-align: top;\n",
       "    }\n",
       "\n",
       "    .dataframe thead th {\n",
       "        text-align: right;\n",
       "    }\n",
       "</style>\n",
       "<table border=\"1\" class=\"dataframe\">\n",
       "  <thead>\n",
       "    <tr style=\"text-align: right;\">\n",
       "      <th></th>\n",
       "      <th>seqn</th>\n",
       "      <th>age</th>\n",
       "      <th>systolic</th>\n",
       "      <th>diastolic</th>\n",
       "      <th>waist_circumference</th>\n",
       "      <th>bmi</th>\n",
       "      <th>arm_circumference</th>\n",
       "      <th>pulse_60s</th>\n",
       "      <th>glycohemoglobin</th>\n",
       "      <th>diabetes</th>\n",
       "    </tr>\n",
       "  </thead>\n",
       "  <tbody>\n",
       "    <tr>\n",
       "      <td>count</td>\n",
       "      <td>17481.000000</td>\n",
       "      <td>17481.000000</td>\n",
       "      <td>17481.000000</td>\n",
       "      <td>17481.000000</td>\n",
       "      <td>17481.000000</td>\n",
       "      <td>17441.000000</td>\n",
       "      <td>17464.000000</td>\n",
       "      <td>17481.000000</td>\n",
       "      <td>17481.000000</td>\n",
       "      <td>17481.000000</td>\n",
       "    </tr>\n",
       "    <tr>\n",
       "      <td>mean</td>\n",
       "      <td>78324.250672</td>\n",
       "      <td>42.534123</td>\n",
       "      <td>121.125908</td>\n",
       "      <td>67.831474</td>\n",
       "      <td>96.195481</td>\n",
       "      <td>28.206192</td>\n",
       "      <td>32.360009</td>\n",
       "      <td>73.231852</td>\n",
       "      <td>5.684217</td>\n",
       "      <td>0.436760</td>\n",
       "    </tr>\n",
       "    <tr>\n",
       "      <td>std</td>\n",
       "      <td>9215.453417</td>\n",
       "      <td>20.370237</td>\n",
       "      <td>17.902693</td>\n",
       "      <td>13.932765</td>\n",
       "      <td>17.600744</td>\n",
       "      <td>7.028390</td>\n",
       "      <td>5.415944</td>\n",
       "      <td>11.876340</td>\n",
       "      <td>1.046114</td>\n",
       "      <td>0.662252</td>\n",
       "    </tr>\n",
       "    <tr>\n",
       "      <td>min</td>\n",
       "      <td>62161.000000</td>\n",
       "      <td>12.000000</td>\n",
       "      <td>66.000000</td>\n",
       "      <td>0.000000</td>\n",
       "      <td>54.600000</td>\n",
       "      <td>13.400000</td>\n",
       "      <td>17.100000</td>\n",
       "      <td>0.000000</td>\n",
       "      <td>3.500000</td>\n",
       "      <td>0.000000</td>\n",
       "    </tr>\n",
       "    <tr>\n",
       "      <td>25%</td>\n",
       "      <td>69816.000000</td>\n",
       "      <td>24.000000</td>\n",
       "      <td>108.000000</td>\n",
       "      <td>60.000000</td>\n",
       "      <td>83.100000</td>\n",
       "      <td>23.200000</td>\n",
       "      <td>28.600000</td>\n",
       "      <td>64.000000</td>\n",
       "      <td>5.200000</td>\n",
       "      <td>0.000000</td>\n",
       "    </tr>\n",
       "    <tr>\n",
       "      <td>50%</td>\n",
       "      <td>78964.000000</td>\n",
       "      <td>42.000000</td>\n",
       "      <td>118.000000</td>\n",
       "      <td>68.000000</td>\n",
       "      <td>95.000000</td>\n",
       "      <td>27.100000</td>\n",
       "      <td>32.000000</td>\n",
       "      <td>72.000000</td>\n",
       "      <td>5.500000</td>\n",
       "      <td>0.000000</td>\n",
       "    </tr>\n",
       "    <tr>\n",
       "      <td>75%</td>\n",
       "      <td>86225.000000</td>\n",
       "      <td>60.000000</td>\n",
       "      <td>130.000000</td>\n",
       "      <td>76.000000</td>\n",
       "      <td>107.000000</td>\n",
       "      <td>31.900000</td>\n",
       "      <td>35.700000</td>\n",
       "      <td>80.000000</td>\n",
       "      <td>5.800000</td>\n",
       "      <td>1.000000</td>\n",
       "    </tr>\n",
       "    <tr>\n",
       "      <td>max</td>\n",
       "      <td>93702.000000</td>\n",
       "      <td>80.000000</td>\n",
       "      <td>238.000000</td>\n",
       "      <td>134.000000</td>\n",
       "      <td>177.900000</td>\n",
       "      <td>82.100000</td>\n",
       "      <td>59.400000</td>\n",
       "      <td>172.000000</td>\n",
       "      <td>17.800000</td>\n",
       "      <td>2.000000</td>\n",
       "    </tr>\n",
       "  </tbody>\n",
       "</table>\n",
       "</div>"
      ],
      "text/plain": [
       "               seqn           age      systolic     diastolic  \\\n",
       "count  17481.000000  17481.000000  17481.000000  17481.000000   \n",
       "mean   78324.250672     42.534123    121.125908     67.831474   \n",
       "std     9215.453417     20.370237     17.902693     13.932765   \n",
       "min    62161.000000     12.000000     66.000000      0.000000   \n",
       "25%    69816.000000     24.000000    108.000000     60.000000   \n",
       "50%    78964.000000     42.000000    118.000000     68.000000   \n",
       "75%    86225.000000     60.000000    130.000000     76.000000   \n",
       "max    93702.000000     80.000000    238.000000    134.000000   \n",
       "\n",
       "       waist_circumference           bmi  arm_circumference     pulse_60s  \\\n",
       "count         17481.000000  17441.000000       17464.000000  17481.000000   \n",
       "mean             96.195481     28.206192          32.360009     73.231852   \n",
       "std              17.600744      7.028390           5.415944     11.876340   \n",
       "min              54.600000     13.400000          17.100000      0.000000   \n",
       "25%              83.100000     23.200000          28.600000     64.000000   \n",
       "50%              95.000000     27.100000          32.000000     72.000000   \n",
       "75%             107.000000     31.900000          35.700000     80.000000   \n",
       "max             177.900000     82.100000          59.400000    172.000000   \n",
       "\n",
       "       glycohemoglobin      diabetes  \n",
       "count     17481.000000  17481.000000  \n",
       "mean          5.684217      0.436760  \n",
       "std           1.046114      0.662252  \n",
       "min           3.500000      0.000000  \n",
       "25%           5.200000      0.000000  \n",
       "50%           5.500000      0.000000  \n",
       "75%           5.800000      1.000000  \n",
       "max          17.800000      2.000000  "
      ]
     },
     "execution_count": 6,
     "metadata": {},
     "output_type": "execute_result"
    }
   ],
   "source": [
    "df.describe()"
   ]
  },
  {
   "cell_type": "code",
   "execution_count": 9,
   "metadata": {},
   "outputs": [
    {
     "data": {
      "image/png": "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\n",
      "text/plain": [
       "<Figure size 1440x1440 with 2 Axes>"
      ]
     },
     "metadata": {
      "needs_background": "light"
     },
     "output_type": "display_data"
    }
   ],
   "source": [
    "cm = plt.cm.inferno\n",
    "plt.figure(figsize= (20,20))\n",
    "sns.heatmap(df.drop('diabetes', axis=1).drop('seqn', axis=1).\\\n",
    "            astype(float).corr(), linewidths= 0.1, vmax=1, square=True, cmap=cm, annot=True)\n",
    "plt.savefig('corr_matrix.png', transparent=True)"
   ]
  },
  {
   "cell_type": "code",
   "execution_count": 10,
   "metadata": {},
   "outputs": [
    {
     "data": {
      "image/png": "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\n",
      "text/plain": [
       "<Figure size 432x288 with 2 Axes>"
      ]
     },
     "metadata": {
      "needs_background": "light"
     },
     "output_type": "display_data"
    }
   ],
   "source": [
    "df_corr = df.drop('diabetes', axis=1).drop('seqn', axis=1).corr()\n",
    "ax = sns.heatmap(df_corr, annot=True)\n",
    "# bottom, top = ax.get_ylim()\n",
    "# ax.set_ylim(bottom, top-0.5)\n",
    "ax.set_xticklabels(labels = ax.get_xticklabels(),rotation = 45, horizontalalignment='right')\n",
    "plt.savefig('corr_matrix.png', transparent=True, dpi=300, bbox_inches='tight')"
   ]
  },
  {
   "cell_type": "code",
   "execution_count": 11,
   "metadata": {},
   "outputs": [
    {
     "name": "stdout",
     "output_type": "stream",
     "text": [
      "Label Proportion in Clean Dataset\n",
      "non-diabetic: 0.6595160459927921\n",
      "non-diabetic: 0.24420799725416167\n",
      "non-diabetic: 0.09627595675304616\n"
     ]
    }
   ],
   "source": [
    "# Proportions of labels in cleaned datset\n",
    "print('Label Proportion in Clean Dataset')\n",
    "print('non-diabetic: ' + str(df['diabetes'].value_counts()[0]/df['diabetes'].value_counts().sum()))\n",
    "print('non-diabetic: ' + str(df['diabetes'].value_counts()[1]/df['diabetes'].value_counts().sum()))\n",
    "print('non-diabetic: ' + str(df['diabetes'].value_counts()[2]/df['diabetes'].value_counts().sum()))"
   ]
  },
  {
   "cell_type": "code",
   "execution_count": 7,
   "metadata": {},
   "outputs": [
    {
     "data": {
      "text/plain": [
       "[(0, 'age'),\n",
       " (1, 'systolic'),\n",
       " (2, 'diastolic'),\n",
       " (3, 'waist_circumference'),\n",
       " (4, 'bmi'),\n",
       " (5, 'arm_circumference'),\n",
       " (6, 'pulse_60s'),\n",
       " (7, 'diabetes')]"
      ]
     },
     "execution_count": 7,
     "metadata": {},
     "output_type": "execute_result"
    }
   ],
   "source": [
    "df_final = df.drop('seqn',axis=1).drop('glycohemoglobin',axis=1).copy()\n",
    "list(enumerate(list(df_final)))"
   ]
  },
  {
   "cell_type": "code",
   "execution_count": 8,
   "metadata": {},
   "outputs": [
    {
     "name": "stderr",
     "output_type": "stream",
     "text": [
      "/Users/mohamedmartino/opt/anaconda3/lib/python3.7/site-packages/sklearn/utils/deprecation.py:66: DeprecationWarning: Class Imputer is deprecated; Imputer was deprecated in version 0.20 and will be removed in 0.22. Import impute.SimpleImputer from sklearn instead.\n",
      "  warnings.warn(msg, category=DeprecationWarning)\n"
     ]
    },
    {
     "data": {
      "text/plain": [
       "0    0\n",
       "1    0\n",
       "2    0\n",
       "3    0\n",
       "4    0\n",
       "5    0\n",
       "6    0\n",
       "dtype: int64"
      ]
     },
     "execution_count": 8,
     "metadata": {},
     "output_type": "execute_result"
    }
   ],
   "source": [
    "features = df_final.iloc[:,0:7].values\n",
    "labels = df_final.iloc[:,7].values\n",
    "\n",
    "from sklearn.preprocessing import Imputer\n",
    "\n",
    "imputer = Imputer(missing_values= 'NaN', strategy='median', axis=0)\n",
    "imputer.fit(features[:, [4,5]])\n",
    "features[:, [4,5]] = imputer.fit_transform(features[:, [4,5]])\n",
    "\n",
    "df_features = pd.DataFrame(features)\n",
    "\n",
    "X = df_features.iloc[:,:].values\n",
    "y = labels\n",
    "\n",
    "df_features.isnull().sum()"
   ]
  },
  {
   "cell_type": "markdown",
   "metadata": {},
   "source": [
    "## Random Forest Classifier"
   ]
  },
  {
   "cell_type": "code",
   "execution_count": 14,
   "metadata": {},
   "outputs": [
    {
     "name": "stdout",
     "output_type": "stream",
     "text": [
      "[[2046  230   30]\n",
      " [ 525  268   61]\n",
      " [ 139  155   43]]\n"
     ]
    },
    {
     "data": {
      "text/plain": [
       "0.6740062911066629"
      ]
     },
     "execution_count": 14,
     "metadata": {},
     "output_type": "execute_result"
    }
   ],
   "source": [
    "from sklearn.model_selection import train_test_split\n",
    "X_train, X_test, y_train, y_test = train_test_split(X,y,stratify=y, train_size=0.8)\n",
    "\n",
    "from sklearn.preprocessing import StandardScaler\n",
    "sc = StandardScaler()\n",
    "X_train = sc.fit_transform(X_train)\n",
    "X_test = sc.fit_transform(X_test)\n",
    "\n",
    "from sklearn.ensemble import RandomForestClassifier\n",
    "classifier = RandomForestClassifier(n_estimators=1000, random_state=0,criterion='entropy')\n",
    "classifier.fit(X_train, y_train)\n",
    "y_pred = (classifier.predict(X_test))\n",
    "\n",
    "from sklearn.metrics import confusion_matrix\n",
    "cm = confusion_matrix(y_test, y_pred)\n",
    "print(cm)\n",
    "score(y_test, y_pred)"
   ]
  },
  {
   "cell_type": "markdown",
   "metadata": {},
   "source": [
    "## Tuning Hyperparameters: RF"
   ]
  },
  {
   "cell_type": "code",
   "execution_count": 27,
   "metadata": {},
   "outputs": [
    {
     "data": {
      "text/plain": [
       "GridSearchCV(cv=5, error_score='raise-deprecating',\n",
       "             estimator=RandomForestClassifier(bootstrap=True, class_weight=None,\n",
       "                                              criterion='gini', max_depth=None,\n",
       "                                              max_features='auto',\n",
       "                                              max_leaf_nodes=None,\n",
       "                                              min_impurity_decrease=0.0,\n",
       "                                              min_impurity_split=None,\n",
       "                                              min_samples_leaf=1,\n",
       "                                              min_samples_split=2,\n",
       "                                              min_weight_fraction_leaf=0.0,\n",
       "                                              n_estimators='warn', n_jobs=None,\n",
       "                                              oob_score=False,\n",
       "                                              random_state=None, verbose=0,\n",
       "                                              warm_start=False),\n",
       "             iid='warn', n_jobs=None,\n",
       "             param_grid=[{'max_features': [2, 4, 6],\n",
       "                          'n_estimators': [3, 10, 30, 50, 100, 1000]},\n",
       "                         {'bootstrap': [False], 'max_features': [2, 4, 6],\n",
       "                          'n_estimators': [3, 10, 30, 50, 100, 1000]}],\n",
       "             pre_dispatch='2*n_jobs', refit=True, return_train_score=True,\n",
       "             scoring='neg_mean_squared_error', verbose=0)"
      ]
     },
     "execution_count": 27,
     "metadata": {},
     "output_type": "execute_result"
    }
   ],
   "source": [
    "from sklearn.model_selection import GridSearchCV\n",
    "\n",
    "param_grid =[\n",
    "    {'n_estimators': [3,10,30,50,100,1000], 'max_features':[2,4,6]},\n",
    "    {'bootstrap': [False], 'n_estimators':[3,10,30,50,100,1000], 'max_features':[2,4,6]}\n",
    "]\n",
    "\n",
    "classifier = RandomForestClassifier()\n",
    "grid_search = GridSearchCV(classifier, param_grid, cv=5, scoring ='neg_mean_squared_error',\\\n",
    "                           return_train_score=True)\n",
    "grid_search.fit(X,y)"
   ]
  },
  {
   "cell_type": "code",
   "execution_count": 29,
   "metadata": {},
   "outputs": [
    {
     "data": {
      "text/plain": [
       "RandomForestClassifier(bootstrap=True, class_weight=None, criterion='gini',\n",
       "                       max_depth=None, max_features=2, max_leaf_nodes=None,\n",
       "                       min_impurity_decrease=0.0, min_impurity_split=None,\n",
       "                       min_samples_leaf=1, min_samples_split=2,\n",
       "                       min_weight_fraction_leaf=0.0, n_estimators=1000,\n",
       "                       n_jobs=None, oob_score=False, random_state=None,\n",
       "                       verbose=0, warm_start=False)"
      ]
     },
     "execution_count": 29,
     "metadata": {},
     "output_type": "execute_result"
    }
   ],
   "source": [
    "grid_search.best_estimator_"
   ]
  },
  {
   "cell_type": "code",
   "execution_count": 30,
   "metadata": {},
   "outputs": [
    {
     "name": "stdout",
     "output_type": "stream",
     "text": [
      "0.7499213390475571 {'max_features': 2, 'n_estimators': 3}\n",
      "0.7165694448897326 {'max_features': 2, 'n_estimators': 10}\n",
      "0.6943099044014299 {'max_features': 2, 'n_estimators': 30}\n",
      "0.6881443914664017 {'max_features': 2, 'n_estimators': 50}\n",
      "0.6894731774327238 {'max_features': 2, 'n_estimators': 100}\n",
      "0.6837243429739933 {'max_features': 2, 'n_estimators': 1000}\n",
      "0.7551285288064857 {'max_features': 4, 'n_estimators': 3}\n",
      "0.7169285975870251 {'max_features': 4, 'n_estimators': 10}\n",
      "0.696161236203595 {'max_features': 4, 'n_estimators': 30}\n",
      "0.6938978265537462 {'max_features': 4, 'n_estimators': 50}\n",
      "0.6901780544256846 {'max_features': 4, 'n_estimators': 100}\n",
      "0.6850199494192412 {'max_features': 4, 'n_estimators': 1000}\n",
      "0.7552800241493293 {'max_features': 6, 'n_estimators': 3}\n",
      "0.7148510025437236 {'max_features': 6, 'n_estimators': 10}\n",
      "0.7000126666991614 {'max_features': 6, 'n_estimators': 30}\n",
      "0.6999718055563954 {'max_features': 6, 'n_estimators': 50}\n",
      "0.6896805689782272 {'max_features': 6, 'n_estimators': 100}\n",
      "0.688518371719436 {'max_features': 6, 'n_estimators': 1000}\n",
      "0.758906839840403 {'bootstrap': False, 'max_features': 2, 'n_estimators': 3}\n",
      "0.7162899794020873 {'bootstrap': False, 'max_features': 2, 'n_estimators': 10}\n",
      "0.7019712044507517 {'bootstrap': False, 'max_features': 2, 'n_estimators': 30}\n",
      "0.6947217378230169 {'bootstrap': False, 'max_features': 2, 'n_estimators': 50}\n",
      "0.6985401597511738 {'bootstrap': False, 'max_features': 2, 'n_estimators': 100}\n",
      "0.6933617592180361 {'bootstrap': False, 'max_features': 2, 'n_estimators': 1000}\n",
      "0.7583035751664969 {'bootstrap': False, 'max_features': 4, 'n_estimators': 3}\n",
      "0.7276600577598432 {'bootstrap': False, 'max_features': 4, 'n_estimators': 10}\n",
      "0.7089448680435526 {'bootstrap': False, 'max_features': 4, 'n_estimators': 30}\n",
      "0.7118036094795045 {'bootstrap': False, 'max_features': 4, 'n_estimators': 50}\n",
      "0.7053450106192655 {'bootstrap': False, 'max_features': 4, 'n_estimators': 100}\n",
      "0.7017266861718264 {'bootstrap': False, 'max_features': 4, 'n_estimators': 1000}\n",
      "0.762516405222919 {'bootstrap': False, 'max_features': 6, 'n_estimators': 3}\n",
      "0.7491199573403916 {'bootstrap': False, 'max_features': 6, 'n_estimators': 10}\n",
      "0.73138473553336 {'bootstrap': False, 'max_features': 6, 'n_estimators': 30}\n",
      "0.7402861395742467 {'bootstrap': False, 'max_features': 6, 'n_estimators': 50}\n",
      "0.7350127163203135 {'bootstrap': False, 'max_features': 6, 'n_estimators': 100}\n",
      "0.7345845346406802 {'bootstrap': False, 'max_features': 6, 'n_estimators': 1000}\n"
     ]
    }
   ],
   "source": [
    "cvres = grid_search.cv_results_\n",
    "for mean_score,params in zip(cvres['mean_test_score'], cvres['params']):\n",
    "    print(np.sqrt(-mean_score),params)"
   ]
  },
  {
   "cell_type": "markdown",
   "metadata": {},
   "source": [
    "## Random Forest (using the best predictor after tuning hyperparms)"
   ]
  },
  {
   "cell_type": "code",
   "execution_count": 32,
   "metadata": {},
   "outputs": [
    {
     "name": "stdout",
     "output_type": "stream",
     "text": [
      "[[2051  227   28]\n",
      " [ 506  303   45]\n",
      " [ 148  140   49]]\n"
     ]
    },
    {
     "data": {
      "text/plain": [
       "0.6871604232199028"
      ]
     },
     "execution_count": 32,
     "metadata": {},
     "output_type": "execute_result"
    }
   ],
   "source": [
    "from sklearn.model_selection import train_test_split\n",
    "X_train, X_test, y_train, y_test = train_test_split(X,y,stratify=y, train_size=0.8)\n",
    "\n",
    "from sklearn.preprocessing import StandardScaler\n",
    "sc = StandardScaler()\n",
    "X_train = sc.fit_transform(X_train)\n",
    "X_test = sc.fit_transform(X_test)\n",
    "\n",
    "from sklearn.ensemble import RandomForestClassifier\n",
    "classifier = RandomForestClassifier(n_estimators=1000, max_features=2,random_state=0,criterion='entropy')\n",
    "classifier.fit(X_train, y_train)\n",
    "y_pred = (classifier.predict(X_test))\n",
    "\n",
    "from sklearn.metrics import confusion_matrix\n",
    "cm = confusion_matrix(y_test, y_pred)\n",
    "print(cm)\n",
    "score(y_test, y_pred)"
   ]
  },
  {
   "cell_type": "markdown",
   "metadata": {},
   "source": [
    "## PCA + Random Forest"
   ]
  },
  {
   "cell_type": "code",
   "execution_count": 15,
   "metadata": {},
   "outputs": [
    {
     "name": "stdout",
     "output_type": "stream",
     "text": [
      "[[1916  317   73]\n",
      " [ 535  250   69]\n",
      " [ 173  122   42]]\n"
     ]
    },
    {
     "data": {
      "text/plain": [
       "0.6313983414355162"
      ]
     },
     "execution_count": 15,
     "metadata": {},
     "output_type": "execute_result"
    }
   ],
   "source": [
    "from sklearn.model_selection import train_test_split\n",
    "X_train, X_test, y_train, y_test = train_test_split(X,y,stratify=y,train_size=0.8)\n",
    "\n",
    "from sklearn.preprocessing import StandardScaler\n",
    "sc = StandardScaler()\n",
    "X_train = sc.fit_transform(X_train)\n",
    "X_test = sc.fit_transform(X_test)\n",
    "\n",
    "# PCA + RandomForest\n",
    "from sklearn.decomposition import PCA\n",
    "pca = PCA(n_components = 2)\n",
    "X_train = pca.fit_transform(X_train)\n",
    "X_test = pca.transform(X_test)\n",
    "explained_variance = pca.explained_variance_ratio_\n",
    "\n",
    "# explained_variance\n",
    "\n",
    "classifier = RandomForestClassifier(n_estimators=100, random_state=0,criterion='entropy')\n",
    "classifier.fit(X_train, y_train)\n",
    "y_pred = (classifier.predict(X_test))\n",
    "\n",
    "cm = confusion_matrix(y_test, y_pred)\n",
    "print(cm)\n",
    "score(y_test, y_pred)"
   ]
  },
  {
   "cell_type": "markdown",
   "metadata": {},
   "source": [
    "## Logistic Regression"
   ]
  },
  {
   "cell_type": "code",
   "execution_count": 16,
   "metadata": {},
   "outputs": [
    {
     "name": "stdout",
     "output_type": "stream",
     "text": [
      "[[2091  206    9]\n",
      " [ 559  277   18]\n",
      " [ 161  161   15]]\n"
     ]
    },
    {
     "name": "stderr",
     "output_type": "stream",
     "text": [
      "/Users/mohamedmartino/opt/anaconda3/lib/python3.7/site-packages/sklearn/linear_model/logistic.py:432: FutureWarning: Default solver will be changed to 'lbfgs' in 0.22. Specify a solver to silence this warning.\n",
      "  FutureWarning)\n",
      "/Users/mohamedmartino/opt/anaconda3/lib/python3.7/site-packages/sklearn/linear_model/logistic.py:469: FutureWarning: Default multi_class will be changed to 'auto' in 0.22. Specify the multi_class option to silence this warning.\n",
      "  \"this warning.\", FutureWarning)\n"
     ]
    },
    {
     "data": {
      "text/plain": [
       "0.6814412353445811"
      ]
     },
     "execution_count": 16,
     "metadata": {},
     "output_type": "execute_result"
    }
   ],
   "source": [
    "from sklearn.model_selection import train_test_split\n",
    "X_train, X_test, y_train, y_test = train_test_split(X,y,stratify=y, train_size=0.8)\n",
    "\n",
    "from sklearn.preprocessing import StandardScaler\n",
    "sc = StandardScaler()\n",
    "X_train = sc.fit_transform(X_train)\n",
    "X_test = sc.fit_transform(X_test)\n",
    "\n",
    "# from sklearn.linear_model import LogisticRegression\n",
    "# pca = PCA(n_components = 2)\n",
    "# X_train = pca.fit_transform(X_train)\n",
    "# X_test = pca.transform(X_test)\n",
    "# explained_variance = pca.explained_variance_ratio_\n",
    "\n",
    "# explained_variance\n",
    "from sklearn.linear_model import LogisticRegression\n",
    "\n",
    "classifier = LogisticRegression(random_state=0)\n",
    "classifier.fit(X_train, y_train)\n",
    "y_pred = classifier.predict(X_test)\n",
    "\n",
    "cm = confusion_matrix(y_test, y_pred)\n",
    "print(cm)\n",
    "score(y_test, y_pred)"
   ]
  },
  {
   "cell_type": "markdown",
   "metadata": {},
   "source": [
    "## PCA + Logistic Regression"
   ]
  },
  {
   "cell_type": "code",
   "execution_count": 17,
   "metadata": {},
   "outputs": [
    {
     "name": "stdout",
     "output_type": "stream",
     "text": [
      "[[2147  157    2]\n",
      " [ 672  174    8]\n",
      " [ 235  101    1]]\n"
     ]
    },
    {
     "name": "stderr",
     "output_type": "stream",
     "text": [
      "/Users/mohamedmartino/opt/anaconda3/lib/python3.7/site-packages/sklearn/linear_model/logistic.py:432: FutureWarning: Default solver will be changed to 'lbfgs' in 0.22. Specify a solver to silence this warning.\n",
      "  FutureWarning)\n",
      "/Users/mohamedmartino/opt/anaconda3/lib/python3.7/site-packages/sklearn/linear_model/logistic.py:469: FutureWarning: Default multi_class will be changed to 'auto' in 0.22. Specify the multi_class option to silence this warning.\n",
      "  \"this warning.\", FutureWarning)\n"
     ]
    },
    {
     "data": {
      "text/plain": [
       "0.6639977123248498"
      ]
     },
     "execution_count": 17,
     "metadata": {},
     "output_type": "execute_result"
    }
   ],
   "source": [
    "# PCA + Logistic Regression\n",
    "from sklearn.model_selection import train_test_split\n",
    "X_train, X_test, y_train, y_test = train_test_split(X,y,stratify=y, train_size=0.8)\n",
    "\n",
    "from sklearn.preprocessing import StandardScaler\n",
    "sc = StandardScaler()\n",
    "X_train = sc.fit_transform(X_train)\n",
    "X_test = sc.fit_transform(X_test)\n",
    "\n",
    "from sklearn.linear_model import LogisticRegression\n",
    "pca = PCA(n_components = 2)\n",
    "X_train = pca.fit_transform(X_train)\n",
    "X_test = pca.transform(X_test)\n",
    "explained_variance = pca.explained_variance_ratio_\n",
    "\n",
    "# explained_variance\n",
    "\n",
    "classifier = LogisticRegression(random_state=0)\n",
    "classifier.fit(X_train, y_train)\n",
    "y_pred = classifier.predict(X_test)\n",
    "\n",
    "cm = confusion_matrix(y_test, y_pred)\n",
    "print(cm)\n",
    "score(y_test, y_pred)"
   ]
  },
  {
   "cell_type": "markdown",
   "metadata": {},
   "source": [
    "## Naive Bayes"
   ]
  },
  {
   "cell_type": "code",
   "execution_count": 18,
   "metadata": {},
   "outputs": [
    {
     "name": "stdout",
     "output_type": "stream",
     "text": [
      "[[1828  400   78]\n",
      " [ 402  335  117]\n",
      " [ 111  131   95]]\n"
     ]
    },
    {
     "data": {
      "text/plain": [
       "0.6456963111238204"
      ]
     },
     "execution_count": 18,
     "metadata": {},
     "output_type": "execute_result"
    }
   ],
   "source": [
    "# PCA + Logistic Regression\n",
    "from sklearn.model_selection import train_test_split\n",
    "X_train, X_test, y_train, y_test = train_test_split(X,y,stratify=y, train_size=0.8)\n",
    "\n",
    "from sklearn.preprocessing import StandardScaler\n",
    "sc = StandardScaler()\n",
    "X_train = sc.fit_transform(X_train)\n",
    "X_test = sc.fit_transform(X_test)\n",
    "\n",
    "# from sklearn.linear_model import LogisticRegression\n",
    "# pca = PCA(n_components = 2)\n",
    "# X_train = pca.fit_transform(X_train)\n",
    "# X_test = pca.transform(X_test)\n",
    "# explained_variance = pca.explained_variance_ratio_\n",
    "\n",
    "# explained_variance\n",
    "from sklearn.naive_bayes import GaussianNB\n",
    "classifier = GaussianNB()\n",
    "classifier.fit(X_train, y_train)\n",
    "y_pred = classifier.predict(X_test)\n",
    "\n",
    "cm = confusion_matrix(y_test, y_pred)\n",
    "print(cm)\n",
    "score(y_test, y_pred)"
   ]
  },
  {
   "cell_type": "markdown",
   "metadata": {},
   "source": [
    "## Naive Bayes + PCA"
   ]
  },
  {
   "cell_type": "code",
   "execution_count": 19,
   "metadata": {},
   "outputs": [
    {
     "name": "stdout",
     "output_type": "stream",
     "text": [
      "[[2095  176   35]\n",
      " [ 566  245   43]\n",
      " [ 181  113   43]]\n"
     ]
    },
    {
     "data": {
      "text/plain": [
       "0.6814412353445811"
      ]
     },
     "execution_count": 19,
     "metadata": {},
     "output_type": "execute_result"
    }
   ],
   "source": [
    "# PCA + Logistic Regression\n",
    "from sklearn.model_selection import train_test_split\n",
    "X_train, X_test, y_train, y_test = train_test_split(X,y,stratify=y, train_size=0.8)\n",
    "\n",
    "from sklearn.preprocessing import StandardScaler\n",
    "sc = StandardScaler()\n",
    "X_train = sc.fit_transform(X_train)\n",
    "X_test = sc.fit_transform(X_test)\n",
    "\n",
    "from sklearn.linear_model import LogisticRegression\n",
    "pca = PCA(n_components = 5)\n",
    "X_train = pca.fit_transform(X_train)\n",
    "X_test = pca.transform(X_test)\n",
    "explained_variance = pca.explained_variance_ratio_\n",
    "\n",
    "# explained_variance\n",
    "from sklearn.naive_bayes import GaussianNB\n",
    "classifier = GaussianNB()\n",
    "classifier.fit(X_train, y_train)\n",
    "y_pred = classifier.predict(X_test)\n",
    "\n",
    "cm = confusion_matrix(y_test, y_pred)\n",
    "print(cm)\n",
    "score(y_test, y_pred)"
   ]
  },
  {
   "cell_type": "markdown",
   "metadata": {},
   "source": [
    "## SVM"
   ]
  },
  {
   "cell_type": "code",
   "execution_count": 20,
   "metadata": {},
   "outputs": [
    {
     "name": "stdout",
     "output_type": "stream",
     "text": [
      "[[2186  120    0]\n",
      " [ 690  164    0]\n",
      " [ 230  107    0]]\n"
     ]
    },
    {
     "data": {
      "text/plain": [
       "0.6720045753503002"
      ]
     },
     "execution_count": 20,
     "metadata": {},
     "output_type": "execute_result"
    }
   ],
   "source": [
    "# PCA + Logistic Regression\n",
    "from sklearn.model_selection import train_test_split\n",
    "X_train, X_test, y_train, y_test = train_test_split(X,y,stratify=y, train_size=0.8)\n",
    "\n",
    "from sklearn.preprocessing import StandardScaler\n",
    "sc = StandardScaler()\n",
    "X_train = sc.fit_transform(X_train)\n",
    "X_test = sc.fit_transform(X_test)\n",
    "\n",
    "# from sklearn.linear_model import LogisticRegression\n",
    "# pca = PCA(n_components = 2)\n",
    "# X_train = pca.fit_transform(X_train)\n",
    "# X_test = pca.transform(X_test)\n",
    "# explained_variance = pca.explained_variance_ratio_\n",
    "\n",
    "# explained_variance\n",
    "from sklearn.svm import SVC\n",
    "classifier = SVC(kernel='linear', random_state=0)\n",
    "classifier.fit(X_train, y_train)\n",
    "y_pred = classifier.predict(X_test)\n",
    "\n",
    "cm = confusion_matrix(y_test, y_pred)\n",
    "print(cm)\n",
    "score(y_test, y_pred)"
   ]
  },
  {
   "cell_type": "markdown",
   "metadata": {},
   "source": [
    "## PCA + SVM"
   ]
  },
  {
   "cell_type": "code",
   "execution_count": 21,
   "metadata": {},
   "outputs": [
    {
     "name": "stdout",
     "output_type": "stream",
     "text": [
      "[[2306    0    0]\n",
      " [ 854    0    0]\n",
      " [ 337    0    0]]\n"
     ]
    },
    {
     "data": {
      "text/plain": [
       "0.6594223620245925"
      ]
     },
     "execution_count": 21,
     "metadata": {},
     "output_type": "execute_result"
    }
   ],
   "source": [
    "# PCA + Logistic Regression\n",
    "from sklearn.model_selection import train_test_split\n",
    "X_train, X_test, y_train, y_test = train_test_split(X,y,stratify=y, train_size=0.8)\n",
    "\n",
    "from sklearn.preprocessing import StandardScaler\n",
    "sc = StandardScaler()\n",
    "X_train = sc.fit_transform(X_train)\n",
    "X_test = sc.fit_transform(X_test)\n",
    "\n",
    "from sklearn.linear_model import LogisticRegression\n",
    "pca = PCA(n_components = 2)\n",
    "X_train = pca.fit_transform(X_train)\n",
    "X_test = pca.transform(X_test)\n",
    "# explained_variance = pca.explained_variance_ratio_\n",
    "\n",
    "# explained_variance\n",
    "from sklearn.svm import SVC\n",
    "classifier = SVC(kernel='linear', random_state=0)\n",
    "classifier.fit(X_train, y_train)\n",
    "y_pred = classifier.predict(X_test)\n",
    "\n",
    "cm = confusion_matrix(y_test, y_pred)\n",
    "print(cm)\n",
    "score(y_test, y_pred)"
   ]
  },
  {
   "cell_type": "markdown",
   "metadata": {},
   "source": [
    "## Neural Network"
   ]
  },
  {
   "cell_type": "code",
   "execution_count": 9,
   "metadata": {},
   "outputs": [
    {
     "name": "stderr",
     "output_type": "stream",
     "text": [
      "Using TensorFlow backend.\n",
      "/Users/mohamedmartino/opt/anaconda3/lib/python3.7/site-packages/ipykernel_launcher.py:19: UserWarning: Update your `Dense` call to the Keras 2 API: `Dense(activation=\"relu\", input_dim=7, units=8, kernel_initializer=\"uniform\")`\n",
      "/Users/mohamedmartino/opt/anaconda3/lib/python3.7/site-packages/ipykernel_launcher.py:22: UserWarning: Update your `Dense` call to the Keras 2 API: `Dense(activation=\"relu\", units=8, kernel_initializer=\"uniform\")`\n",
      "/Users/mohamedmartino/opt/anaconda3/lib/python3.7/site-packages/ipykernel_launcher.py:25: UserWarning: Update your `Dense` call to the Keras 2 API: `Dense(activation=\"sigmoid\", units=1, kernel_initializer=\"uniform\")`\n"
     ]
    },
    {
     "name": "stdout",
     "output_type": "stream",
     "text": [
      "Epoch 1/100\n",
      "13984/13984 [==============================] - 1s 51us/step - loss: 0.5336 - accuracy: 0.6388\n",
      "Epoch 2/100\n",
      "13984/13984 [==============================] - 0s 31us/step - loss: 0.3898 - accuracy: 0.6565\n",
      "Epoch 3/100\n",
      "13984/13984 [==============================] - 0s 25us/step - loss: 0.3711 - accuracy: 0.6630\n",
      "Epoch 4/100\n",
      "13984/13984 [==============================] - 0s 25us/step - loss: 0.3646 - accuracy: 0.6653\n",
      "Epoch 5/100\n",
      "13984/13984 [==============================] - 0s 31us/step - loss: 0.3583 - accuracy: 0.6677\n",
      "Epoch 6/100\n",
      "13984/13984 [==============================] - 1s 37us/step - loss: 0.3559 - accuracy: 0.6661\n",
      "Epoch 7/100\n",
      "13984/13984 [==============================] - 0s 32us/step - loss: 0.3505 - accuracy: 0.6692\n",
      "Epoch 8/100\n",
      "13984/13984 [==============================] - 0s 27us/step - loss: 0.3452 - accuracy: 0.6683\n",
      "Epoch 9/100\n",
      "13984/13984 [==============================] - 0s 25us/step - loss: 0.3402 - accuracy: 0.6710\n",
      "Epoch 10/100\n",
      "13984/13984 [==============================] - 0s 26us/step - loss: 0.3328 - accuracy: 0.6709\n",
      "Epoch 11/100\n",
      "13984/13984 [==============================] - 0s 26us/step - loss: 0.3242 - accuracy: 0.6718\n",
      "Epoch 12/100\n",
      "13984/13984 [==============================] - 1s 36us/step - loss: 0.3105 - accuracy: 0.6715\n",
      "Epoch 13/100\n",
      "13984/13984 [==============================] - 1s 37us/step - loss: 0.2979 - accuracy: 0.6741\n",
      "Epoch 14/100\n",
      "13984/13984 [==============================] - 1s 37us/step - loss: 0.2788 - accuracy: 0.6746\n",
      "Epoch 15/100\n",
      "13984/13984 [==============================] - 0s 31us/step - loss: 0.2576 - accuracy: 0.6740\n",
      "Epoch 16/100\n",
      "13984/13984 [==============================] - 1s 37us/step - loss: 0.2303 - accuracy: 0.6734\n",
      "Epoch 17/100\n",
      "13984/13984 [==============================] - 0s 28us/step - loss: 0.1981 - accuracy: 0.6738\n",
      "Epoch 18/100\n",
      "13984/13984 [==============================] - 1s 36us/step - loss: 0.1590 - accuracy: 0.6762\n",
      "Epoch 19/100\n",
      "13984/13984 [==============================] - 0s 27us/step - loss: 0.1129 - accuracy: 0.6758\n",
      "Epoch 20/100\n",
      "13984/13984 [==============================] - 0s 25us/step - loss: 0.0547 - accuracy: 0.6751\n",
      "Epoch 21/100\n",
      "13984/13984 [==============================] - 0s 25us/step - loss: -0.0091 - accuracy: 0.6753\n",
      "Epoch 22/100\n",
      "13984/13984 [==============================] - 0s 25us/step - loss: -0.0885 - accuracy: 0.6725\n",
      "Epoch 23/100\n",
      "13984/13984 [==============================] - 0s 24us/step - loss: -0.1768 - accuracy: 0.6724\n",
      "Epoch 24/100\n",
      "13984/13984 [==============================] - 0s 25us/step - loss: -0.2782 - accuracy: 0.6719\n",
      "Epoch 25/100\n",
      "13984/13984 [==============================] - 0s 25us/step - loss: -0.3935 - accuracy: 0.6712\n",
      "Epoch 26/100\n",
      "13984/13984 [==============================] - 0s 25us/step - loss: -0.5145 - accuracy: 0.6705\n",
      "Epoch 27/100\n",
      "13984/13984 [==============================] - 0s 25us/step - loss: -0.6640 - accuracy: 0.6728\n",
      "Epoch 28/100\n",
      "13984/13984 [==============================] - 0s 25us/step - loss: -0.8262 - accuracy: 0.6698\n",
      "Epoch 29/100\n",
      "13984/13984 [==============================] - 0s 25us/step - loss: -1.0017 - accuracy: 0.6711\n",
      "Epoch 30/100\n",
      "13984/13984 [==============================] - 0s 25us/step - loss: -1.2023 - accuracy: 0.6701\n",
      "Epoch 31/100\n",
      "13984/13984 [==============================] - 0s 29us/step - loss: -1.4072 - accuracy: 0.6708\n",
      "Epoch 32/100\n",
      "13984/13984 [==============================] - 0s 24us/step - loss: -1.6395 - accuracy: 0.6708\n",
      "Epoch 33/100\n",
      "13984/13984 [==============================] - 0s 25us/step - loss: -1.8844 - accuracy: 0.6701\n",
      "Epoch 34/100\n",
      "13984/13984 [==============================] - 0s 25us/step - loss: -2.1425 - accuracy: 0.6703\n",
      "Epoch 35/100\n",
      "13984/13984 [==============================] - 0s 25us/step - loss: -2.4294 - accuracy: 0.6706\n",
      "Epoch 36/100\n",
      "13984/13984 [==============================] - 0s 24us/step - loss: -2.7259 - accuracy: 0.6696\n",
      "Epoch 37/100\n",
      "13984/13984 [==============================] - 0s 25us/step - loss: -3.0438 - accuracy: 0.6686\n",
      "Epoch 38/100\n",
      "13984/13984 [==============================] - 0s 25us/step - loss: -3.3974 - accuracy: 0.6663\n",
      "Epoch 39/100\n",
      "13984/13984 [==============================] - 0s 24us/step - loss: -3.7547 - accuracy: 0.6658\n",
      "Epoch 40/100\n",
      "13984/13984 [==============================] - 0s 25us/step - loss: -4.1928 - accuracy: 0.6674\n",
      "Epoch 41/100\n",
      "13984/13984 [==============================] - 0s 25us/step - loss: -4.6612 - accuracy: 0.6708\n",
      "Epoch 42/100\n",
      "13984/13984 [==============================] - 0s 27us/step - loss: -5.1067 - accuracy: 0.6655\n",
      "Epoch 43/100\n",
      "13984/13984 [==============================] - 0s 25us/step - loss: -5.6301 - accuracy: 0.6669\n",
      "Epoch 44/100\n",
      "13984/13984 [==============================] - 0s 25us/step - loss: -6.1500 - accuracy: 0.6656\n",
      "Epoch 45/100\n",
      "13984/13984 [==============================] - 0s 29us/step - loss: -6.7099 - accuracy: 0.6677\n",
      "Epoch 46/100\n",
      "13984/13984 [==============================] - 0s 24us/step - loss: -7.2953 - accuracy: 0.6658\n",
      "Epoch 47/100\n",
      "13984/13984 [==============================] - 0s 25us/step - loss: -7.9024 - accuracy: 0.6679\n",
      "Epoch 48/100\n",
      "13984/13984 [==============================] - 0s 25us/step - loss: -8.5444 - accuracy: 0.6653\n",
      "Epoch 49/100\n",
      "13984/13984 [==============================] - 0s 25us/step - loss: -9.2121 - accuracy: 0.6646\n",
      "Epoch 50/100\n",
      "13984/13984 [==============================] - 0s 24us/step - loss: -9.8865 - accuracy: 0.6648\n",
      "Epoch 51/100\n",
      "13984/13984 [==============================] - 0s 24us/step - loss: -10.5927 - accuracy: 0.6639\n",
      "Epoch 52/100\n",
      "13984/13984 [==============================] - 0s 25us/step - loss: -11.3561 - accuracy: 0.6656\n",
      "Epoch 53/100\n",
      "13984/13984 [==============================] - 0s 25us/step - loss: -12.1448 - accuracy: 0.6654\n",
      "Epoch 54/100\n",
      "13984/13984 [==============================] - 0s 30us/step - loss: -12.9429 - accuracy: 0.6640\n",
      "Epoch 55/100\n",
      "13984/13984 [==============================] - 0s 27us/step - loss: -13.8296 - accuracy: 0.6662\n",
      "Epoch 56/100\n",
      "13984/13984 [==============================] - 0s 27us/step - loss: -14.7099 - accuracy: 0.6638\n",
      "Epoch 57/100\n",
      "13984/13984 [==============================] - 0s 27us/step - loss: -15.6334 - accuracy: 0.6663\n",
      "Epoch 58/100\n",
      "13984/13984 [==============================] - 0s 27us/step - loss: -16.5517 - accuracy: 0.6645\n",
      "Epoch 59/100\n",
      "13984/13984 [==============================] - 0s 25us/step - loss: -17.5545 - accuracy: 0.6657\n",
      "Epoch 60/100\n",
      "13984/13984 [==============================] - 0s 26us/step - loss: -18.5782 - accuracy: 0.6637\n",
      "Epoch 61/100\n",
      "13984/13984 [==============================] - 0s 31us/step - loss: -19.7151 - accuracy: 0.6619\n",
      "Epoch 62/100\n",
      "13984/13984 [==============================] - 0s 26us/step - loss: -20.8047 - accuracy: 0.6619\n",
      "Epoch 63/100\n",
      "13984/13984 [==============================] - 0s 30us/step - loss: -22.0170 - accuracy: 0.6629\n",
      "Epoch 64/100\n",
      "13984/13984 [==============================] - 0s 34us/step - loss: -23.2230 - accuracy: 0.6649\n",
      "Epoch 65/100\n",
      "13984/13984 [==============================] - 0s 28us/step - loss: -24.4556 - accuracy: 0.6643\n",
      "Epoch 66/100\n",
      "13984/13984 [==============================] - 0s 27us/step - loss: -25.6908 - accuracy: 0.6625\n",
      "Epoch 67/100\n",
      "13984/13984 [==============================] - 0s 26us/step - loss: -26.9700 - accuracy: 0.6605\n",
      "Epoch 68/100\n",
      "13984/13984 [==============================] - 0s 30us/step - loss: -28.2865 - accuracy: 0.6648\n",
      "Epoch 69/100\n",
      "13984/13984 [==============================] - 0s 27us/step - loss: -29.7132 - accuracy: 0.6623\n",
      "Epoch 70/100\n",
      "13984/13984 [==============================] - 0s 28us/step - loss: -31.2178 - accuracy: 0.6619\n",
      "Epoch 71/100\n",
      "13984/13984 [==============================] - 0s 25us/step - loss: -32.6786 - accuracy: 0.6616\n",
      "Epoch 72/100\n",
      "13984/13984 [==============================] - 0s 34us/step - loss: -34.2484 - accuracy: 0.6630\n",
      "Epoch 73/100\n",
      "13984/13984 [==============================] - 1s 42us/step - loss: -35.7985 - accuracy: 0.6626\n",
      "Epoch 74/100\n",
      "13984/13984 [==============================] - 0s 29us/step - loss: -37.4453 - accuracy: 0.6608\n",
      "Epoch 75/100\n",
      "13984/13984 [==============================] - 0s 29us/step - loss: -39.1070 - accuracy: 0.6615\n",
      "Epoch 76/100\n"
     ]
    },
    {
     "name": "stdout",
     "output_type": "stream",
     "text": [
      "13984/13984 [==============================] - 0s 25us/step - loss: -40.8181 - accuracy: 0.6617\n",
      "Epoch 77/100\n",
      "13984/13984 [==============================] - 0s 24us/step - loss: -42.5826 - accuracy: 0.6630\n",
      "Epoch 78/100\n",
      "13984/13984 [==============================] - 0s 25us/step - loss: -44.2881 - accuracy: 0.6625\n",
      "Epoch 79/100\n",
      "13984/13984 [==============================] - 0s 25us/step - loss: -46.3181 - accuracy: 0.6622\n",
      "Epoch 80/100\n",
      "13984/13984 [==============================] - 0s 24us/step - loss: -48.2216 - accuracy: 0.6629\n",
      "Epoch 81/100\n",
      "13984/13984 [==============================] - 0s 25us/step - loss: -50.2207 - accuracy: 0.6625\n",
      "Epoch 82/100\n",
      "13984/13984 [==============================] - 0s 26us/step - loss: -52.1452 - accuracy: 0.6621\n",
      "Epoch 83/100\n",
      "13984/13984 [==============================] - 0s 27us/step - loss: -54.2958 - accuracy: 0.6610\n",
      "Epoch 84/100\n",
      "13984/13984 [==============================] - 0s 25us/step - loss: -56.4498 - accuracy: 0.6587\n",
      "Epoch 85/100\n",
      "13984/13984 [==============================] - 0s 26us/step - loss: -58.7478 - accuracy: 0.6596\n",
      "Epoch 86/100\n",
      "13984/13984 [==============================] - 0s 30us/step - loss: -60.9827 - accuracy: 0.6641\n",
      "Epoch 87/100\n",
      "13984/13984 [==============================] - 0s 28us/step - loss: -63.3462 - accuracy: 0.6586\n",
      "Epoch 88/100\n",
      "13984/13984 [==============================] - 0s 27us/step - loss: -65.7494 - accuracy: 0.6621\n",
      "Epoch 89/100\n",
      "13984/13984 [==============================] - 0s 26us/step - loss: -68.2283 - accuracy: 0.6602\n",
      "Epoch 90/100\n",
      "13984/13984 [==============================] - 0s 25us/step - loss: -70.6976 - accuracy: 0.6628\n",
      "Epoch 91/100\n",
      "13984/13984 [==============================] - 0s 25us/step - loss: -73.2471 - accuracy: 0.6603\n",
      "Epoch 92/100\n",
      "13984/13984 [==============================] - 0s 24us/step - loss: -75.7713 - accuracy: 0.6609\n",
      "Epoch 93/100\n",
      "13984/13984 [==============================] - 0s 25us/step - loss: -78.3989 - accuracy: 0.6613\n",
      "Epoch 94/100\n",
      "13984/13984 [==============================] - 0s 26us/step - loss: -80.9512 - accuracy: 0.6609\n",
      "Epoch 95/100\n",
      "13984/13984 [==============================] - 0s 29us/step - loss: -83.8391 - accuracy: 0.6600\n",
      "Epoch 96/100\n",
      "13984/13984 [==============================] - 0s 27us/step - loss: -86.6310 - accuracy: 0.6642\n",
      "Epoch 97/100\n",
      "13984/13984 [==============================] - 1s 38us/step - loss: -89.5108 - accuracy: 0.6625\n",
      "Epoch 98/100\n",
      "13984/13984 [==============================] - 1s 40us/step - loss: -92.3006 - accuracy: 0.6604\n",
      "Epoch 99/100\n",
      "13984/13984 [==============================] - 0s 26us/step - loss: -95.4125 - accuracy: 0.6618\n",
      "Epoch 100/100\n",
      "13984/13984 [==============================] - 0s 35us/step - loss: -98.5904 - accuracy: 0.6608\n"
     ]
    },
    {
     "data": {
      "text/plain": [
       "array([[1661,  655,    0],\n",
       "       [ 250,  610,    0],\n",
       "       [  36,  285,    0]])"
      ]
     },
     "execution_count": 9,
     "metadata": {},
     "output_type": "execute_result"
    }
   ],
   "source": [
    "from sklearn.model_selection import train_test_split\n",
    "X_train, X_test, y_train, y_test = train_test_split(X,y, train_size=0.8)\n",
    "\n",
    "from sklearn.preprocessing import StandardScaler\n",
    "sc = StandardScaler()\n",
    "X_train = sc.fit_transform(X_train)\n",
    "X_test = sc.fit_transform(X_test)\n",
    "\n",
    "#Importing Keras packages\n",
    "import keras\n",
    "from keras.models import Sequential\n",
    "from keras.layers import Dense\n",
    "\n",
    "\n",
    "#Initializing the ANN\n",
    "classifier = Sequential()\n",
    "\n",
    "#Adding the input layer and the first hidden layer\n",
    "classifier.add(Dense(output_dim=8,init='uniform',activation='relu',input_dim=7))\n",
    "\n",
    "#Adding the second hidden layer\n",
    "classifier.add(Dense(output_dim=8,init='uniform',activation='relu'))\n",
    "\n",
    "#Adding the output layer\n",
    "classifier.add(Dense(output_dim=1,init='uniform',activation='sigmoid'))\n",
    "\n",
    "#Making predictions and evaluating the model\n",
    "classifier.compile(optimizer='adam',loss='binary_crossentropy',metrics=['accuracy'])\n",
    "\n",
    "#Fit ANN to training set\n",
    "classifier.fit(X_train,y_train,epochs=100)\n",
    "\n",
    "#Predicting the test set results\n",
    "y_pred = classifier.predict(X_test)\n",
    "y_pred = (y_pred>0.5)\n",
    "\n",
    "from sklearn.metrics import confusion_matrix\n",
    "cm = confusion_matrix(y_test,y_pred)\n",
    "cm"
   ]
  },
  {
   "cell_type": "code",
   "execution_count": 23,
   "metadata": {},
   "outputs": [],
   "source": [
    "# bagginclassiffier"
   ]
  },
  {
   "cell_type": "code",
   "execution_count": 24,
   "metadata": {},
   "outputs": [
    {
     "name": "stdout",
     "output_type": "stream",
     "text": [
      "[[2078  203   25]\n",
      " [ 610  201   43]\n",
      " [ 208  101   28]]\n"
     ]
    },
    {
     "data": {
      "text/plain": [
       "0.6597083214183586"
      ]
     },
     "execution_count": 24,
     "metadata": {},
     "output_type": "execute_result"
    }
   ],
   "source": [
    "# PCA + Logistic Regression\n",
    "from sklearn.model_selection import train_test_split\n",
    "X_train, X_test, y_train, y_test = train_test_split(X,y,stratify=y, train_size=0.8)\n",
    "\n",
    "from sklearn.preprocessing import StandardScaler\n",
    "sc = StandardScaler()\n",
    "X_train = sc.fit_transform(X_train)\n",
    "X_test = sc.fit_transform(X_test)\n",
    "\n",
    "# from sklearn.linear_model import LogisticRegression\n",
    "# pca = PCA(n_components = 2)\n",
    "# X_train = pca.fit_transform(X_train)\n",
    "# X_test = pca.transform(X_test)\n",
    "# explained_variance = pca.explained_variance_ratio_\n",
    "\n",
    "# explained_variance\n",
    "from sklearn.ensemble import BaggingClassifier\n",
    "from sklearn.neighbors import KNeighborsClassifier\n",
    "from sklearn.tree import DecisionTreeClassifier\n",
    "\n",
    "classifier = BaggingClassifier(base_estimator= DecisionTreeClassifier(),\\\n",
    "                               max_samples = 0.5, max_features = 0.5, \\\n",
    "                               bootstrap = False, bootstrap_features = False)\n",
    "classifier.fit(X_train, y_train)\n",
    "y_pred = classifier.predict(X_test)\n",
    "\n",
    "cm = confusion_matrix(y_test, y_pred)\n",
    "print(cm)\n",
    "score(y_test, y_pred)"
   ]
  },
  {
   "cell_type": "code",
   "execution_count": null,
   "metadata": {},
   "outputs": [],
   "source": []
  },
  {
   "cell_type": "code",
   "execution_count": null,
   "metadata": {},
   "outputs": [],
   "source": []
  }
 ],
 "metadata": {
  "kernelspec": {
<<<<<<< HEAD
   "display_name": "Python (bootcamp)",
   "language": "python",
   "name": "bootcamp"
=======
   "display_name": "Python 3",
   "language": "python",
   "name": "python3"
>>>>>>> 745905f5439da864fa149283d8e09b7eb86f3ee6
  },
  "language_info": {
   "codemirror_mode": {
    "name": "ipython",
    "version": 3
   },
   "file_extension": ".py",
   "mimetype": "text/x-python",
   "name": "python",
   "nbconvert_exporter": "python",
   "pygments_lexer": "ipython3",
<<<<<<< HEAD
   "version": "3.7.4"
=======
   "version": "3.7.3"
>>>>>>> 745905f5439da864fa149283d8e09b7eb86f3ee6
  }
 },
 "nbformat": 4,
 "nbformat_minor": 2
}
