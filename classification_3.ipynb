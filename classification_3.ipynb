{
 "cells": [
  {
   "cell_type": "markdown",
   "metadata": {},
   "source": [
    "## This notbeook contains numerical attributes only"
   ]
  },
  {
   "cell_type": "code",
   "execution_count": 2,
   "metadata": {},
   "outputs": [],
   "source": [
    "import pandas as pd\n",
    "import numpy as np\n",
    "import matplotlib.pyplot as plt\n",
    "from functools import reduce\n",
    "from sklearn.metrics import accuracy_score as score\n",
    "from sklearn.impute import SimpleImputer\n",
    "import seaborn as sns"
   ]
  },
  {
   "cell_type": "code",
   "execution_count": 34,
   "metadata": {},
   "outputs": [
    {
     "name": "stdout",
     "output_type": "stream",
     "text": [
      "columns: 693\n",
      "rows: 9813\n"
     ]
    }
   ],
   "source": [
    "file_1 = pd.read_csv('resources/2013-2014/demographic.csv')\n",
    "file_2 = pd.read_csv('resources/2013-2014/examination.csv')\n",
    "file_3 = pd.read_csv('resources/2013-2014/labs.csv')\n",
    "\n",
    "df_1 = pd.DataFrame(file_1)\n",
    "df_2 = pd.DataFrame(file_2)\n",
    "df_3 = pd.DataFrame(file_3)\n",
    "\n",
    "dataframes = [df_1,df_2,df_3]\n",
    "\n",
    "merged=reduce(lambda left,right: pd.merge(left, right, on=['SEQN'], how='inner'), dataframes)\n",
    "merged.dropna(how='all', axis=1)\n",
    "merged.dropna(how='all', axis=0)\n",
    "\n",
    "df = reduce(lambda left, right: pd.merge(left,right,on='SEQN'), dataframes)\n",
    "\n",
    "print('columns: ' + str(len(df.columns.tolist())))\n",
    "print('rows: ' + str(len(df.index)))\n",
    "\n",
    "df = df.loc[:,['SEQN','RIDAGEYR','BPXSY2','BPXDI2','BMXWAIST','MGDCGSZ','BMXBMI','BMXARMC','BPXPLS','LBXGH']]"
   ]
  },
  {
   "cell_type": "code",
   "execution_count": 5,
   "metadata": {},
   "outputs": [
    {
     "data": {
      "text/html": [
       "<div>\n",
       "<style scoped>\n",
       "    .dataframe tbody tr th:only-of-type {\n",
       "        vertical-align: middle;\n",
       "    }\n",
       "\n",
       "    .dataframe tbody tr th {\n",
       "        vertical-align: top;\n",
       "    }\n",
       "\n",
       "    .dataframe thead th {\n",
       "        text-align: right;\n",
       "    }\n",
       "</style>\n",
       "<table border=\"1\" class=\"dataframe\">\n",
       "  <thead>\n",
       "    <tr style=\"text-align: right;\">\n",
       "      <th></th>\n",
       "      <th>age</th>\n",
       "      <th>systolic</th>\n",
       "      <th>diastolic</th>\n",
       "      <th>waist_circumference</th>\n",
       "      <th>grip</th>\n",
       "      <th>bmi</th>\n",
       "      <th>arm_circumference</th>\n",
       "      <th>pulse_60s</th>\n",
       "      <th>diabetes</th>\n",
       "    </tr>\n",
       "  </thead>\n",
       "  <tbody>\n",
       "    <tr>\n",
       "      <td>0</td>\n",
       "      <td>69</td>\n",
       "      <td>114.0</td>\n",
       "      <td>76.0</td>\n",
       "      <td>100.0</td>\n",
       "      <td>55.2</td>\n",
       "      <td>26.7</td>\n",
       "      <td>35.3</td>\n",
       "      <td>86.0</td>\n",
       "      <td>2</td>\n",
       "    </tr>\n",
       "    <tr>\n",
       "      <td>1</td>\n",
       "      <td>54</td>\n",
       "      <td>160.0</td>\n",
       "      <td>80.0</td>\n",
       "      <td>107.6</td>\n",
       "      <td>61.5</td>\n",
       "      <td>28.6</td>\n",
       "      <td>34.7</td>\n",
       "      <td>74.0</td>\n",
       "      <td>2</td>\n",
       "    </tr>\n",
       "    <tr>\n",
       "      <td>2</td>\n",
       "      <td>72</td>\n",
       "      <td>140.0</td>\n",
       "      <td>76.0</td>\n",
       "      <td>109.2</td>\n",
       "      <td>91.0</td>\n",
       "      <td>28.9</td>\n",
       "      <td>33.5</td>\n",
       "      <td>68.0</td>\n",
       "      <td>2</td>\n",
       "    </tr>\n",
       "    <tr>\n",
       "      <td>4</td>\n",
       "      <td>73</td>\n",
       "      <td>134.0</td>\n",
       "      <td>88.0</td>\n",
       "      <td>NaN</td>\n",
       "      <td>30.9</td>\n",
       "      <td>19.7</td>\n",
       "      <td>25.2</td>\n",
       "      <td>92.0</td>\n",
       "      <td>0</td>\n",
       "    </tr>\n",
       "    <tr>\n",
       "      <td>5</td>\n",
       "      <td>56</td>\n",
       "      <td>158.0</td>\n",
       "      <td>82.0</td>\n",
       "      <td>123.1</td>\n",
       "      <td>53.1</td>\n",
       "      <td>41.7</td>\n",
       "      <td>41.8</td>\n",
       "      <td>60.0</td>\n",
       "      <td>0</td>\n",
       "    </tr>\n",
       "  </tbody>\n",
       "</table>\n",
       "</div>"
      ],
      "text/plain": [
       "   age  systolic  diastolic  waist_circumference  grip   bmi  \\\n",
       "0   69     114.0       76.0                100.0  55.2  26.7   \n",
       "1   54     160.0       80.0                107.6  61.5  28.6   \n",
       "2   72     140.0       76.0                109.2  91.0  28.9   \n",
       "4   73     134.0       88.0                  NaN  30.9  19.7   \n",
       "5   56     158.0       82.0                123.1  53.1  41.7   \n",
       "\n",
       "   arm_circumference  pulse_60s  diabetes  \n",
       "0               35.3       86.0         2  \n",
       "1               34.7       74.0         2  \n",
       "2               33.5       68.0         2  \n",
       "4               25.2       92.0         0  \n",
       "5               41.8       60.0         0  "
      ]
     },
     "execution_count": 5,
     "metadata": {},
     "output_type": "execute_result"
    }
   ],
   "source": [
    "df = df.rename(columns ={\n",
    "    'SEQN': 'seqn',\n",
    "    'RIAGENDR': 'gender',\n",
    "    'RIDAGEYR': 'age',\n",
    "    'RIDRETH3': 'ethnicity',\n",
    "    'DMDEDUC3': 'education_child',\n",
    "    'DMDEDUC2': 'education_adult',\n",
    "    'INDHHIN2': 'household_income',\n",
    "    'BMXWAIST': 'waist_circumference',\n",
    "    'MGDCGSZ': 'grip',\n",
    "    'BMXBMI': 'bmi',\n",
    "    'BMXARMC': 'arm_circumference',\n",
    "    'BPXPLS': 'pulse_60s',\n",
    "    'BPXSY2': 'systolic',\n",
    "    'BPXDI2': 'diastolic',\n",
    "    'LBXGH': 'glycohemoglobin'\n",
    "})\n",
    "\n",
    "# WebMD definition of diabetes based on glycated hemoglobin levels.\n",
    "# 3 classification labels\n",
    "\n",
    "conditions = [\n",
    "    (df['glycohemoglobin'] < 5.7),\n",
    "    (df['glycohemoglobin'] >= 5.7) & (df['glycohemoglobin']<=6.4),\n",
    "    (df['glycohemoglobin']>6.4)\n",
    "]\n",
    "\n",
    "diagnosis = [0,1,2]\n",
    "\n",
    "df['diabetes'] = np.select(conditions, diagnosis)\n",
    "\n",
    "\n",
    "# dropping rows where glycohemoglobin and pulse (if pulse is null --> syst/diast is null) is NaN \n",
    "df.dropna(axis=0, subset=['glycohemoglobin','pulse_60s'],inplace=True)\n",
    "df = df.drop('glycohemoglobin', axis=1).drop('seqn', axis=1)\n",
    "\n",
    "# Dropping age<19\n",
    "df = df[df['age']>=18]\n",
    "df.head()"
   ]
  },
  {
   "cell_type": "code",
   "execution_count": 6,
   "metadata": {},
   "outputs": [
    {
     "data": {
      "text/plain": [
       "age                      0\n",
       "systolic               101\n",
       "diastolic              101\n",
       "waist_circumference    246\n",
       "grip                   399\n",
       "bmi                     57\n",
       "arm_circumference      190\n",
       "pulse_60s                0\n",
       "diabetes                 0\n",
       "dtype: int64"
      ]
     },
     "execution_count": 6,
     "metadata": {},
     "output_type": "execute_result"
    }
   ],
   "source": [
    "df.isna().sum()"
   ]
  },
  {
   "cell_type": "code",
   "execution_count": 7,
   "metadata": {},
   "outputs": [
    {
     "data": {
      "text/plain": [
       "diabetes               1.000000\n",
       "age                    0.420478\n",
       "waist_circumference    0.329816\n",
       "systolic               0.278478\n",
       "bmi                    0.257546\n",
       "arm_circumference      0.203870\n",
       "pulse_60s              0.024771\n",
       "diastolic              0.012824\n",
       "grip                  -0.113390\n",
       "Name: diabetes, dtype: float64"
      ]
     },
     "execution_count": 7,
     "metadata": {},
     "output_type": "execute_result"
    }
   ],
   "source": [
    "correlation = df.corr()\n",
    "correlation[\"diabetes\"].sort_values(ascending=False)"
   ]
  },
  {
   "cell_type": "code",
   "execution_count": 8,
   "metadata": {},
   "outputs": [
    {
     "data": {
      "text/plain": [
       "<matplotlib.axes._subplots.AxesSubplot at 0x1a1a511a10>"
      ]
     },
     "execution_count": 8,
     "metadata": {},
     "output_type": "execute_result"
    },
    {
     "data": {
      "image/png": "[encoded data removed]",
      "text/plain": [
       "<Figure size 1440x1440 with 2 Axes>"
      ]
     },
     "metadata": {
      "needs_background": "light"
     },
     "output_type": "display_data"
    }
   ],
   "source": [
    "cm = plt.cm.inferno\n",
    "plt.figure(figsize= (20,20))\n",
    "sns.heatmap(df.astype(float).corr(), linewidths= 0.1, vmax=1, square=True, cmap=cm, annot=True)"
   ]
  },
  {
   "cell_type": "code",
   "execution_count": 9,
   "metadata": {},
   "outputs": [
    {
     "name": "stdout",
     "output_type": "stream",
     "text": [
      "Label Proportion in Clean Dataset\n",
      "non-diabetic: 0.6410953935437069\n",
      "non-diabetic: 0.254443235400798\n",
      "non-diabetic: 0.1044613710554951\n"
     ]
    },
    {
     "data": {
      "text/html": [
       "<div>\n",
       "<style scoped>\n",
       "    .dataframe tbody tr th:only-of-type {\n",
       "        vertical-align: middle;\n",
       "    }\n",
       "\n",
       "    .dataframe tbody tr th {\n",
       "        vertical-align: top;\n",
       "    }\n",
       "\n",
       "    .dataframe thead th {\n",
       "        text-align: right;\n",
       "    }\n",
       "</style>\n",
       "<table border=\"1\" class=\"dataframe\">\n",
       "  <thead>\n",
       "    <tr style=\"text-align: right;\">\n",
       "      <th></th>\n",
       "      <th>age</th>\n",
       "      <th>systolic</th>\n",
       "      <th>diastolic</th>\n",
       "      <th>waist_circumference</th>\n",
       "      <th>grip</th>\n",
       "      <th>bmi</th>\n",
       "      <th>arm_circumference</th>\n",
       "      <th>pulse_60s</th>\n",
       "      <th>diabetes</th>\n",
       "    </tr>\n",
       "  </thead>\n",
       "  <tbody>\n",
       "    <tr>\n",
       "      <td>0</td>\n",
       "      <td>69</td>\n",
       "      <td>114.0</td>\n",
       "      <td>76.0</td>\n",
       "      <td>100.0</td>\n",
       "      <td>55.2</td>\n",
       "      <td>26.7</td>\n",
       "      <td>35.3</td>\n",
       "      <td>86.0</td>\n",
       "      <td>2</td>\n",
       "    </tr>\n",
       "    <tr>\n",
       "      <td>1</td>\n",
       "      <td>54</td>\n",
       "      <td>160.0</td>\n",
       "      <td>80.0</td>\n",
       "      <td>107.6</td>\n",
       "      <td>61.5</td>\n",
       "      <td>28.6</td>\n",
       "      <td>34.7</td>\n",
       "      <td>74.0</td>\n",
       "      <td>2</td>\n",
       "    </tr>\n",
       "  </tbody>\n",
       "</table>\n",
       "</div>"
      ],
      "text/plain": [
       "   age  systolic  diastolic  waist_circumference  grip   bmi  \\\n",
       "0   69     114.0       76.0                100.0  55.2  26.7   \n",
       "1   54     160.0       80.0                107.6  61.5  28.6   \n",
       "\n",
       "   arm_circumference  pulse_60s  diabetes  \n",
       "0               35.3       86.0         2  \n",
       "1               34.7       74.0         2  "
      ]
     },
     "execution_count": 9,
     "metadata": {},
     "output_type": "execute_result"
    }
   ],
   "source": [
    "# Proportions of labels in cleaned datset\n",
    "print('Label Proportion in Clean Dataset')\n",
    "print('non-diabetic: ' + str(df['diabetes'].value_counts()[0]/df['diabetes'].value_counts().sum()))\n",
    "print('non-diabetic: ' + str(df['diabetes'].value_counts()[1]/df['diabetes'].value_counts().sum()))\n",
    "print('non-diabetic: ' + str(df['diabetes'].value_counts()[2]/df['diabetes'].value_counts().sum()))\n",
    "\n",
    "df.head(2)"
   ]
  },
  {
   "cell_type": "code",
   "execution_count": 10,
   "metadata": {},
   "outputs": [
    {
     "name": "stderr",
     "output_type": "stream",
     "text": [
      "/Users/mohamedmartino/opt/anaconda3/lib/python3.7/site-packages/sklearn/utils/deprecation.py:66: DeprecationWarning: Class Imputer is deprecated; Imputer was deprecated in version 0.20 and will be removed in 0.22. Import impute.SimpleImputer from sklearn instead.\n",
      "  warnings.warn(msg, category=DeprecationWarning)\n"
     ]
    },
    {
     "data": {
      "text/plain": [
       "0    0\n",
       "1    0\n",
       "2    0\n",
       "3    0\n",
       "4    0\n",
       "5    0\n",
       "6    0\n",
       "7    0\n",
       "dtype: int64"
      ]
     },
     "execution_count": 10,
     "metadata": {},
     "output_type": "execute_result"
    }
   ],
   "source": [
    "from sklearn.preprocessing import Imputer\n",
    "\n",
    "features = df.iloc[:,0:8].values\n",
    "labels = df.iloc[:,8].values\n",
    "\n",
    "imputer = Imputer(missing_values= 'NaN', strategy='median', axis=0)\n",
    "imputer.fit(features[:, 1:7])\n",
    "features[:, 1:7] = imputer.fit_transform(features[:, 1:7])\n",
    "\n",
    "df_features = pd.DataFrame(features)\n",
    "\n",
    "X = df_features.iloc[:,:].values\n",
    "y = labels\n",
    "\n",
    "df_features.isnull().sum()"
   ]
  },
  {
   "cell_type": "markdown",
   "metadata": {},
   "source": [
    "## Random Forest Classifier"
   ]
  },
  {
   "cell_type": "code",
   "execution_count": 11,
   "metadata": {},
   "outputs": [
    {
     "name": "stdout",
     "output_type": "stream",
     "text": [
      "[[620  80   7]\n",
      " [172  88  21]\n",
      " [ 51  54  10]]\n"
     ]
    },
    {
     "data": {
      "text/plain": [
       "0.6509519492293744"
      ]
     },
     "execution_count": 11,
     "metadata": {},
     "output_type": "execute_result"
    }
   ],
   "source": [
    "from sklearn.model_selection import train_test_split\n",
    "X_train, X_test, y_train, y_test = train_test_split(X,y,stratify=y, train_size=0.8)\n",
    "\n",
    "from sklearn.preprocessing import StandardScaler\n",
    "sc = StandardScaler()\n",
    "X_train = sc.fit_transform(X_train)\n",
    "X_test = sc.fit_transform(X_test)\n",
    "\n",
    "from sklearn.ensemble import RandomForestClassifier\n",
    "classifier = RandomForestClassifier(n_estimators=1000, random_state=0,criterion='entropy')\n",
    "classifier.fit(X_train, y_train)\n",
    "y_pred = (classifier.predict(X_test))\n",
    "\n",
    "from sklearn.metrics import confusion_matrix\n",
    "cm = confusion_matrix(y_test, y_pred)\n",
    "print(cm)\n",
    "score(y_test, y_pred)"
   ]
  },
  {
   "cell_type": "markdown",
   "metadata": {},
   "source": [
    "## PCA + Random Forest"
   ]
  },
  {
   "cell_type": "code",
   "execution_count": 19,
   "metadata": {},
   "outputs": [
    {
     "name": "stdout",
     "output_type": "stream",
     "text": [
      "[[586  98  23]\n",
      " [172  74  35]\n",
      " [ 62  41  12]]\n"
     ]
    },
    {
     "data": {
      "text/plain": [
       "0.6092475067996374"
      ]
     },
     "execution_count": 19,
     "metadata": {},
     "output_type": "execute_result"
    }
   ],
   "source": [
    "from sklearn.model_selection import train_test_split\n",
    "X_train, X_test, y_train, y_test = train_test_split(X,y,stratify=y,train_size=0.8)\n",
    "\n",
    "from sklearn.preprocessing import StandardScaler\n",
    "sc = StandardScaler()\n",
    "X_train = sc.fit_transform(X_train)\n",
    "X_test = sc.fit_transform(X_test)\n",
    "\n",
    "# PCA + RandomForest\n",
    "from sklearn.decomposition import PCA\n",
    "pca = PCA(n_components = 2)\n",
    "X_train = pca.fit_transform(X_train)\n",
    "X_test = pca.transform(X_test)\n",
    "explained_variance = pca.explained_variance_ratio_\n",
    "\n",
    "# explained_variance\n",
    "\n",
    "classifier = RandomForestClassifier(n_estimators=100, random_state=0,criterion='entropy')\n",
    "classifier.fit(X_train, y_train)\n",
    "y_pred = (classifier.predict(X_test))\n",
    "\n",
    "cm = confusion_matrix(y_test, y_pred)\n",
    "print(cm)\n",
    "score(y_test, y_pred)"
   ]
  },
  {
   "cell_type": "markdown",
   "metadata": {},
   "source": [
    "## Logistic Regression"
   ]
  },
  {
   "cell_type": "code",
   "execution_count": 24,
   "metadata": {},
   "outputs": [
    {
     "name": "stdout",
     "output_type": "stream",
     "text": [
      "[[624  80   3]\n",
      " [186  91   4]\n",
      " [ 62  50   3]]\n"
     ]
    },
    {
     "name": "stderr",
     "output_type": "stream",
     "text": [
      "/Users/mohamedmartino/opt/anaconda3/lib/python3.7/site-packages/sklearn/linear_model/logistic.py:432: FutureWarning: Default solver will be changed to 'lbfgs' in 0.22. Specify a solver to silence this warning.\n",
      "  FutureWarning)\n",
      "/Users/mohamedmartino/opt/anaconda3/lib/python3.7/site-packages/sklearn/linear_model/logistic.py:469: FutureWarning: Default multi_class will be changed to 'auto' in 0.22. Specify the multi_class option to silence this warning.\n",
      "  \"this warning.\", FutureWarning)\n"
     ]
    },
    {
     "data": {
      "text/plain": [
       "0.6509519492293744"
      ]
     },
     "execution_count": 24,
     "metadata": {},
     "output_type": "execute_result"
    }
   ],
   "source": [
    "# PCA + Logistic Regression\n",
    "from sklearn.model_selection import train_test_split\n",
    "X_train, X_test, y_train, y_test = train_test_split(X,y,stratify=y, train_size=0.8)\n",
    "\n",
    "from sklearn.preprocessing import StandardScaler\n",
    "sc = StandardScaler()\n",
    "X_train = sc.fit_transform(X_train)\n",
    "X_test = sc.fit_transform(X_test)\n",
    "\n",
    "# from sklearn.linear_model import LogisticRegression\n",
    "# pca = PCA(n_components = 2)\n",
    "# X_train = pca.fit_transform(X_train)\n",
    "# X_test = pca.transform(X_test)\n",
    "# explained_variance = pca.explained_variance_ratio_\n",
    "\n",
    "# explained_variance\n",
    "\n",
    "classifier = LogisticRegression(random_state=0)\n",
    "classifier.fit(X_train, y_train)\n",
    "y_pred = classifier.predict(X_test)\n",
    "\n",
    "cm = confusion_matrix(y_test, y_pred)\n",
    "print(cm)\n",
    "score(y_test, y_pred)"
   ]
  },
  {
   "cell_type": "markdown",
   "metadata": {},
   "source": [
    "## PCA + Logistic Regression"
   ]
  },
  {
   "cell_type": "code",
   "execution_count": 25,
   "metadata": {},
   "outputs": [
    {
     "name": "stdout",
     "output_type": "stream",
     "text": [
      "[[630  77   0]\n",
      " [209  72   0]\n",
      " [ 60  55   0]]\n"
     ]
    },
    {
     "name": "stderr",
     "output_type": "stream",
     "text": [
      "/Users/mohamedmartino/opt/anaconda3/lib/python3.7/site-packages/sklearn/linear_model/logistic.py:432: FutureWarning: Default solver will be changed to 'lbfgs' in 0.22. Specify a solver to silence this warning.\n",
      "  FutureWarning)\n",
      "/Users/mohamedmartino/opt/anaconda3/lib/python3.7/site-packages/sklearn/linear_model/logistic.py:469: FutureWarning: Default multi_class will be changed to 'auto' in 0.22. Specify the multi_class option to silence this warning.\n",
      "  \"this warning.\", FutureWarning)\n"
     ]
    },
    {
     "data": {
      "text/plain": [
       "0.6364460562103355"
      ]
     },
     "execution_count": 25,
     "metadata": {},
     "output_type": "execute_result"
    }
   ],
   "source": [
    "# PCA + Logistic Regression\n",
    "from sklearn.model_selection import train_test_split\n",
    "X_train, X_test, y_train, y_test = train_test_split(X,y,stratify=y, train_size=0.8)\n",
    "\n",
    "from sklearn.preprocessing import StandardScaler\n",
    "sc = StandardScaler()\n",
    "X_train = sc.fit_transform(X_train)\n",
    "X_test = sc.fit_transform(X_test)\n",
    "\n",
    "from sklearn.linear_model import LogisticRegression\n",
    "pca = PCA(n_components = 2)\n",
    "X_train = pca.fit_transform(X_train)\n",
    "X_test = pca.transform(X_test)\n",
    "explained_variance = pca.explained_variance_ratio_\n",
    "\n",
    "# explained_variance\n",
    "\n",
    "classifier = LogisticRegression(random_state=0)\n",
    "classifier.fit(X_train, y_train)\n",
    "y_pred = classifier.predict(X_test)\n",
    "\n",
    "cm = confusion_matrix(y_test, y_pred)\n",
    "print(cm)\n",
    "score(y_test, y_pred)"
   ]
  },
  {
   "cell_type": "code",
   "execution_count": 23,
   "metadata": {},
   "outputs": [
    {
     "name": "stderr",
     "output_type": "stream",
     "text": [
      "'c' argument looks like a single numeric RGB or RGBA sequence, which should be avoided as value-mapping will have precedence in case its length matches with 'x' & 'y'.  Please use a 2-D array with a single row if you really want to specify the same RGB or RGBA value for all points.\n",
      "'c' argument looks like a single numeric RGB or RGBA sequence, which should be avoided as value-mapping will have precedence in case its length matches with 'x' & 'y'.  Please use a 2-D array with a single row if you really want to specify the same RGB or RGBA value for all points.\n",
      "'c' argument looks like a single numeric RGB or RGBA sequence, which should be avoided as value-mapping will have precedence in case its length matches with 'x' & 'y'.  Please use a 2-D array with a single row if you really want to specify the same RGB or RGBA value for all points.\n"
     ]
    },
    {
     "data": {
      "image/png": "[encoded data removed]",
      "text/plain": [
       "<Figure size 432x288 with 1 Axes>"
      ]
     },
     "metadata": {
      "needs_background": "light"
     },
     "output_type": "display_data"
    }
   ],
   "source": [
    "# Visualising the Training set results\n",
    "from matplotlib.colors import ListedColormap\n",
    "X_set, y_set = X_train, y_train\n",
    "X1, X2 = np.meshgrid(np.arange(start = X_set[:, 0].min() - 1, stop = X_set[:, 0].max() + 1, step = 0.01),\n",
    "                     np.arange(start = X_set[:, 1].min() - 1, stop = X_set[:, 1].max() + 1, step = 0.01))\n",
    "plt.contourf(X1, X2, classifier.predict(np.array([X1.ravel(), X2.ravel()]).T).reshape(X1.shape),\n",
    "             alpha = 0.75, cmap = ListedColormap(('red', 'green', 'blue')))\n",
    "plt.xlim(X1.min(), X1.max())\n",
    "plt.ylim(X2.min(), X2.max())\n",
    "for i, j in enumerate(np.unique(y_set)):\n",
    "    plt.scatter(X_set[y_set == j, 0], X_set[y_set == j, 1],\n",
    "                c = ListedColormap(('red', 'green', 'blue'))(i), label = j)\n",
    "plt.title('Logistic Regression (Training set)')\n",
    "plt.xlabel('PC1')\n",
    "plt.ylabel('PC2')\n",
    "plt.legend()\n",
    "plt.show()"
   ]
  },
  {
   "cell_type": "markdown",
   "metadata": {},
   "source": [
    "## Naive Bayes"
   ]
  },
  {
   "cell_type": "code",
   "execution_count": 26,
   "metadata": {},
   "outputs": [
    {
     "name": "stdout",
     "output_type": "stream",
     "text": [
      "[[583  92  32]\n",
      " [146 104  31]\n",
      " [ 35  46  34]]\n"
     ]
    },
    {
     "data": {
      "text/plain": [
       "0.6536718041704442"
      ]
     },
     "execution_count": 26,
     "metadata": {},
     "output_type": "execute_result"
    }
   ],
   "source": [
    "# PCA + Logistic Regression\n",
    "from sklearn.model_selection import train_test_split\n",
    "X_train, X_test, y_train, y_test = train_test_split(X,y,stratify=y, train_size=0.8)\n",
    "\n",
    "from sklearn.preprocessing import StandardScaler\n",
    "sc = StandardScaler()\n",
    "X_train = sc.fit_transform(X_train)\n",
    "X_test = sc.fit_transform(X_test)\n",
    "\n",
    "# from sklearn.linear_model import LogisticRegression\n",
    "# pca = PCA(n_components = 2)\n",
    "# X_train = pca.fit_transform(X_train)\n",
    "# X_test = pca.transform(X_test)\n",
    "# explained_variance = pca.explained_variance_ratio_\n",
    "\n",
    "# explained_variance\n",
    "from sklearn.naive_bayes import GaussianNB\n",
    "classifier = GaussianNB()\n",
    "classifier.fit(X_train, y_train)\n",
    "y_pred = classifier.predict(X_test)\n",
    "\n",
    "cm = confusion_matrix(y_test, y_pred)\n",
    "print(cm)\n",
    "score(y_test, y_pred)"
   ]
  },
  {
   "cell_type": "markdown",
   "metadata": {},
   "source": [
    "## Naive Bayes + PCA"
   ]
  },
  {
   "cell_type": "code",
   "execution_count": 27,
   "metadata": {},
   "outputs": [
    {
     "name": "stdout",
     "output_type": "stream",
     "text": [
      "[[654  52   1]\n",
      " [210  71   0]\n",
      " [ 70  43   2]]\n"
     ]
    },
    {
     "data": {
      "text/plain": [
       "0.6591115140525838"
      ]
     },
     "execution_count": 27,
     "metadata": {},
     "output_type": "execute_result"
    }
   ],
   "source": [
    "# PCA + Logistic Regression\n",
    "from sklearn.model_selection import train_test_split\n",
    "X_train, X_test, y_train, y_test = train_test_split(X,y,stratify=y, train_size=0.8)\n",
    "\n",
    "from sklearn.preprocessing import StandardScaler\n",
    "sc = StandardScaler()\n",
    "X_train = sc.fit_transform(X_train)\n",
    "X_test = sc.fit_transform(X_test)\n",
    "\n",
    "from sklearn.linear_model import LogisticRegression\n",
    "pca = PCA(n_components = 2)\n",
    "X_train = pca.fit_transform(X_train)\n",
    "X_test = pca.transform(X_test)\n",
    "explained_variance = pca.explained_variance_ratio_\n",
    "\n",
    "# explained_variance\n",
    "from sklearn.naive_bayes import GaussianNB\n",
    "classifier = GaussianNB()\n",
    "classifier.fit(X_train, y_train)\n",
    "y_pred = classifier.predict(X_test)\n",
    "\n",
    "cm = confusion_matrix(y_test, y_pred)\n",
    "print(cm)\n",
    "score(y_test, y_pred)"
   ]
  },
  {
   "cell_type": "markdown",
   "metadata": {},
   "source": [
    "## SVM"
   ]
  },
  {
   "cell_type": "code",
   "execution_count": 28,
   "metadata": {},
   "outputs": [
    {
     "name": "stdout",
     "output_type": "stream",
     "text": [
      "[[637  70   0]\n",
      " [184  97   0]\n",
      " [ 75  40   0]]\n"
     ]
    },
    {
     "data": {
      "text/plain": [
       "0.6654578422484134"
      ]
     },
     "execution_count": 28,
     "metadata": {},
     "output_type": "execute_result"
    }
   ],
   "source": [
    "# PCA + Logistic Regression\n",
    "from sklearn.model_selection import train_test_split\n",
    "X_train, X_test, y_train, y_test = train_test_split(X,y,stratify=y, train_size=0.8)\n",
    "\n",
    "from sklearn.preprocessing import StandardScaler\n",
    "sc = StandardScaler()\n",
    "X_train = sc.fit_transform(X_train)\n",
    "X_test = sc.fit_transform(X_test)\n",
    "\n",
    "# from sklearn.linear_model import LogisticRegression\n",
    "# pca = PCA(n_components = 2)\n",
    "# X_train = pca.fit_transform(X_train)\n",
    "# X_test = pca.transform(X_test)\n",
    "# explained_variance = pca.explained_variance_ratio_\n",
    "\n",
    "# explained_variance\n",
    "from sklearn.svm import SVC\n",
    "classifier = SVC(kernel='linear', random_state=0)\n",
    "classifier.fit(X_train, y_train)\n",
    "y_pred = classifier.predict(X_test)\n",
    "\n",
    "cm = confusion_matrix(y_test, y_pred)\n",
    "print(cm)\n",
    "score(y_test, y_pred)"
   ]
  },
  {
   "cell_type": "markdown",
   "metadata": {},
   "source": [
    "## PCA + SVM"
   ]
  },
  {
   "cell_type": "code",
   "execution_count": 29,
   "metadata": {},
   "outputs": [
    {
     "name": "stdout",
     "output_type": "stream",
     "text": [
      "[[707   0   0]\n",
      " [281   0   0]\n",
      " [115   0   0]]\n"
     ]
    },
    {
     "data": {
      "text/plain": [
       "0.6409791477787852"
      ]
     },
     "execution_count": 29,
     "metadata": {},
     "output_type": "execute_result"
    }
   ],
   "source": [
    "# PCA + Logistic Regression\n",
    "from sklearn.model_selection import train_test_split\n",
    "X_train, X_test, y_train, y_test = train_test_split(X,y,stratify=y, train_size=0.8)\n",
    "\n",
    "from sklearn.preprocessing import StandardScaler\n",
    "sc = StandardScaler()\n",
    "X_train = sc.fit_transform(X_train)\n",
    "X_test = sc.fit_transform(X_test)\n",
    "\n",
    "from sklearn.linear_model import LogisticRegression\n",
    "pca = PCA(n_components = 2)\n",
    "X_train = pca.fit_transform(X_train)\n",
    "X_test = pca.transform(X_test)\n",
    "# explained_variance = pca.explained_variance_ratio_\n",
    "\n",
    "# explained_variance\n",
    "from sklearn.svm import SVC\n",
    "classifier = SVC(kernel='linear', random_state=0)\n",
    "classifier.fit(X_train, y_train)\n",
    "y_pred = classifier.predict(X_test)\n",
    "\n",
    "cm = confusion_matrix(y_test, y_pred)\n",
    "print(cm)\n",
    "score(y_test, y_pred)"
   ]
  },
  {
   "cell_type": "code",
   "execution_count": null,
   "metadata": {},
   "outputs": [],
   "source": []
  },
  {
   "cell_type": "markdown",
   "metadata": {},
   "source": [
    "## Neural Network"
   ]
  },
  {
   "cell_type": "code",
   "execution_count": 31,
   "metadata": {},
   "outputs": [
    {
     "name": "stderr",
     "output_type": "stream",
     "text": [
      "Using TensorFlow backend.\n",
      "/Users/mohamedmartino/opt/anaconda3/lib/python3.7/site-packages/ipykernel_launcher.py:21: UserWarning: Update your `Dense` call to the Keras 2 API: `Dense(activation=\"relu\", input_dim=8, units=8, kernel_initializer=\"uniform\")`\n",
      "/Users/mohamedmartino/opt/anaconda3/lib/python3.7/site-packages/ipykernel_launcher.py:24: UserWarning: Update your `Dense` call to the Keras 2 API: `Dense(activation=\"relu\", units=8, kernel_initializer=\"uniform\")`\n",
      "/Users/mohamedmartino/opt/anaconda3/lib/python3.7/site-packages/ipykernel_launcher.py:27: UserWarning: Update your `Dense` call to the Keras 2 API: `Dense(activation=\"sigmoid\", units=1, kernel_initializer=\"uniform\")`\n"
     ]
    },
    {
     "name": "stdout",
     "output_type": "stream",
     "text": [
      "Epoch 1/100\n",
      "3859/3859 [==============================] - 0s 82us/step - loss: 0.6812 - accuracy: 0.6139\n",
      "Epoch 2/100\n",
      "3859/3859 [==============================] - 0s 30us/step - loss: 0.5664 - accuracy: 0.5942\n",
      "Epoch 3/100\n",
      "3859/3859 [==============================] - 0s 30us/step - loss: 0.4600 - accuracy: 0.6217\n",
      "Epoch 4/100\n",
      "3859/3859 [==============================] - 0s 29us/step - loss: 0.4258 - accuracy: 0.6318\n",
      "Epoch 5/100\n",
      "3859/3859 [==============================] - 0s 31us/step - loss: 0.4157 - accuracy: 0.6328\n",
      "Epoch 6/100\n",
      "3859/3859 [==============================] - 0s 31us/step - loss: 0.4082 - accuracy: 0.6357\n",
      "Epoch 7/100\n",
      "3859/3859 [==============================] - 0s 30us/step - loss: 0.4019 - accuracy: 0.6367\n",
      "Epoch 8/100\n",
      "3859/3859 [==============================] - 0s 30us/step - loss: 0.3972 - accuracy: 0.6349\n",
      "Epoch 9/100\n",
      "3859/3859 [==============================] - 0s 29us/step - loss: 0.3942 - accuracy: 0.6411\n",
      "Epoch 10/100\n",
      "3859/3859 [==============================] - 0s 30us/step - loss: 0.3932 - accuracy: 0.6359\n",
      "Epoch 11/100\n",
      "3859/3859 [==============================] - 0s 30us/step - loss: 0.3894 - accuracy: 0.6403\n",
      "Epoch 12/100\n",
      "3859/3859 [==============================] - 0s 30us/step - loss: 0.3876 - accuracy: 0.6370\n",
      "Epoch 13/100\n",
      "3859/3859 [==============================] - 0s 29us/step - loss: 0.3856 - accuracy: 0.6398\n",
      "Epoch 14/100\n",
      "3859/3859 [==============================] - 0s 30us/step - loss: 0.3838 - accuracy: 0.6419\n",
      "Epoch 15/100\n",
      "3859/3859 [==============================] - 0s 30us/step - loss: 0.3825 - accuracy: 0.6411\n",
      "Epoch 16/100\n",
      "3859/3859 [==============================] - 0s 30us/step - loss: 0.3800 - accuracy: 0.6419\n",
      "Epoch 17/100\n",
      "3859/3859 [==============================] - 0s 30us/step - loss: 0.3790 - accuracy: 0.6416\n",
      "Epoch 18/100\n",
      "3859/3859 [==============================] - 0s 30us/step - loss: 0.3767 - accuracy: 0.6424\n",
      "Epoch 19/100\n",
      "3859/3859 [==============================] - 0s 29us/step - loss: 0.3741 - accuracy: 0.6442\n",
      "Epoch 20/100\n",
      "3859/3859 [==============================] - 0s 30us/step - loss: 0.3729 - accuracy: 0.6421\n",
      "Epoch 21/100\n",
      "3859/3859 [==============================] - 0s 32us/step - loss: 0.3722 - accuracy: 0.6427\n",
      "Epoch 22/100\n",
      "3859/3859 [==============================] - 0s 31us/step - loss: 0.3690 - accuracy: 0.6460\n",
      "Epoch 23/100\n",
      "3859/3859 [==============================] - 0s 31us/step - loss: 0.3688 - accuracy: 0.6491\n",
      "Epoch 24/100\n",
      "3859/3859 [==============================] - 0s 30us/step - loss: 0.3648 - accuracy: 0.6427\n",
      "Epoch 25/100\n",
      "3859/3859 [==============================] - 0s 30us/step - loss: 0.3630 - accuracy: 0.6478\n",
      "Epoch 26/100\n",
      "3859/3859 [==============================] - 0s 30us/step - loss: 0.3608 - accuracy: 0.6455\n",
      "Epoch 27/100\n",
      "3859/3859 [==============================] - 0s 30us/step - loss: 0.3589 - accuracy: 0.6481\n",
      "Epoch 28/100\n",
      "3859/3859 [==============================] - 0s 30us/step - loss: 0.3552 - accuracy: 0.6494\n",
      "Epoch 29/100\n",
      "3859/3859 [==============================] - 0s 30us/step - loss: 0.3532 - accuracy: 0.6458\n",
      "Epoch 30/100\n",
      "3859/3859 [==============================] - 0s 30us/step - loss: 0.3505 - accuracy: 0.6465\n",
      "Epoch 31/100\n",
      "3859/3859 [==============================] - 0s 30us/step - loss: 0.3469 - accuracy: 0.6465\n",
      "Epoch 32/100\n",
      "3859/3859 [==============================] - 0s 30us/step - loss: 0.3437 - accuracy: 0.6445\n",
      "Epoch 33/100\n",
      "3859/3859 [==============================] - 0s 30us/step - loss: 0.3401 - accuracy: 0.6465\n",
      "Epoch 34/100\n",
      "3859/3859 [==============================] - 0s 30us/step - loss: 0.3371 - accuracy: 0.6481\n",
      "Epoch 35/100\n",
      "3859/3859 [==============================] - 0s 30us/step - loss: 0.3337 - accuracy: 0.6442\n",
      "Epoch 36/100\n",
      "3859/3859 [==============================] - 0s 32us/step - loss: 0.3297 - accuracy: 0.6463\n",
      "Epoch 37/100\n",
      "3859/3859 [==============================] - 0s 34us/step - loss: 0.3253 - accuracy: 0.6471\n",
      "Epoch 38/100\n",
      "3859/3859 [==============================] - 0s 32us/step - loss: 0.3198 - accuracy: 0.6463\n",
      "Epoch 39/100\n",
      "3859/3859 [==============================] - 0s 32us/step - loss: 0.3135 - accuracy: 0.6481\n",
      "Epoch 40/100\n",
      "3859/3859 [==============================] - 0s 33us/step - loss: 0.3083 - accuracy: 0.6481\n",
      "Epoch 41/100\n",
      "3859/3859 [==============================] - 0s 33us/step - loss: 0.3029 - accuracy: 0.6447\n",
      "Epoch 42/100\n",
      "3859/3859 [==============================] - 0s 32us/step - loss: 0.2959 - accuracy: 0.6445\n",
      "Epoch 43/100\n",
      "3859/3859 [==============================] - 0s 31us/step - loss: 0.2929 - accuracy: 0.6447\n",
      "Epoch 44/100\n",
      "3859/3859 [==============================] - 0s 35us/step - loss: 0.2833 - accuracy: 0.6450\n",
      "Epoch 45/100\n",
      "3859/3859 [==============================] - 0s 32us/step - loss: 0.2720 - accuracy: 0.6424\n",
      "Epoch 46/100\n",
      "3859/3859 [==============================] - 0s 30us/step - loss: 0.2649 - accuracy: 0.6427\n",
      "Epoch 47/100\n",
      "3859/3859 [==============================] - 0s 31us/step - loss: 0.2554 - accuracy: 0.6411\n",
      "Epoch 48/100\n",
      "3859/3859 [==============================] - 0s 37us/step - loss: 0.2477 - accuracy: 0.6458\n",
      "Epoch 49/100\n",
      "3859/3859 [==============================] - 0s 34us/step - loss: 0.2362 - accuracy: 0.6442\n",
      "Epoch 50/100\n",
      "3859/3859 [==============================] - 0s 36us/step - loss: 0.2302 - accuracy: 0.6401\n",
      "Epoch 51/100\n",
      "3859/3859 [==============================] - 0s 35us/step - loss: 0.2153 - accuracy: 0.6421\n",
      "Epoch 52/100\n",
      "3859/3859 [==============================] - 0s 36us/step - loss: 0.2021 - accuracy: 0.6395\n",
      "Epoch 53/100\n",
      "3859/3859 [==============================] - 0s 32us/step - loss: 0.1891 - accuracy: 0.6411\n",
      "Epoch 54/100\n",
      "3859/3859 [==============================] - 0s 30us/step - loss: 0.1766 - accuracy: 0.6414\n",
      "Epoch 55/100\n",
      "3859/3859 [==============================] - 0s 32us/step - loss: 0.1602 - accuracy: 0.6395\n",
      "Epoch 56/100\n",
      "3859/3859 [==============================] - 0s 29us/step - loss: 0.1515 - accuracy: 0.6408\n",
      "Epoch 57/100\n",
      "3859/3859 [==============================] - 0s 35us/step - loss: 0.1349 - accuracy: 0.6401\n",
      "Epoch 58/100\n",
      "3859/3859 [==============================] - 0s 37us/step - loss: 0.1136 - accuracy: 0.6393\n",
      "Epoch 59/100\n",
      "3859/3859 [==============================] - 0s 36us/step - loss: 0.0966 - accuracy: 0.6408\n",
      "Epoch 60/100\n",
      "3859/3859 [==============================] - 0s 37us/step - loss: 0.0808 - accuracy: 0.6406\n",
      "Epoch 61/100\n",
      "3859/3859 [==============================] - 0s 32us/step - loss: 0.0612 - accuracy: 0.6406\n",
      "Epoch 62/100\n",
      "3859/3859 [==============================] - 0s 35us/step - loss: 0.0515 - accuracy: 0.6403\n",
      "Epoch 63/100\n",
      "3859/3859 [==============================] - 0s 33us/step - loss: 0.0200 - accuracy: 0.6406\n",
      "Epoch 64/100\n",
      "3859/3859 [==============================] - 0s 34us/step - loss: -0.0061 - accuracy: 0.6408\n",
      "Epoch 65/100\n",
      "3859/3859 [==============================] - 0s 36us/step - loss: -0.0272 - accuracy: 0.6401\n",
      "Epoch 66/100\n",
      "3859/3859 [==============================] - 0s 31us/step - loss: -0.0511 - accuracy: 0.6421\n",
      "Epoch 67/100\n",
      "3859/3859 [==============================] - 0s 33us/step - loss: -0.0828 - accuracy: 0.6406\n",
      "Epoch 68/100\n",
      "3859/3859 [==============================] - 0s 32us/step - loss: -0.1088 - accuracy: 0.6419\n",
      "Epoch 69/100\n",
      "3859/3859 [==============================] - 0s 33us/step - loss: -0.1331 - accuracy: 0.6419\n",
      "Epoch 70/100\n",
      "3859/3859 [==============================] - 0s 34us/step - loss: -0.1648 - accuracy: 0.6403\n",
      "Epoch 71/100\n",
      "3859/3859 [==============================] - 0s 34us/step - loss: -0.1965 - accuracy: 0.6398\n",
      "Epoch 72/100\n",
      "3859/3859 [==============================] - 0s 33us/step - loss: -0.2180 - accuracy: 0.6408\n",
      "Epoch 73/100\n",
      "3859/3859 [==============================] - 0s 30us/step - loss: -0.2637 - accuracy: 0.6416\n",
      "Epoch 74/100\n",
      "3859/3859 [==============================] - 0s 33us/step - loss: -0.2982 - accuracy: 0.6439\n",
      "Epoch 75/100\n",
      "3859/3859 [==============================] - 0s 32us/step - loss: -0.3346 - accuracy: 0.6414\n",
      "Epoch 76/100\n",
      "3859/3859 [==============================] - 0s 32us/step - loss: -0.3749 - accuracy: 0.6401\n",
      "Epoch 77/100\n",
      "3859/3859 [==============================] - 0s 33us/step - loss: -0.4138 - accuracy: 0.6414\n",
      "Epoch 78/100\n",
      "3859/3859 [==============================] - 0s 34us/step - loss: -0.4561 - accuracy: 0.6452\n"
     ]
    },
    {
     "name": "stdout",
     "output_type": "stream",
     "text": [
      "Epoch 79/100\n",
      "3859/3859 [==============================] - 0s 38us/step - loss: -0.5013 - accuracy: 0.6455\n",
      "Epoch 80/100\n",
      "3859/3859 [==============================] - 0s 37us/step - loss: -0.5404 - accuracy: 0.6442\n",
      "Epoch 81/100\n",
      "3859/3859 [==============================] - 0s 30us/step - loss: -0.5919 - accuracy: 0.6445\n",
      "Epoch 82/100\n",
      "3859/3859 [==============================] - 0s 35us/step - loss: -0.6442 - accuracy: 0.6437\n",
      "Epoch 83/100\n",
      "3859/3859 [==============================] - 0s 29us/step - loss: -0.6952 - accuracy: 0.6437\n",
      "Epoch 84/100\n",
      "3859/3859 [==============================] - 0s 31us/step - loss: -0.7317 - accuracy: 0.6452\n",
      "Epoch 85/100\n",
      "3859/3859 [==============================] - 0s 31us/step - loss: -0.7925 - accuracy: 0.6445\n",
      "Epoch 86/100\n",
      "3859/3859 [==============================] - 0s 33us/step - loss: -0.8426 - accuracy: 0.6442\n",
      "Epoch 87/100\n",
      "3859/3859 [==============================] - 0s 32us/step - loss: -0.9050 - accuracy: 0.6452\n",
      "Epoch 88/100\n",
      "3859/3859 [==============================] - 0s 31us/step - loss: -0.9443 - accuracy: 0.6439\n",
      "Epoch 89/100\n",
      "3859/3859 [==============================] - 0s 29us/step - loss: -1.0122 - accuracy: 0.6445\n",
      "Epoch 90/100\n",
      "3859/3859 [==============================] - 0s 31us/step - loss: -1.0855 - accuracy: 0.6434\n",
      "Epoch 91/100\n",
      "3859/3859 [==============================] - 0s 30us/step - loss: -1.1385 - accuracy: 0.6437\n",
      "Epoch 92/100\n",
      "3859/3859 [==============================] - 0s 31us/step - loss: -1.2061 - accuracy: 0.6419\n",
      "Epoch 93/100\n",
      "3859/3859 [==============================] - 0s 30us/step - loss: -1.2446 - accuracy: 0.6434\n",
      "Epoch 94/100\n",
      "3859/3859 [==============================] - 0s 34us/step - loss: -1.3482 - accuracy: 0.6411\n",
      "Epoch 95/100\n",
      "3859/3859 [==============================] - 0s 29us/step - loss: -1.4096 - accuracy: 0.6411\n",
      "Epoch 96/100\n",
      "3859/3859 [==============================] - 0s 29us/step - loss: -1.4855 - accuracy: 0.6414\n",
      "Epoch 97/100\n",
      "3859/3859 [==============================] - 0s 31us/step - loss: -1.5536 - accuracy: 0.6408\n",
      "Epoch 98/100\n",
      "3859/3859 [==============================] - 0s 31us/step - loss: -1.6159 - accuracy: 0.6411\n",
      "Epoch 99/100\n",
      "3859/3859 [==============================] - 0s 30us/step - loss: -1.7116 - accuracy: 0.6403\n",
      "Epoch 100/100\n",
      "3859/3859 [==============================] - 0s 32us/step - loss: -1.7940 - accuracy: 0.6401\n"
     ]
    },
    {
     "data": {
      "text/plain": [
       "array([[771, 285,   0],\n",
       "       [147, 289,   0],\n",
       "       [ 22, 141,   0]])"
      ]
     },
     "execution_count": 31,
     "metadata": {},
     "output_type": "execute_result"
    }
   ],
   "source": [
    "# NN\n",
    "\n",
    "from sklearn.model_selection import train_test_split\n",
    "X_train, X_test, y_train, y_test = train_test_split(X,y, train_size=0.7)\n",
    "\n",
    "from sklearn.preprocessing import StandardScaler\n",
    "sc = StandardScaler()\n",
    "X_train = sc.fit_transform(X_train)\n",
    "X_test = sc.fit_transform(X_test)\n",
    "\n",
    "#Importing Keras packages\n",
    "import keras\n",
    "from keras.models import Sequential\n",
    "from keras.layers import Dense\n",
    "\n",
    "\n",
    "#Initializing the ANN\n",
    "classifier = Sequential()\n",
    "\n",
    "#Adding the input layer and the first hidden layer\n",
    "classifier.add(Dense(output_dim=8,init='uniform',activation='relu',input_dim=8))\n",
    "\n",
    "#Adding the second hidden layer\n",
    "classifier.add(Dense(output_dim=8,init='uniform',activation='relu'))\n",
    "\n",
    "#Adding the output layer\n",
    "classifier.add(Dense(output_dim=1,init='uniform',activation='sigmoid'))\n",
    "\n",
    "#Making predictions and evaluating the model\n",
    "classifier.compile(optimizer='adam',loss='binary_crossentropy',metrics=['accuracy'])\n",
    "\n",
    "#Fit ANN to training set\n",
    "classifier.fit(X_train,y_train,epochs=100)\n",
    "\n",
    "#Predicting the test set results\n",
    "y_pred = classifier.predict(X_test)\n",
    "y_pred = (y_pred>0.5)\n",
    "\n",
    "from sklearn.metrics import confusion_matrix\n",
    "cm = confusion_matrix(y_test,y_pred)\n",
    "cm"
   ]
  },
  {
   "cell_type": "code",
   "execution_count": null,
   "metadata": {},
   "outputs": [],
   "source": []
  },
  {
   "cell_type": "code",
   "execution_count": null,
   "metadata": {},
   "outputs": [],
   "source": []
  },
  {
   "cell_type": "code",
   "execution_count": null,
   "metadata": {},
   "outputs": [],
   "source": []
  }
 ],
 "metadata": {
  "kernelspec": {
   "display_name": "Python (bootcamp)",
   "language": "python",
   "name": "bootcamp"
  },
  "language_info": {
   "codemirror_mode": {
    "name": "ipython",
    "version": 3
   },
   "file_extension": ".py",
   "mimetype": "text/x-python",
   "name": "python",
   "nbconvert_exporter": "python",
   "pygments_lexer": "ipython3",
   "version": "3.7.4"
  }
 },
 "nbformat": 4,
 "nbformat_minor": 2
}
