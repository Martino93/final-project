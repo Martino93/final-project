{
 "cells": [
  {
   "cell_type": "code",
   "execution_count": 1,
   "metadata": {},
   "outputs": [],
   "source": [
    "# ! pip install xport\n",
    "# cd resources/2015-2016\n",
    "# !python -m xport GHB_I.XPT > lab.csv\n",
    "# !python -m xport BPX_I.XPT > bp.csv"
   ]
  },
  {
   "cell_type": "code",
   "execution_count": 2,
   "metadata": {},
   "outputs": [],
   "source": [
    "%matplotlib inline"
   ]
  },
  {
   "cell_type": "code",
   "execution_count": 3,
   "metadata": {},
   "outputs": [],
   "source": [
    "import pandas as pd\n",
    "import numpy as np\n",
    "import matplotlib.pyplot as plt\n",
    "from functools import reduce\n",
    "from sklearn.metrics import accuracy_score as score\n",
    "from sklearn.impute import SimpleImputer\n",
    "import seaborn as sns"
   ]
  },
  {
   "cell_type": "code",
   "execution_count": 4,
   "metadata": {},
   "outputs": [
    {
     "name": "stdout",
     "output_type": "stream",
     "text": [
      "2013-2014 Dataframe\n",
      "columns: 693\n",
      "rows: 9813\n",
      "-----------------------\n",
      "2015-2016 Dataframe\n",
      "columns: 93\n",
      "rows: 6744\n"
     ]
    }
   ],
   "source": [
    "file_1 = pd.read_csv('resources/2013-2014/demographic.csv')\n",
    "file_2 = pd.read_csv('resources/2013-2014/examination.csv')\n",
    "file_3 = pd.read_csv('resources/2013-2014/labs.csv')\n",
    "file_4 = pd.read_csv('resources/2015-2016/demographic.csv')\n",
    "file_5 = pd.read_csv('resources/2015-2016/examination.csv')\n",
    "file_6 = pd.read_csv('resources/2015-2016/labs.csv')\n",
    "file_7 = pd.read_csv('resources/2015-2016/bp.csv')\n",
    "\n",
    "df_1 = pd.DataFrame(file_1)\n",
    "df_2 = pd.DataFrame(file_2)\n",
    "df_3 = pd.DataFrame(file_3)\n",
    "df_4 = pd.DataFrame(file_4)\n",
    "df_5 = pd.DataFrame(file_5)\n",
    "df_6 = pd.DataFrame(file_6)\n",
    "df_7 = pd.DataFrame(file_7)\n",
    "\n",
    "# merged=reduce(lambda left,right: pd.merge(left, right, on=['SEQN'], how='inner'), dataframes_1)\n",
    "# merged.dropna(how='all', axis=1)\n",
    "# merged.dropna(how='all', axis=0)\n",
    "\n",
    "dataframes_1 = [df_1,df_2,df_3]\n",
    "dataframes_2 = [df_4,df_5,df_6,df_7]\n",
    "\n",
    "df_1 = reduce(lambda left, right: pd.merge(left,right,on='SEQN'), dataframes_1)\n",
    "df_2 = reduce(lambda left, right: pd.merge(left,right,on='SEQN'), dataframes_2)\n",
    "\n",
    "print('2013-2014 Dataframe')\n",
    "print('columns: ' + str(len(df_1.columns.tolist())))\n",
    "print('rows: ' + str(len(df_1.index)))\n",
    "print('-----------------------')\n",
    "print('2015-2016 Dataframe')\n",
    "print('columns: ' + str(len(df_2.columns.tolist())))\n",
    "print('rows: ' + str(len(df_2.index)))\n",
    "\n",
    "#2015-2016 data does not contain grip strength\n",
    "df1 = df_1.loc[:,['SEQN','RIDAGEYR','BPXSY2','BPXDI2','BMXWAIST','BMXBMI','BMXARMC','BPXPLS','LBXGH']]\n",
    "df2 = df_2.loc[:,['SEQN','RIDAGEYR','BPXSY2','BPXDI2','BMXWAIST','BMXBMI','BMXARMC','BPXPLS','LBXGH']]\n"
   ]
  },
  {
   "cell_type": "code",
   "execution_count": 5,
   "metadata": {},
   "outputs": [
    {
     "data": {
      "text/plain": [
       "SEQN          0\n",
       "RIDAGEYR      0\n",
       "BPXSY2      243\n",
       "BPXDI2      243\n",
       "BMXWAIST    414\n",
       "BMXBMI       84\n",
       "BMXARMC     351\n",
       "BPXPLS      190\n",
       "LBXGH       418\n",
       "dtype: int64"
      ]
     },
     "execution_count": 5,
     "metadata": {},
     "output_type": "execute_result"
    }
   ],
   "source": [
    "df2.isna().sum()"
   ]
  },
  {
   "cell_type": "code",
   "execution_count": 6,
   "metadata": {},
   "outputs": [
    {
     "data": {
      "text/html": [
       "<div>\n",
       "<style scoped>\n",
       "    .dataframe tbody tr th:only-of-type {\n",
       "        vertical-align: middle;\n",
       "    }\n",
       "\n",
       "    .dataframe tbody tr th {\n",
       "        vertical-align: top;\n",
       "    }\n",
       "\n",
       "    .dataframe thead th {\n",
       "        text-align: right;\n",
       "    }\n",
       "</style>\n",
       "<table border=\"1\" class=\"dataframe\">\n",
       "  <thead>\n",
       "    <tr style=\"text-align: right;\">\n",
       "      <th></th>\n",
       "      <th>seqn</th>\n",
       "      <th>age</th>\n",
       "      <th>systolic</th>\n",
       "      <th>diastolic</th>\n",
       "      <th>waist_circumference</th>\n",
       "      <th>bmi</th>\n",
       "      <th>arm_circumference</th>\n",
       "      <th>pulse_60s</th>\n",
       "      <th>glycohemoglobin</th>\n",
       "    </tr>\n",
       "  </thead>\n",
       "  <tbody>\n",
       "    <tr>\n",
       "      <td>6739</td>\n",
       "      <td>93695.0</td>\n",
       "      <td>76.0</td>\n",
       "      <td>112.0</td>\n",
       "      <td>46.0</td>\n",
       "      <td>95.0</td>\n",
       "      <td>21.5</td>\n",
       "      <td>29.5</td>\n",
       "      <td>78.0</td>\n",
       "      <td>5.6</td>\n",
       "    </tr>\n",
       "    <tr>\n",
       "      <td>6740</td>\n",
       "      <td>93696.0</td>\n",
       "      <td>26.0</td>\n",
       "      <td>116.0</td>\n",
       "      <td>76.0</td>\n",
       "      <td>110.2</td>\n",
       "      <td>33.8</td>\n",
       "      <td>42.3</td>\n",
       "      <td>80.0</td>\n",
       "      <td>NaN</td>\n",
       "    </tr>\n",
       "    <tr>\n",
       "      <td>6741</td>\n",
       "      <td>93697.0</td>\n",
       "      <td>80.0</td>\n",
       "      <td>146.0</td>\n",
       "      <td>58.0</td>\n",
       "      <td>NaN</td>\n",
       "      <td>31.0</td>\n",
       "      <td>28.8</td>\n",
       "      <td>74.0</td>\n",
       "      <td>5.7</td>\n",
       "    </tr>\n",
       "    <tr>\n",
       "      <td>6742</td>\n",
       "      <td>93700.0</td>\n",
       "      <td>35.0</td>\n",
       "      <td>106.0</td>\n",
       "      <td>66.0</td>\n",
       "      <td>98.9</td>\n",
       "      <td>26.0</td>\n",
       "      <td>30.6</td>\n",
       "      <td>76.0</td>\n",
       "      <td>5.2</td>\n",
       "    </tr>\n",
       "    <tr>\n",
       "      <td>6743</td>\n",
       "      <td>93702.0</td>\n",
       "      <td>24.0</td>\n",
       "      <td>114.0</td>\n",
       "      <td>68.0</td>\n",
       "      <td>72.5</td>\n",
       "      <td>21.4</td>\n",
       "      <td>26.2</td>\n",
       "      <td>80.0</td>\n",
       "      <td>4.6</td>\n",
       "    </tr>\n",
       "  </tbody>\n",
       "</table>\n",
       "</div>"
      ],
      "text/plain": [
       "         seqn   age  systolic  diastolic  waist_circumference   bmi  \\\n",
       "6739  93695.0  76.0     112.0       46.0                 95.0  21.5   \n",
       "6740  93696.0  26.0     116.0       76.0                110.2  33.8   \n",
       "6741  93697.0  80.0     146.0       58.0                  NaN  31.0   \n",
       "6742  93700.0  35.0     106.0       66.0                 98.9  26.0   \n",
       "6743  93702.0  24.0     114.0       68.0                 72.5  21.4   \n",
       "\n",
       "      arm_circumference  pulse_60s  glycohemoglobin  \n",
       "6739               29.5       78.0              5.6  \n",
       "6740               42.3       80.0              NaN  \n",
       "6741               28.8       74.0              5.7  \n",
       "6742               30.6       76.0              5.2  \n",
       "6743               26.2       80.0              4.6  "
      ]
     },
     "execution_count": 6,
     "metadata": {},
     "output_type": "execute_result"
    }
   ],
   "source": [
    "df = pd.concat([df1,df2])\n",
    "df = df.rename(columns ={\n",
    "    'SEQN': 'seqn',\n",
    "    'RIAGENDR': 'gender',\n",
    "    'RIDAGEYR': 'age',\n",
    "    'RIDRETH3': 'ethnicity',\n",
    "    'DMDEDUC3': 'education_child',\n",
    "    'DMDEDUC2': 'education_adult',\n",
    "    'INDHHIN2': 'household_income',\n",
    "    'BMXWAIST': 'waist_circumference',\n",
    "    'MGDCGSZ': 'grip',\n",
    "    'BMXBMI': 'bmi',\n",
    "    'BMXARMC': 'arm_circumference',\n",
    "    'BPXPLS': 'pulse_60s',\n",
    "    'BPXSY2': 'systolic',\n",
    "    'BPXDI2': 'diastolic',\n",
    "    'LBXGH': 'glycohemoglobin'\n",
    "})\n",
    "df.tail()"
   ]
  },
  {
   "cell_type": "code",
   "execution_count": 7,
   "metadata": {},
   "outputs": [
    {
     "data": {
      "text/plain": [
       "seqn                      0\n",
       "age                       0\n",
       "systolic               2647\n",
       "diastolic              2647\n",
       "waist_circumference    1566\n",
       "bmi                     842\n",
       "arm_circumference       863\n",
       "pulse_60s              2454\n",
       "glycohemoglobin        3588\n",
       "dtype: int64"
      ]
     },
     "execution_count": 7,
     "metadata": {},
     "output_type": "execute_result"
    }
   ],
   "source": [
    "# checking nulls\n",
    "df.isna().sum()"
   ]
  },
  {
   "cell_type": "code",
   "execution_count": 8,
   "metadata": {},
   "outputs": [
    {
     "data": {
      "text/plain": [
       "seqn                    0\n",
       "age                     0\n",
       "systolic                0\n",
       "diastolic               0\n",
       "waist_circumference     0\n",
       "bmi                    22\n",
       "arm_circumference      13\n",
       "pulse_60s               0\n",
       "glycohemoglobin         0\n",
       "diabetes                0\n",
       "dtype: int64"
      ]
     },
     "execution_count": 8,
     "metadata": {},
     "output_type": "execute_result"
    }
   ],
   "source": [
    "# WebMD definition of diabetes based on glycated hemoglobin levels.\n",
    "# 3 classification labels\n",
    "\n",
    "conditions = [\n",
    "    (df['glycohemoglobin'] < 5.7),\n",
    "    (df['glycohemoglobin'] >= 5.7) & (df['glycohemoglobin']<=6.4),\n",
    "    (df['glycohemoglobin']>6.4)\n",
    "]\n",
    "\n",
    "diagnosis = [0,1,2]\n",
    "\n",
    "df['diabetes'] = np.select(conditions, diagnosis)\n",
    "\n",
    "# dropping rows where glycohemoglobin and pulse (if pulse is null --> syst/diast is null) is NaN \n",
    "# dropping rows where waist circum is null since there are 539 missing\n",
    "# dropping rows where sys in null; 156 missing\n",
    "\n",
    "df.dropna(axis=0, subset=['glycohemoglobin','pulse_60s','waist_circumference','systolic'],inplace=True)\n",
    "df.isna().sum()"
   ]
  },
  {
   "cell_type": "code",
   "execution_count": 9,
   "metadata": {},
   "outputs": [
    {
     "data": {
      "text/html": [
       "<div>\n",
       "<style scoped>\n",
       "    .dataframe tbody tr th:only-of-type {\n",
       "        vertical-align: middle;\n",
       "    }\n",
       "\n",
       "    .dataframe tbody tr th {\n",
       "        vertical-align: top;\n",
       "    }\n",
       "\n",
       "    .dataframe thead th {\n",
       "        text-align: right;\n",
       "    }\n",
       "</style>\n",
       "<table border=\"1\" class=\"dataframe\">\n",
       "  <thead>\n",
       "    <tr style=\"text-align: right;\">\n",
       "      <th></th>\n",
       "      <th>seqn</th>\n",
       "      <th>age</th>\n",
       "      <th>systolic</th>\n",
       "      <th>diastolic</th>\n",
       "      <th>waist_circumference</th>\n",
       "      <th>bmi</th>\n",
       "      <th>arm_circumference</th>\n",
       "      <th>pulse_60s</th>\n",
       "      <th>glycohemoglobin</th>\n",
       "      <th>diabetes</th>\n",
       "    </tr>\n",
       "  </thead>\n",
       "  <tbody>\n",
       "    <tr>\n",
       "      <td>count</td>\n",
       "      <td>11900.000000</td>\n",
       "      <td>11900.000000</td>\n",
       "      <td>11900.000000</td>\n",
       "      <td>11900.000000</td>\n",
       "      <td>11900.000000</td>\n",
       "      <td>11878.000000</td>\n",
       "      <td>11887.000000</td>\n",
       "      <td>11900.000000</td>\n",
       "      <td>11900.000000</td>\n",
       "      <td>11900.000000</td>\n",
       "    </tr>\n",
       "    <tr>\n",
       "      <td>mean</td>\n",
       "      <td>83611.942185</td>\n",
       "      <td>42.696387</td>\n",
       "      <td>121.335630</td>\n",
       "      <td>67.455462</td>\n",
       "      <td>96.621639</td>\n",
       "      <td>28.358680</td>\n",
       "      <td>32.398015</td>\n",
       "      <td>73.264202</td>\n",
       "      <td>5.680849</td>\n",
       "      <td>0.433529</td>\n",
       "    </tr>\n",
       "    <tr>\n",
       "      <td>std</td>\n",
       "      <td>5783.627421</td>\n",
       "      <td>20.375734</td>\n",
       "      <td>17.860445</td>\n",
       "      <td>13.810087</td>\n",
       "      <td>17.682366</td>\n",
       "      <td>7.086386</td>\n",
       "      <td>5.444553</td>\n",
       "      <td>11.766038</td>\n",
       "      <td>1.042651</td>\n",
       "      <td>0.662365</td>\n",
       "    </tr>\n",
       "    <tr>\n",
       "      <td>min</td>\n",
       "      <td>73557.000000</td>\n",
       "      <td>12.000000</td>\n",
       "      <td>66.000000</td>\n",
       "      <td>0.000000</td>\n",
       "      <td>54.600000</td>\n",
       "      <td>13.400000</td>\n",
       "      <td>17.100000</td>\n",
       "      <td>36.000000</td>\n",
       "      <td>3.500000</td>\n",
       "      <td>0.000000</td>\n",
       "    </tr>\n",
       "    <tr>\n",
       "      <td>25%</td>\n",
       "      <td>78664.750000</td>\n",
       "      <td>24.000000</td>\n",
       "      <td>108.000000</td>\n",
       "      <td>60.000000</td>\n",
       "      <td>83.600000</td>\n",
       "      <td>23.300000</td>\n",
       "      <td>28.600000</td>\n",
       "      <td>64.000000</td>\n",
       "      <td>5.200000</td>\n",
       "      <td>0.000000</td>\n",
       "    </tr>\n",
       "    <tr>\n",
       "      <td>50%</td>\n",
       "      <td>83556.500000</td>\n",
       "      <td>42.000000</td>\n",
       "      <td>118.000000</td>\n",
       "      <td>68.000000</td>\n",
       "      <td>95.500000</td>\n",
       "      <td>27.300000</td>\n",
       "      <td>32.000000</td>\n",
       "      <td>72.000000</td>\n",
       "      <td>5.500000</td>\n",
       "      <td>0.000000</td>\n",
       "    </tr>\n",
       "    <tr>\n",
       "      <td>75%</td>\n",
       "      <td>88654.750000</td>\n",
       "      <td>60.000000</td>\n",
       "      <td>130.000000</td>\n",
       "      <td>76.000000</td>\n",
       "      <td>107.400000</td>\n",
       "      <td>32.000000</td>\n",
       "      <td>35.800000</td>\n",
       "      <td>80.000000</td>\n",
       "      <td>5.800000</td>\n",
       "      <td>1.000000</td>\n",
       "    </tr>\n",
       "    <tr>\n",
       "      <td>max</td>\n",
       "      <td>93702.000000</td>\n",
       "      <td>80.000000</td>\n",
       "      <td>238.000000</td>\n",
       "      <td>130.000000</td>\n",
       "      <td>177.900000</td>\n",
       "      <td>74.100000</td>\n",
       "      <td>59.400000</td>\n",
       "      <td>148.000000</td>\n",
       "      <td>17.500000</td>\n",
       "      <td>2.000000</td>\n",
       "    </tr>\n",
       "  </tbody>\n",
       "</table>\n",
       "</div>"
      ],
      "text/plain": [
       "               seqn           age      systolic     diastolic  \\\n",
       "count  11900.000000  11900.000000  11900.000000  11900.000000   \n",
       "mean   83611.942185     42.696387    121.335630     67.455462   \n",
       "std     5783.627421     20.375734     17.860445     13.810087   \n",
       "min    73557.000000     12.000000     66.000000      0.000000   \n",
       "25%    78664.750000     24.000000    108.000000     60.000000   \n",
       "50%    83556.500000     42.000000    118.000000     68.000000   \n",
       "75%    88654.750000     60.000000    130.000000     76.000000   \n",
       "max    93702.000000     80.000000    238.000000    130.000000   \n",
       "\n",
       "       waist_circumference           bmi  arm_circumference     pulse_60s  \\\n",
       "count         11900.000000  11878.000000       11887.000000  11900.000000   \n",
       "mean             96.621639     28.358680          32.398015     73.264202   \n",
       "std              17.682366      7.086386           5.444553     11.766038   \n",
       "min              54.600000     13.400000          17.100000     36.000000   \n",
       "25%              83.600000     23.300000          28.600000     64.000000   \n",
       "50%              95.500000     27.300000          32.000000     72.000000   \n",
       "75%             107.400000     32.000000          35.800000     80.000000   \n",
       "max             177.900000     74.100000          59.400000    148.000000   \n",
       "\n",
       "       glycohemoglobin      diabetes  \n",
       "count     11900.000000  11900.000000  \n",
       "mean          5.680849      0.433529  \n",
       "std           1.042651      0.662365  \n",
       "min           3.500000      0.000000  \n",
       "25%           5.200000      0.000000  \n",
       "50%           5.500000      0.000000  \n",
       "75%           5.800000      1.000000  \n",
       "max          17.500000      2.000000  "
      ]
     },
     "execution_count": 9,
     "metadata": {},
     "output_type": "execute_result"
    }
   ],
   "source": [
    "df.describe()"
   ]
  },
  {
   "cell_type": "code",
   "execution_count": 10,
   "metadata": {},
   "outputs": [
    {
     "data": {
      "text/plain": [
       "<matplotlib.axes._subplots.AxesSubplot at 0x10b569f10>"
      ]
     },
     "execution_count": 10,
     "metadata": {},
     "output_type": "execute_result"
    },
    {
     "data": {
      "image/png": "[encoded data removed]",
      "text/plain": [
       "<Figure size 1440x1440 with 2 Axes>"
      ]
     },
     "metadata": {
      "needs_background": "light"
     },
     "output_type": "display_data"
    }
   ],
   "source": [
    "cm = plt.cm.inferno\n",
    "plt.figure(figsize= (20,20))\n",
    "sns.heatmap(df.drop('diabetes', axis=1).drop('seqn', axis=1).\\\n",
    "            astype(float).corr(), linewidths= 0.1, vmax=1, square=True, cmap=cm, annot=True)"
   ]
  },
  {
   "cell_type": "code",
   "execution_count": 11,
   "metadata": {},
   "outputs": [
    {
     "name": "stdout",
     "output_type": "stream",
     "text": [
      "Label Proportion in Clean Dataset\n",
      "non-diabetic: 0.6630252100840336\n",
      "non-diabetic: 0.24042016806722688\n",
      "non-diabetic: 0.0965546218487395\n"
     ]
    }
   ],
   "source": [
    "# Proportions of labels in cleaned datset\n",
    "print('Label Proportion in Clean Dataset')\n",
    "print('non-diabetic: ' + str(df['diabetes'].value_counts()[0]/df['diabetes'].value_counts().sum()))\n",
    "print('non-diabetic: ' + str(df['diabetes'].value_counts()[1]/df['diabetes'].value_counts().sum()))\n",
    "print('non-diabetic: ' + str(df['diabetes'].value_counts()[2]/df['diabetes'].value_counts().sum()))"
   ]
  },
  {
   "cell_type": "code",
   "execution_count": 12,
   "metadata": {},
   "outputs": [
    {
     "data": {
      "text/plain": [
       "[(0, 'age'),\n",
       " (1, 'systolic'),\n",
       " (2, 'diastolic'),\n",
       " (3, 'waist_circumference'),\n",
       " (4, 'bmi'),\n",
       " (5, 'arm_circumference'),\n",
       " (6, 'pulse_60s'),\n",
       " (7, 'diabetes')]"
      ]
     },
     "execution_count": 12,
     "metadata": {},
     "output_type": "execute_result"
    }
   ],
   "source": [
    "df_final = df.drop('seqn',axis=1).drop('glycohemoglobin',axis=1).copy()\n",
    "list(enumerate(list(df_final)))"
   ]
  },
  {
   "cell_type": "code",
   "execution_count": null,
   "metadata": {},
   "outputs": [],
   "source": []
  },
  {
   "cell_type": "code",
   "execution_count": 17,
   "metadata": {},
   "outputs": [
    {
     "name": "stderr",
     "output_type": "stream",
     "text": [
      "/Users/mohamedmartino/opt/anaconda3/lib/python3.7/site-packages/sklearn/utils/deprecation.py:66: DeprecationWarning: Class Imputer is deprecated; Imputer was deprecated in version 0.20 and will be removed in 0.22. Import impute.SimpleImputer from sklearn instead.\n",
      "  warnings.warn(msg, category=DeprecationWarning)\n"
     ]
    },
    {
     "data": {
      "text/plain": [
       "0    0\n",
       "1    0\n",
       "2    0\n",
       "3    0\n",
       "4    0\n",
       "5    0\n",
       "6    0\n",
       "dtype: int64"
      ]
     },
     "execution_count": 17,
     "metadata": {},
     "output_type": "execute_result"
    }
   ],
   "source": [
    "features = df_final.iloc[:,0:7].values\n",
    "labels = df_final.iloc[:,7].values\n",
    "\n",
    "from sklearn.preprocessing import Imputer\n",
    "\n",
    "imputer = Imputer(missing_values= 'NaN', strategy='median', axis=0)\n",
    "imputer.fit(features[:, [4,5]])\n",
    "features[:, [4,5]] = imputer.fit_transform(features[:, [4,5]])\n",
    "\n",
    "df_features = pd.DataFrame(features)\n",
    "\n",
    "X = df_features.iloc[:,:].values\n",
    "y = labels\n",
    "\n",
    "df_features.isnull().sum()"
   ]
  },
  {
   "cell_type": "markdown",
   "metadata": {},
   "source": [
    "## Random Forest Classifier"
   ]
  },
  {
   "cell_type": "code",
   "execution_count": 18,
   "metadata": {},
   "outputs": [
    {
     "name": "stdout",
     "output_type": "stream",
     "text": [
      "[[1396  156   26]\n",
      " [ 328  208   36]\n",
      " [  87  111   32]]\n"
     ]
    },
    {
     "data": {
      "text/plain": [
       "0.6873949579831933"
      ]
     },
     "execution_count": 18,
     "metadata": {},
     "output_type": "execute_result"
    }
   ],
   "source": [
    "from sklearn.model_selection import train_test_split\n",
    "X_train, X_test, y_train, y_test = train_test_split(X,y,stratify=y, train_size=0.8)\n",
    "\n",
    "from sklearn.preprocessing import StandardScaler\n",
    "sc = StandardScaler()\n",
    "X_train = sc.fit_transform(X_train)\n",
    "X_test = sc.fit_transform(X_test)\n",
    "\n",
    "from sklearn.ensemble import RandomForestClassifier\n",
    "classifier = RandomForestClassifier(n_estimators=1000, random_state=0,criterion='entropy')\n",
    "classifier.fit(X_train, y_train)\n",
    "y_pred = (classifier.predict(X_test))\n",
    "\n",
    "from sklearn.metrics import confusion_matrix\n",
    "cm = confusion_matrix(y_test, y_pred)\n",
    "print(cm)\n",
    "score(y_test, y_pred)"
   ]
  },
  {
   "cell_type": "markdown",
   "metadata": {},
   "source": [
    "## PCA + Random Forest"
   ]
  },
  {
   "cell_type": "code",
   "execution_count": 19,
   "metadata": {},
   "outputs": [
    {
     "name": "stdout",
     "output_type": "stream",
     "text": [
      "[[1335  194   49]\n",
      " [ 375  159   38]\n",
      " [ 117   82   31]]\n"
     ]
    },
    {
     "data": {
      "text/plain": [
       "0.6407563025210085"
      ]
     },
     "execution_count": 19,
     "metadata": {},
     "output_type": "execute_result"
    }
   ],
   "source": [
    "from sklearn.model_selection import train_test_split\n",
    "X_train, X_test, y_train, y_test = train_test_split(X,y,stratify=y,train_size=0.8)\n",
    "\n",
    "from sklearn.preprocessing import StandardScaler\n",
    "sc = StandardScaler()\n",
    "X_train = sc.fit_transform(X_train)\n",
    "X_test = sc.fit_transform(X_test)\n",
    "\n",
    "# PCA + RandomForest\n",
    "from sklearn.decomposition import PCA\n",
    "pca = PCA(n_components = 2)\n",
    "X_train = pca.fit_transform(X_train)\n",
    "X_test = pca.transform(X_test)\n",
    "explained_variance = pca.explained_variance_ratio_\n",
    "\n",
    "# explained_variance\n",
    "\n",
    "classifier = RandomForestClassifier(n_estimators=100, random_state=0,criterion='entropy')\n",
    "classifier.fit(X_train, y_train)\n",
    "y_pred = (classifier.predict(X_test))\n",
    "\n",
    "cm = confusion_matrix(y_test, y_pred)\n",
    "print(cm)\n",
    "score(y_test, y_pred)"
   ]
  },
  {
   "cell_type": "markdown",
   "metadata": {},
   "source": [
    "## Logistic Regression"
   ]
  },
  {
   "cell_type": "code",
   "execution_count": 26,
   "metadata": {},
   "outputs": [
    {
     "name": "stdout",
     "output_type": "stream",
     "text": [
      "[[1428  141    9]\n",
      " [ 353  206   13]\n",
      " [ 117   99   14]]\n"
     ]
    },
    {
     "name": "stderr",
     "output_type": "stream",
     "text": [
      "/Users/mohamedmartino/opt/anaconda3/lib/python3.7/site-packages/sklearn/linear_model/logistic.py:432: FutureWarning: Default solver will be changed to 'lbfgs' in 0.22. Specify a solver to silence this warning.\n",
      "  FutureWarning)\n",
      "/Users/mohamedmartino/opt/anaconda3/lib/python3.7/site-packages/sklearn/linear_model/logistic.py:469: FutureWarning: Default multi_class will be changed to 'auto' in 0.22. Specify the multi_class option to silence this warning.\n",
      "  \"this warning.\", FutureWarning)\n"
     ]
    },
    {
     "data": {
      "text/plain": [
       "0.692436974789916"
      ]
     },
     "execution_count": 26,
     "metadata": {},
     "output_type": "execute_result"
    }
   ],
   "source": [
    "from sklearn.model_selection import train_test_split\n",
    "X_train, X_test, y_train, y_test = train_test_split(X,y,stratify=y, train_size=0.8)\n",
    "\n",
    "from sklearn.preprocessing import StandardScaler\n",
    "sc = StandardScaler()\n",
    "X_train = sc.fit_transform(X_train)\n",
    "X_test = sc.fit_transform(X_test)\n",
    "\n",
    "# from sklearn.linear_model import LogisticRegression\n",
    "# pca = PCA(n_components = 2)\n",
    "# X_train = pca.fit_transform(X_train)\n",
    "# X_test = pca.transform(X_test)\n",
    "# explained_variance = pca.explained_variance_ratio_\n",
    "\n",
    "# explained_variance\n",
    "from sklearn.linear_model import LogisticRegression\n",
    "\n",
    "classifier = LogisticRegression(random_state=0)\n",
    "classifier.fit(X_train, y_train)\n",
    "y_pred = classifier.predict(X_test)\n",
    "\n",
    "cm = confusion_matrix(y_test, y_pred)\n",
    "print(cm)\n",
    "score(y_test, y_pred)"
   ]
  },
  {
   "cell_type": "markdown",
   "metadata": {},
   "source": [
    "## PCA + Logistic Regression"
   ]
  },
  {
   "cell_type": "code",
   "execution_count": 27,
   "metadata": {},
   "outputs": [
    {
     "name": "stdout",
     "output_type": "stream",
     "text": [
      "[[1452  126    0]\n",
      " [ 429  141    2]\n",
      " [ 159   71    0]]\n"
     ]
    },
    {
     "name": "stderr",
     "output_type": "stream",
     "text": [
      "/Users/mohamedmartino/opt/anaconda3/lib/python3.7/site-packages/sklearn/linear_model/logistic.py:432: FutureWarning: Default solver will be changed to 'lbfgs' in 0.22. Specify a solver to silence this warning.\n",
      "  FutureWarning)\n",
      "/Users/mohamedmartino/opt/anaconda3/lib/python3.7/site-packages/sklearn/linear_model/logistic.py:469: FutureWarning: Default multi_class will be changed to 'auto' in 0.22. Specify the multi_class option to silence this warning.\n",
      "  \"this warning.\", FutureWarning)\n"
     ]
    },
    {
     "data": {
      "text/plain": [
       "0.6693277310924369"
      ]
     },
     "execution_count": 27,
     "metadata": {},
     "output_type": "execute_result"
    }
   ],
   "source": [
    "# PCA + Logistic Regression\n",
    "from sklearn.model_selection import train_test_split\n",
    "X_train, X_test, y_train, y_test = train_test_split(X,y,stratify=y, train_size=0.8)\n",
    "\n",
    "from sklearn.preprocessing import StandardScaler\n",
    "sc = StandardScaler()\n",
    "X_train = sc.fit_transform(X_train)\n",
    "X_test = sc.fit_transform(X_test)\n",
    "\n",
    "from sklearn.linear_model import LogisticRegression\n",
    "pca = PCA(n_components = 2)\n",
    "X_train = pca.fit_transform(X_train)\n",
    "X_test = pca.transform(X_test)\n",
    "explained_variance = pca.explained_variance_ratio_\n",
    "\n",
    "# explained_variance\n",
    "\n",
    "classifier = LogisticRegression(random_state=0)\n",
    "classifier.fit(X_train, y_train)\n",
    "y_pred = classifier.predict(X_test)\n",
    "\n",
    "cm = confusion_matrix(y_test, y_pred)\n",
    "print(cm)\n",
    "score(y_test, y_pred)"
   ]
  },
  {
   "cell_type": "code",
   "execution_count": 23,
   "metadata": {},
   "outputs": [
    {
     "name": "stderr",
     "output_type": "stream",
     "text": [
      "'c' argument looks like a single numeric RGB or RGBA sequence, which should be avoided as value-mapping will have precedence in case its length matches with 'x' & 'y'.  Please use a 2-D array with a single row if you really want to specify the same RGB or RGBA value for all points.\n",
      "'c' argument looks like a single numeric RGB or RGBA sequence, which should be avoided as value-mapping will have precedence in case its length matches with 'x' & 'y'.  Please use a 2-D array with a single row if you really want to specify the same RGB or RGBA value for all points.\n",
      "'c' argument looks like a single numeric RGB or RGBA sequence, which should be avoided as value-mapping will have precedence in case its length matches with 'x' & 'y'.  Please use a 2-D array with a single row if you really want to specify the same RGB or RGBA value for all points.\n"
     ]
    },
    {
     "data": {
      "image/png": "[encoded data removed]",
      "text/plain": [
       "<Figure size 432x288 with 1 Axes>"
      ]
     },
     "metadata": {
      "needs_background": "light"
     },
     "output_type": "display_data"
    }
   ],
   "source": [
    "# Visualising the Training set results\n",
    "from matplotlib.colors import ListedColormap\n",
    "X_set, y_set = X_train, y_train\n",
    "X1, X2 = np.meshgrid(np.arange(start = X_set[:, 0].min() - 1, stop = X_set[:, 0].max() + 1, step = 0.01),\n",
    "                     np.arange(start = X_set[:, 1].min() - 1, stop = X_set[:, 1].max() + 1, step = 0.01))\n",
    "plt.contourf(X1, X2, classifier.predict(np.array([X1.ravel(), X2.ravel()]).T).reshape(X1.shape),\n",
    "             alpha = 0.75, cmap = ListedColormap(('red', 'green', 'blue')))\n",
    "plt.xlim(X1.min(), X1.max())\n",
    "plt.ylim(X2.min(), X2.max())\n",
    "for i, j in enumerate(np.unique(y_set)):\n",
    "    plt.scatter(X_set[y_set == j, 0], X_set[y_set == j, 1],\n",
    "                c = ListedColormap(('red', 'green', 'blue'))(i), label = j)\n",
    "plt.title('Logistic Regression (Training set)')\n",
    "plt.xlabel('PC1')\n",
    "plt.ylabel('PC2')\n",
    "plt.legend()\n",
    "plt.show()"
   ]
  },
  {
   "cell_type": "markdown",
   "metadata": {},
   "source": [
    "## Naive Bayes"
   ]
  },
  {
   "cell_type": "code",
   "execution_count": 28,
   "metadata": {},
   "outputs": [
    {
     "name": "stdout",
     "output_type": "stream",
     "text": [
      "[[1274  244   60]\n",
      " [ 273  223   76]\n",
      " [  77   96   57]]\n"
     ]
    },
    {
     "data": {
      "text/plain": [
       "0.6529411764705882"
      ]
     },
     "execution_count": 28,
     "metadata": {},
     "output_type": "execute_result"
    }
   ],
   "source": [
    "# PCA + Logistic Regression\n",
    "from sklearn.model_selection import train_test_split\n",
    "X_train, X_test, y_train, y_test = train_test_split(X,y,stratify=y, train_size=0.8)\n",
    "\n",
    "from sklearn.preprocessing import StandardScaler\n",
    "sc = StandardScaler()\n",
    "X_train = sc.fit_transform(X_train)\n",
    "X_test = sc.fit_transform(X_test)\n",
    "\n",
    "# from sklearn.linear_model import LogisticRegression\n",
    "# pca = PCA(n_components = 2)\n",
    "# X_train = pca.fit_transform(X_train)\n",
    "# X_test = pca.transform(X_test)\n",
    "# explained_variance = pca.explained_variance_ratio_\n",
    "\n",
    "# explained_variance\n",
    "from sklearn.naive_bayes import GaussianNB\n",
    "classifier = GaussianNB()\n",
    "classifier.fit(X_train, y_train)\n",
    "y_pred = classifier.predict(X_test)\n",
    "\n",
    "cm = confusion_matrix(y_test, y_pred)\n",
    "print(cm)\n",
    "score(y_test, y_pred)"
   ]
  },
  {
   "cell_type": "markdown",
   "metadata": {},
   "source": [
    "## Naive Bayes + PCA"
   ]
  },
  {
   "cell_type": "code",
   "execution_count": 30,
   "metadata": {},
   "outputs": [
    {
     "name": "stdout",
     "output_type": "stream",
     "text": [
      "[[1446  132    0]\n",
      " [ 447  125    0]\n",
      " [ 168   62    0]]\n"
     ]
    },
    {
     "data": {
      "text/plain": [
       "0.6600840336134454"
      ]
     },
     "execution_count": 30,
     "metadata": {},
     "output_type": "execute_result"
    }
   ],
   "source": [
    "# PCA + Logistic Regression\n",
    "from sklearn.model_selection import train_test_split\n",
    "X_train, X_test, y_train, y_test = train_test_split(X,y,stratify=y, train_size=0.8)\n",
    "\n",
    "from sklearn.preprocessing import StandardScaler\n",
    "sc = StandardScaler()\n",
    "X_train = sc.fit_transform(X_train)\n",
    "X_test = sc.fit_transform(X_test)\n",
    "\n",
    "from sklearn.linear_model import LogisticRegression\n",
    "pca = PCA(n_components = 2)\n",
    "X_train = pca.fit_transform(X_train)\n",
    "X_test = pca.transform(X_test)\n",
    "explained_variance = pca.explained_variance_ratio_\n",
    "\n",
    "# explained_variance\n",
    "from sklearn.naive_bayes import GaussianNB\n",
    "classifier = GaussianNB()\n",
    "classifier.fit(X_train, y_train)\n",
    "y_pred = classifier.predict(X_test)\n",
    "\n",
    "cm = confusion_matrix(y_test, y_pred)\n",
    "print(cm)\n",
    "score(y_test, y_pred)"
   ]
  },
  {
   "cell_type": "markdown",
   "metadata": {},
   "source": [
    "## SVM"
   ]
  },
  {
   "cell_type": "code",
   "execution_count": 31,
   "metadata": {},
   "outputs": [
    {
     "name": "stdout",
     "output_type": "stream",
     "text": [
      "[[1516   62    0]\n",
      " [ 467  105    0]\n",
      " [ 154   76    0]]\n"
     ]
    },
    {
     "data": {
      "text/plain": [
       "0.6810924369747899"
      ]
     },
     "execution_count": 31,
     "metadata": {},
     "output_type": "execute_result"
    }
   ],
   "source": [
    "# PCA + Logistic Regression\n",
    "from sklearn.model_selection import train_test_split\n",
    "X_train, X_test, y_train, y_test = train_test_split(X,y,stratify=y, train_size=0.8)\n",
    "\n",
    "from sklearn.preprocessing import StandardScaler\n",
    "sc = StandardScaler()\n",
    "X_train = sc.fit_transform(X_train)\n",
    "X_test = sc.fit_transform(X_test)\n",
    "\n",
    "# from sklearn.linear_model import LogisticRegression\n",
    "# pca = PCA(n_components = 2)\n",
    "# X_train = pca.fit_transform(X_train)\n",
    "# X_test = pca.transform(X_test)\n",
    "# explained_variance = pca.explained_variance_ratio_\n",
    "\n",
    "# explained_variance\n",
    "from sklearn.svm import SVC\n",
    "classifier = SVC(kernel='linear', random_state=0)\n",
    "classifier.fit(X_train, y_train)\n",
    "y_pred = classifier.predict(X_test)\n",
    "\n",
    "cm = confusion_matrix(y_test, y_pred)\n",
    "print(cm)\n",
    "score(y_test, y_pred)"
   ]
  },
  {
   "cell_type": "markdown",
   "metadata": {},
   "source": [
    "## PCA + SVM"
   ]
  },
  {
   "cell_type": "code",
   "execution_count": 32,
   "metadata": {},
   "outputs": [
    {
     "name": "stdout",
     "output_type": "stream",
     "text": [
      "[[1578    0    0]\n",
      " [ 572    0    0]\n",
      " [ 230    0    0]]\n"
     ]
    },
    {
     "data": {
      "text/plain": [
       "0.6630252100840336"
      ]
     },
     "execution_count": 32,
     "metadata": {},
     "output_type": "execute_result"
    }
   ],
   "source": [
    "# PCA + Logistic Regression\n",
    "from sklearn.model_selection import train_test_split\n",
    "X_train, X_test, y_train, y_test = train_test_split(X,y,stratify=y, train_size=0.8)\n",
    "\n",
    "from sklearn.preprocessing import StandardScaler\n",
    "sc = StandardScaler()\n",
    "X_train = sc.fit_transform(X_train)\n",
    "X_test = sc.fit_transform(X_test)\n",
    "\n",
    "from sklearn.linear_model import LogisticRegression\n",
    "pca = PCA(n_components = 2)\n",
    "X_train = pca.fit_transform(X_train)\n",
    "X_test = pca.transform(X_test)\n",
    "# explained_variance = pca.explained_variance_ratio_\n",
    "\n",
    "# explained_variance\n",
    "from sklearn.svm import SVC\n",
    "classifier = SVC(kernel='linear', random_state=0)\n",
    "classifier.fit(X_train, y_train)\n",
    "y_pred = classifier.predict(X_test)\n",
    "\n",
    "cm = confusion_matrix(y_test, y_pred)\n",
    "print(cm)\n",
    "score(y_test, y_pred)"
   ]
  },
  {
   "cell_type": "markdown",
   "metadata": {},
   "source": [
    "## Neural Network"
   ]
  },
  {
   "cell_type": "code",
   "execution_count": 34,
   "metadata": {},
   "outputs": [
    {
     "name": "stderr",
     "output_type": "stream",
     "text": [
      "/Users/mohamedmartino/opt/anaconda3/lib/python3.7/site-packages/ipykernel_launcher.py:19: UserWarning: Update your `Dense` call to the Keras 2 API: `Dense(activation=\"relu\", input_dim=7, units=8, kernel_initializer=\"uniform\")`\n",
      "/Users/mohamedmartino/opt/anaconda3/lib/python3.7/site-packages/ipykernel_launcher.py:22: UserWarning: Update your `Dense` call to the Keras 2 API: `Dense(activation=\"relu\", units=8, kernel_initializer=\"uniform\")`\n",
      "/Users/mohamedmartino/opt/anaconda3/lib/python3.7/site-packages/ipykernel_launcher.py:25: UserWarning: Update your `Dense` call to the Keras 2 API: `Dense(activation=\"sigmoid\", units=1, kernel_initializer=\"uniform\")`\n"
     ]
    },
    {
     "name": "stdout",
     "output_type": "stream",
     "text": [
      "Epoch 1/100\n",
      "8330/8330 [==============================] - 0s 42us/step - loss: 0.5977 - accuracy: 0.6697\n",
      "Epoch 2/100\n",
      "8330/8330 [==============================] - 0s 28us/step - loss: 0.4226 - accuracy: 0.6552\n",
      "Epoch 3/100\n",
      "8330/8330 [==============================] - 0s 31us/step - loss: 0.3757 - accuracy: 0.6639\n",
      "Epoch 4/100\n",
      "8330/8330 [==============================] - 0s 27us/step - loss: 0.3595 - accuracy: 0.6676\n",
      "Epoch 5/100\n",
      "8330/8330 [==============================] - 0s 27us/step - loss: 0.3517 - accuracy: 0.6695\n",
      "Epoch 6/100\n",
      "8330/8330 [==============================] - 0s 27us/step - loss: 0.3457 - accuracy: 0.6707\n",
      "Epoch 7/100\n",
      "8330/8330 [==============================] - 0s 28us/step - loss: 0.3418 - accuracy: 0.6725\n",
      "Epoch 8/100\n",
      "8330/8330 [==============================] - 0s 28us/step - loss: 0.3384 - accuracy: 0.6708\n",
      "Epoch 9/100\n",
      "8330/8330 [==============================] - 0s 26us/step - loss: 0.3353 - accuracy: 0.6720\n",
      "Epoch 10/100\n",
      "8330/8330 [==============================] - 0s 28us/step - loss: 0.3319 - accuracy: 0.6748\n",
      "Epoch 11/100\n",
      "8330/8330 [==============================] - 0s 27us/step - loss: 0.3295 - accuracy: 0.6748\n",
      "Epoch 12/100\n",
      "8330/8330 [==============================] - 0s 28us/step - loss: 0.3242 - accuracy: 0.6766\n",
      "Epoch 13/100\n",
      "8330/8330 [==============================] - 0s 26us/step - loss: 0.3209 - accuracy: 0.6789\n",
      "Epoch 14/100\n",
      "8330/8330 [==============================] - 0s 28us/step - loss: 0.3172 - accuracy: 0.6800\n",
      "Epoch 15/100\n",
      "8330/8330 [==============================] - 0s 27us/step - loss: 0.3119 - accuracy: 0.6806\n",
      "Epoch 16/100\n",
      "8330/8330 [==============================] - 0s 29us/step - loss: 0.3077 - accuracy: 0.6806\n",
      "Epoch 17/100\n",
      "8330/8330 [==============================] - 0s 27us/step - loss: 0.2993 - accuracy: 0.6801\n",
      "Epoch 18/100\n",
      "8330/8330 [==============================] - 0s 28us/step - loss: 0.2940 - accuracy: 0.6792\n",
      "Epoch 19/100\n",
      "8330/8330 [==============================] - 0s 29us/step - loss: 0.2881 - accuracy: 0.6798\n",
      "Epoch 20/100\n",
      "8330/8330 [==============================] - 0s 27us/step - loss: 0.2779 - accuracy: 0.6788\n",
      "Epoch 21/100\n",
      "8330/8330 [==============================] - 0s 27us/step - loss: 0.2703 - accuracy: 0.6798\n",
      "Epoch 22/100\n",
      "8330/8330 [==============================] - 0s 29us/step - loss: 0.2601 - accuracy: 0.6794\n",
      "Epoch 23/100\n",
      "8330/8330 [==============================] - 0s 28us/step - loss: 0.2484 - accuracy: 0.6797\n",
      "Epoch 24/100\n",
      "8330/8330 [==============================] - 0s 27us/step - loss: 0.2367 - accuracy: 0.6814\n",
      "Epoch 25/100\n",
      "8330/8330 [==============================] - 0s 31us/step - loss: 0.2241 - accuracy: 0.6802\n",
      "Epoch 26/100\n",
      "8330/8330 [==============================] - 0s 30us/step - loss: 0.2081 - accuracy: 0.6798\n",
      "Epoch 27/100\n",
      "8330/8330 [==============================] - 0s 28us/step - loss: 0.1940 - accuracy: 0.6815\n",
      "Epoch 28/100\n",
      "8330/8330 [==============================] - 0s 27us/step - loss: 0.1758 - accuracy: 0.6797\n",
      "Epoch 29/100\n",
      "8330/8330 [==============================] - 0s 30us/step - loss: 0.1593 - accuracy: 0.6834\n",
      "Epoch 30/100\n",
      "8330/8330 [==============================] - 0s 30us/step - loss: 0.1368 - accuracy: 0.6796\n",
      "Epoch 31/100\n",
      "8330/8330 [==============================] - 0s 29us/step - loss: 0.1142 - accuracy: 0.6809\n",
      "Epoch 32/100\n",
      "8330/8330 [==============================] - 0s 32us/step - loss: 0.0894 - accuracy: 0.6809\n",
      "Epoch 33/100\n",
      "8330/8330 [==============================] - 0s 38us/step - loss: 0.0645 - accuracy: 0.6826\n",
      "Epoch 34/100\n",
      "8330/8330 [==============================] - 0s 35us/step - loss: 0.0379 - accuracy: 0.6822\n",
      "Epoch 35/100\n",
      "8330/8330 [==============================] - 0s 31us/step - loss: 0.0076 - accuracy: 0.6810\n",
      "Epoch 36/100\n",
      "8330/8330 [==============================] - 0s 35us/step - loss: -0.0262 - accuracy: 0.6815\n",
      "Epoch 37/100\n",
      "8330/8330 [==============================] - 0s 36us/step - loss: -0.0567 - accuracy: 0.6819\n",
      "Epoch 38/100\n",
      "8330/8330 [==============================] - 0s 35us/step - loss: -0.0961 - accuracy: 0.6825\n",
      "Epoch 39/100\n",
      "8330/8330 [==============================] - 0s 33us/step - loss: -0.1337 - accuracy: 0.6832\n",
      "Epoch 40/100\n",
      "8330/8330 [==============================] - 0s 38us/step - loss: -0.1715 - accuracy: 0.6844\n",
      "Epoch 41/100\n",
      "8330/8330 [==============================] - 0s 35us/step - loss: -0.2156 - accuracy: 0.6820\n",
      "Epoch 42/100\n",
      "8330/8330 [==============================] - 0s 35us/step - loss: -0.2645 - accuracy: 0.6842\n",
      "Epoch 43/100\n",
      "8330/8330 [==============================] - 0s 35us/step - loss: -0.3155 - accuracy: 0.6837\n",
      "Epoch 44/100\n",
      "8330/8330 [==============================] - 0s 33us/step - loss: -0.3657 - accuracy: 0.6842\n",
      "Epoch 45/100\n",
      "8330/8330 [==============================] - 0s 30us/step - loss: -0.4144 - accuracy: 0.6840\n",
      "Epoch 46/100\n",
      "8330/8330 [==============================] - 0s 34us/step - loss: -0.4764 - accuracy: 0.6845\n",
      "Epoch 47/100\n",
      "8330/8330 [==============================] - 0s 34us/step - loss: -0.5322 - accuracy: 0.6855\n",
      "Epoch 48/100\n",
      "8330/8330 [==============================] - 0s 32us/step - loss: -0.5980 - accuracy: 0.6844\n",
      "Epoch 49/100\n",
      "8330/8330 [==============================] - 0s 35us/step - loss: -0.6656 - accuracy: 0.6861\n",
      "Epoch 50/100\n",
      "8330/8330 [==============================] - 0s 36us/step - loss: -0.7389 - accuracy: 0.6869\n",
      "Epoch 51/100\n",
      "8330/8330 [==============================] - 0s 34us/step - loss: -0.8082 - accuracy: 0.6850\n",
      "Epoch 52/100\n",
      "8330/8330 [==============================] - 0s 35us/step - loss: -0.8819 - accuracy: 0.6856\n",
      "Epoch 53/100\n",
      "8330/8330 [==============================] - 0s 35us/step - loss: -0.9709 - accuracy: 0.6864\n",
      "Epoch 54/100\n",
      "8330/8330 [==============================] - 0s 30us/step - loss: -1.0552 - accuracy: 0.6866\n",
      "Epoch 55/100\n",
      "8330/8330 [==============================] - 0s 30us/step - loss: -1.1511 - accuracy: 0.6864\n",
      "Epoch 56/100\n",
      "8330/8330 [==============================] - 0s 34us/step - loss: -1.2395 - accuracy: 0.6868\n",
      "Epoch 57/100\n",
      "8330/8330 [==============================] - 0s 26us/step - loss: -1.3452 - accuracy: 0.6843\n",
      "Epoch 58/100\n",
      "8330/8330 [==============================] - 0s 36us/step - loss: -1.4480 - accuracy: 0.6839\n",
      "Epoch 59/100\n",
      "8330/8330 [==============================] - 0s 30us/step - loss: -1.5556 - accuracy: 0.6830\n",
      "Epoch 60/100\n",
      "8330/8330 [==============================] - 0s 31us/step - loss: -1.6670 - accuracy: 0.6856\n",
      "Epoch 61/100\n",
      "8330/8330 [==============================] - 0s 33us/step - loss: -1.7805 - accuracy: 0.6827\n",
      "Epoch 62/100\n",
      "8330/8330 [==============================] - 0s 30us/step - loss: -1.9016 - accuracy: 0.6824\n",
      "Epoch 63/100\n",
      "8330/8330 [==============================] - 0s 30us/step - loss: -2.0246 - accuracy: 0.6815\n",
      "Epoch 64/100\n",
      "8330/8330 [==============================] - 0s 27us/step - loss: -2.1527 - accuracy: 0.6818\n",
      "Epoch 65/100\n",
      "8330/8330 [==============================] - 0s 29us/step - loss: -2.2827 - accuracy: 0.6815\n",
      "Epoch 66/100\n",
      "8330/8330 [==============================] - 0s 30us/step - loss: -2.4333 - accuracy: 0.6822\n",
      "Epoch 67/100\n",
      "8330/8330 [==============================] - 0s 30us/step - loss: -2.5840 - accuracy: 0.6800\n",
      "Epoch 68/100\n",
      "8330/8330 [==============================] - 0s 29us/step - loss: -2.7358 - accuracy: 0.6779\n",
      "Epoch 69/100\n",
      "8330/8330 [==============================] - 0s 30us/step - loss: -2.8891 - accuracy: 0.6819\n",
      "Epoch 70/100\n",
      "8330/8330 [==============================] - 0s 31us/step - loss: -3.0456 - accuracy: 0.6809\n",
      "Epoch 71/100\n",
      "8330/8330 [==============================] - 0s 28us/step - loss: -3.2089 - accuracy: 0.6791\n",
      "Epoch 72/100\n",
      "8330/8330 [==============================] - 0s 29us/step - loss: -3.3837 - accuracy: 0.6802\n",
      "Epoch 73/100\n",
      "8330/8330 [==============================] - 0s 30us/step - loss: -3.5469 - accuracy: 0.6794\n",
      "Epoch 74/100\n",
      "8330/8330 [==============================] - 0s 28us/step - loss: -3.7242 - accuracy: 0.6790\n",
      "Epoch 75/100\n",
      "8330/8330 [==============================] - 0s 29us/step - loss: -3.9181 - accuracy: 0.6786\n",
      "Epoch 76/100\n",
      "8330/8330 [==============================] - 0s 28us/step - loss: -4.1040 - accuracy: 0.6782\n",
      "Epoch 77/100\n",
      "8330/8330 [==============================] - 0s 31us/step - loss: -4.2810 - accuracy: 0.6764\n",
      "Epoch 78/100\n"
     ]
    },
    {
     "name": "stdout",
     "output_type": "stream",
     "text": [
      "8330/8330 [==============================] - 0s 32us/step - loss: -4.4920 - accuracy: 0.6749\n",
      "Epoch 79/100\n",
      "8330/8330 [==============================] - 0s 28us/step - loss: -4.6993 - accuracy: 0.6783\n",
      "Epoch 80/100\n",
      "8330/8330 [==============================] - 0s 30us/step - loss: -4.8941 - accuracy: 0.6797\n",
      "Epoch 81/100\n",
      "8330/8330 [==============================] - 0s 29us/step - loss: -5.1035 - accuracy: 0.6766\n",
      "Epoch 82/100\n",
      "8330/8330 [==============================] - 0s 34us/step - loss: -5.3288 - accuracy: 0.6773\n",
      "Epoch 83/100\n",
      "8330/8330 [==============================] - 0s 27us/step - loss: -5.5685 - accuracy: 0.6790\n",
      "Epoch 84/100\n",
      "8330/8330 [==============================] - 0s 36us/step - loss: -5.7864 - accuracy: 0.6767\n",
      "Epoch 85/100\n",
      "8330/8330 [==============================] - 0s 38us/step - loss: -6.0436 - accuracy: 0.6752\n",
      "Epoch 86/100\n",
      "8330/8330 [==============================] - 0s 32us/step - loss: -6.2744 - accuracy: 0.6764\n",
      "Epoch 87/100\n",
      "8330/8330 [==============================] - 0s 33us/step - loss: -6.5414 - accuracy: 0.6762\n",
      "Epoch 88/100\n",
      "8330/8330 [==============================] - 0s 28us/step - loss: -6.7528 - accuracy: 0.6741\n",
      "Epoch 89/100\n",
      "8330/8330 [==============================] - 0s 32us/step - loss: -7.0395 - accuracy: 0.6765\n",
      "Epoch 90/100\n",
      "8330/8330 [==============================] - 0s 31us/step - loss: -7.3265 - accuracy: 0.6762\n",
      "Epoch 91/100\n",
      "8330/8330 [==============================] - 0s 29us/step - loss: -7.5990 - accuracy: 0.6750\n",
      "Epoch 92/100\n",
      "8330/8330 [==============================] - 0s 30us/step - loss: -7.9028 - accuracy: 0.6756\n",
      "Epoch 93/100\n",
      "8330/8330 [==============================] - 0s 30us/step - loss: -8.1861 - accuracy: 0.6742\n",
      "Epoch 94/100\n",
      "8330/8330 [==============================] - 0s 30us/step - loss: -8.4682 - accuracy: 0.6735\n",
      "Epoch 95/100\n",
      "8330/8330 [==============================] - 0s 29us/step - loss: -8.8000 - accuracy: 0.6741\n",
      "Epoch 96/100\n",
      "8330/8330 [==============================] - 0s 26us/step - loss: -9.1090 - accuracy: 0.6729\n",
      "Epoch 97/100\n",
      "8330/8330 [==============================] - 0s 30us/step - loss: -9.4181 - accuracy: 0.6752\n",
      "Epoch 98/100\n",
      "8330/8330 [==============================] - 0s 31us/step - loss: -9.7748 - accuracy: 0.6744\n",
      "Epoch 99/100\n",
      "8330/8330 [==============================] - 0s 29us/step - loss: -10.0848 - accuracy: 0.6735\n",
      "Epoch 100/100\n",
      "8330/8330 [==============================] - 0s 27us/step - loss: -10.4235 - accuracy: 0.6731\n"
     ]
    },
    {
     "data": {
      "text/plain": [
       "array([[1821,  516,    0],\n",
       "       [ 327,  577,    0],\n",
       "       [  66,  263,    0]])"
      ]
     },
     "execution_count": 34,
     "metadata": {},
     "output_type": "execute_result"
    }
   ],
   "source": [
    "from sklearn.model_selection import train_test_split\n",
    "X_train, X_test, y_train, y_test = train_test_split(X,y, train_size=0.7)\n",
    "\n",
    "from sklearn.preprocessing import StandardScaler\n",
    "sc = StandardScaler()\n",
    "X_train = sc.fit_transform(X_train)\n",
    "X_test = sc.fit_transform(X_test)\n",
    "\n",
    "#Importing Keras packages\n",
    "import keras\n",
    "from keras.models import Sequential\n",
    "from keras.layers import Dense\n",
    "\n",
    "\n",
    "#Initializing the ANN\n",
    "classifier = Sequential()\n",
    "\n",
    "#Adding the input layer and the first hidden layer\n",
    "classifier.add(Dense(output_dim=8,init='uniform',activation='relu',input_dim=7))\n",
    "\n",
    "#Adding the second hidden layer\n",
    "classifier.add(Dense(output_dim=8,init='uniform',activation='relu'))\n",
    "\n",
    "#Adding the output layer\n",
    "classifier.add(Dense(output_dim=1,init='uniform',activation='sigmoid'))\n",
    "\n",
    "#Making predictions and evaluating the model\n",
    "classifier.compile(optimizer='adam',loss='binary_crossentropy',metrics=['accuracy'])\n",
    "\n",
    "#Fit ANN to training set\n",
    "classifier.fit(X_train,y_train,epochs=100)\n",
    "\n",
    "#Predicting the test set results\n",
    "y_pred = classifier.predict(X_test)\n",
    "y_pred = (y_pred>0.5)\n",
    "\n",
    "from sklearn.metrics import confusion_matrix\n",
    "cm = confusion_matrix(y_test,y_pred)\n",
    "cm"
   ]
  },
  {
   "cell_type": "code",
   "execution_count": null,
   "metadata": {},
   "outputs": [],
   "source": []
  }
 ],
 "metadata": {
  "kernelspec": {
   "display_name": "Python (bootcamp)",
   "language": "python",
   "name": "bootcamp"
  },
  "language_info": {
   "codemirror_mode": {
    "name": "ipython",
    "version": 3
   },
   "file_extension": ".py",
   "mimetype": "text/x-python",
   "name": "python",
   "nbconvert_exporter": "python",
   "pygments_lexer": "ipython3",
   "version": "3.7.4"
  }
 },
 "nbformat": 4,
 "nbformat_minor": 2
}
